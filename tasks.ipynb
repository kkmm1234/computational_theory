{
 "cells": [
  {
   "cell_type": "markdown",
   "metadata": {},
   "source": [
    "# Computational Theory Tasks"
   ]
  },
  {
   "cell_type": "markdown",
   "metadata": {},
   "source": [
    "## Task 1: Binary Representations"
   ]
  },
  {
   "cell_type": "markdown",
   "metadata": {},
   "source": [
    "This task involves implementing four functions aimed to manipulate binary data. These functions are commonly used in cryptographic algorithms such as SHA-256, this is specified in **FIPS 180-4 (Secure Hash Standard)**"
   ]
  },
  {
   "cell_type": "markdown",
   "metadata": {},
   "source": [
    "---------------------------------------------------------------------------"
   ]
  },
  {
   "cell_type": "markdown",
   "metadata": {},
   "source": [
    "### 1. 'rotl(x, n=1)' \n",
    "This function rotates bits of a 32-bit unsigned integer 'x' to the left by 'n' places."
   ]
  },
  {
   "cell_type": "code",
   "execution_count": 240,
   "metadata": {},
   "outputs": [],
   "source": [
    "def rotl(x, n=1):\n",
    "    x &= 0xFFFFFFFF  #ensure x is a 32-bit unsigned integer\n",
    "    return ((x << n) | (x >> (32 - n))) & 0xFFFFFFFF #rotate left by n bits"
   ]
  },
  {
   "cell_type": "markdown",
   "metadata": {},
   "source": [
    "#### Step 1 Ensure x is a 32-bit unsigned integer.\n",
    "- 0xFFFFFFFF is the hexidecimal constant that represents a 32-bit mask.\n",
    "- The bitwise AND (&) operation ensures that x only has the lower 32 bits, preventing unexpected large numbers.\n",
    "#### Step 2 Rotate left by n bits\n",
    "- (x << n): Left shift moves bits n places to the left, filling with 0s, bits moved beyond 32nd bit are lost\n",
    "- (x >> (32 - n)): Right shift moves the lost bits back to rightmost positions \n",
    "- | : Bitwise OR combines the shifted values.\n",
    "### Step 3 Ensure Result is 32-bit\n",
    "- & 0xFFFFFFFF: This ensures result stays within 32-bit unsigned integer range"
   ]
  },
  {
   "cell_type": "markdown",
   "metadata": {},
   "source": [
    "---------------------------------------------------------------------------"
   ]
  },
  {
   "cell_type": "markdown",
   "metadata": {},
   "source": [
    "### 2. 'rotr(x n=1)'\n",
    "This function rotates bits of a 32-bit unsigned integer 'x' to the right 'n' places"
   ]
  },
  {
   "cell_type": "code",
   "execution_count": 241,
   "metadata": {},
   "outputs": [],
   "source": [
    "def rotr(x, n=1):\n",
    "    x &= 0xFFFFFFFF #ensure x is a 32-bit unsigned integer\n",
    "    return ((x >> n) | (x << (32 - n))) & 0xFFFFFFFF #rotate right by n bits"
   ]
  },
  {
   "cell_type": "markdown",
   "metadata": {},
   "source": [
    "#### Step 1 Ensure x is a 32-bit unsigned integer.\n",
    "- 0xFFFFFFFF is the hexidecimal constant that represents a 32-bit mask.\n",
    "- The bitwise AND (&) operation ensures that x only has the lower 32 bits, preventing unexpected large numbers.\n",
    "#### Step 2 Rotate right by n bits\n",
    "- (x >> n): Right shift moves bits n places to the right, filling with 0s, bits moved beyond 32nd bit are lost\n",
    "- (x << (32 - n)): Left shift moves the lost bits back to leftmost positions \n",
    "- | : Bitwise OR combines the shifted values.\n",
    "### Step 3 Ensure result is 32-bit\n",
    "- & 0xFFFFFFFF: This ensures result stays within 32-bit unsigned integer range"
   ]
  },
  {
   "cell_type": "markdown",
   "metadata": {},
   "source": [
    "---------------------------------------------------------------------------"
   ]
  },
  {
   "cell_type": "markdown",
   "metadata": {},
   "source": [
    "### 3. 'def ch(x, y, z)'\n",
    "This function chooses bits from y where x has bits set to 1, and bits from z where x has bits set to 0"
   ]
  },
  {
   "cell_type": "code",
   "execution_count": 242,
   "metadata": {},
   "outputs": [],
   "source": [
    "def ch(x, y, z):\n",
    "     #choose y if x is true(1), otherwise choose z if x is false(0)\n",
    "    return (x & y) ^ (~x & z)"
   ]
  },
  {
   "cell_type": "markdown",
   "metadata": {},
   "source": [
    "#### Step 1 Select y where x is 1\n",
    "- (x & y): Bitwise AND(&) ensures that only the bits where x is 1 are taken from y\n",
    "#### Step 2 Select z where x is 0\n",
    "- (~x & z): Bitwise NOT (~x) inverts bits in x, making the 1s to 0s and vice versa\n",
    "- Bitwise AND(&) with z ensures only bits were x was originally 0 can be taken form z\n",
    "#### Step 3 Combine results\n",
    "- (x & y) ^ (~x & z): Bitwise XOR(^) combines the two selections, ensuring bits from only one (y or z) is taken at each position"
   ]
  },
  {
   "cell_type": "markdown",
   "metadata": {},
   "source": [
    "---------------------------------------------------------------------------"
   ]
  },
  {
   "cell_type": "markdown",
   "metadata": {},
   "source": [
    "### 4. 'maj(x, y, z)'\n",
    "This function takes a majority vote of the bits in x, y and z. Output has 1 in position i if at least two of x, y, z have 1s in position i"
   ]
  },
  {
   "cell_type": "code",
   "execution_count": 243,
   "metadata": {},
   "outputs": [],
   "source": [
    "def maj(x, y, z):\n",
    "    #choose the majority of x, y, z\n",
    "    return (x & y) ^ (x & z) ^ (y & z)"
   ]
  },
  {
   "cell_type": "markdown",
   "metadata": {},
   "source": [
    "#### Step 1 Calculate the majority between x and y\n",
    "- (x & y): Bitwise AND(&) between x and y give the bits where both x and y have 1 in the same position\n",
    "- This operation shows a majority of the two bits at each position\n",
    "#### Step 2 Calculate the majority between x and z\n",
    "- (x & z): Bitwise AND(&) between x and z gives the bits where both x and z have 1 in the same position\n",
    "#### Step 3 Calculate the majority between y and z\n",
    "- (y & z): Bitwise AND(&) between y and z gives the bits where both x and z have 1 in the same position\n",
    "#### Step 4 Combine results with XOR(^)\n",
    "- (x & y) ^ (x & z) ^ (y & z): Bitwise XOR(^) combines the results of these three majoritys. The XOR operation ensures only the majority value of the three will be choosen\n",
    "- Eg. If two of the three bits are 1, the result will be 1 fot that bit position\n"
   ]
  },
  {
   "cell_type": "markdown",
   "metadata": {},
   "source": [
    "---------------------------------------------------------------------------"
   ]
  },
  {
   "cell_type": "markdown",
   "metadata": {},
   "source": [
    "### Test function\n",
    "Testing each Binary operation function using hexdecimal number representations"
   ]
  },
  {
   "cell_type": "code",
   "execution_count": 244,
   "metadata": {},
   "outputs": [
    {
     "name": "stdout",
     "output_type": "stream",
     "text": [
      "All test cases passed successfully\n"
     ]
    }
   ],
   "source": [
    "#test cases\n",
    "def test_binary_functions():\n",
    "    #test rotl using hexadecimal numbers\n",
    "    #0x01 = 0000 0001, 0x02 = 0000 0010\n",
    "    assert rotl(0x01, 1) == 0x02\n",
    "    #0x80000000 = 1000 0000 0000 0000 0000 0000 0000 0000, 0x00000001 = 0000 0000 0000 0000 0000 0000 0000 0001\n",
    "    assert rotl(0x80000000, 1) == 0x00000001\n",
    "    #0x12345678 = 0001 0010 0011 0100 0101 0110 0111 1000, 0x23456781 = 0010 0011 0100 0101 0110 0111 1000 0001 \n",
    "    assert rotl(0x12345678, 4) == 0x23456781\n",
    "\n",
    "    #test rotr using hexadecimal numbers\n",
    "    #0x01 = 0000 0001, 0x02 = 0000 0010\n",
    "    assert rotr(0x02, 1) == 0x01\n",
    "    #0x80000000 = 1000 0000 0000 0000 0000 0000 0000 0000, 0x00000001 = 0000 0000 0000 0000 0000\n",
    "    assert rotr(0x00000001, 1) == 0x80000000\n",
    "    #0x12345678 = 0001 0010 0011 0100 0101 0110 0111 1000, 0x81234567 = 1000 0001 0010 0011 0100 0101 0110 0111\n",
    "    assert rotr(0x12345678, 4) == 0x81234567\n",
    "\n",
    "    #test ch using hexadecimal numbers(simple examples)\n",
    "    #0xFFFFFFFF = 1111 1111 1111 1111 1111 1111 1111 1111, 0xAAAAAAAA = 1010 1010 1010 1010 1010 1010 1010 1010, 0x55555555 = 0101 0101 0101 0101 0101 0101 0101 0101\n",
    "    assert ch(0xFFFFFFFF, 0xAAAAAAAA, 0x55555555) == 0xAAAAAAAA #x is all ones, so the result is y\n",
    "    #0x00000000 = 0000 0000 0000 0000 0000 0000 0000 0000, 0xAAAAAAAA = 1010 1010 1010 1010 1010 1010 1010 1010, 0x55555555 = 0101 0101 0101 0101 0101 0101 0101 0101\n",
    "    assert ch(0x00000000, 0xAAAAAAAA, 0x55555555) == 0x55555555 #x is all zeros, so the result is z\n",
    "    #0xF0F0F0F0 = 1111 0000 1111 0000 1111 0000 1111 0000, 0xAAAAAAAA = 1010 1010 1010 1010 1010 1010 1010 1010, 0x55555555 = 0101 0101 0101 0101 0101 0101 0101 0101\n",
    "    assert ch(0xF0F0F0F0, 0xAAAAAAAA, 0x55555555) == 0xA5A5A5A5 #0xA5A5A5A5 = 1010 0101 1010 0101 1010 0101 1010 0101 (combination of y and z as x is mixed)\n",
    "\n",
    "    #test maj using hexadecimal numbers (simple examples)\n",
    "    #0xFFFFFFFF = 1111 1111 1111 1111 1111 1111 1111 1111, 0x00000000 = 0000 0000 0000 0000 0000 0000 0000 0000\n",
    "    assert maj(0xFFFFFFFF, 0x00000000, 0x00000000) == 0x00000000 # majority is 0x00000000 so the result is 0x00000000\n",
    "    #0xFFFFFFFF = 1111 1111 1111 1111 1111 1111 1111 1111, 0x00000000 = 0000 0000 0000 0000 0000 0000 0000 0000\n",
    "    assert maj(0xFFFFFFFF, 0xFFFFFFFF, 0x00000000) == 0xFFFFFFFF # majority is 0xFFFFFFFF so the result is 0xFFFFFFFF\n",
    "    #0xFFFFFFFF = 1111 1111 1111 1111 1111 1111 1111 1111, 0xF0F0F0F0 = 1111 0000 1111 0000 1111 0000 1111 0000\n",
    "    assert maj(0xFFFFFFFF, 0xF0F0F0F0, 0xF0F0F0F0) == 0xF0F0F0F0 # majority is 0xF0F0F0F0 so the result is 0xF0F0F0F0\n",
    "\n",
    "    print(\"All test cases passed successfully\")\n",
    "\n",
    "test_binary_functions()"
   ]
  },
  {
   "cell_type": "markdown",
   "metadata": {},
   "source": [
    "---------------------------------------------------------------------------"
   ]
  },
  {
   "cell_type": "markdown",
   "metadata": {},
   "source": [
    "## Task 1 References:\n",
    "1. FIPS PUB 180-4: Secure Hash Standard (SHS) :https://nvlpubs.nist.gov/nistpubs/FIPS/NIST.FIPS.180-4.pdf  \n",
    "2. M. A. Hossain, M. M. Alam, and M. S. Alam, \"Cryptography Encryption Technique Using Circular Bit Rotation in Binary Field,\" 2020 IEEE Region 10 Symposium (TENSYMP), Dhaka, Bangladesh, 2020: https://ieeexplore.ieee.org/document/9197845/\n"
   ]
  },
  {
   "cell_type": "markdown",
   "metadata": {},
   "source": [
    "---------------------------------------------------------------------------"
   ]
  },
  {
   "cell_type": "markdown",
   "metadata": {},
   "source": [
    "## Task 2: Hash Functions"
   ]
  },
  {
   "cell_type": "markdown",
   "metadata": {},
   "source": [
    "## Task 3: SHA256"
   ]
  },
  {
   "cell_type": "markdown",
   "metadata": {},
   "source": [
    "## Task 4: Prime Numbers"
   ]
  },
  {
   "cell_type": "markdown",
   "metadata": {},
   "source": [
    "## Task 5: Roots"
   ]
  },
  {
   "cell_type": "markdown",
   "metadata": {},
   "source": [
    "## Task 6: Proof of Work"
   ]
  },
  {
   "cell_type": "markdown",
   "metadata": {},
   "source": [
    "## Task 7: Turing Machines"
   ]
  },
  {
   "cell_type": "markdown",
   "metadata": {},
   "source": [
    "## Task 8: Computational Complexity"
   ]
  },
  {
   "cell_type": "markdown",
   "metadata": {},
   "source": [
    "## End"
   ]
  }
 ],
 "metadata": {
  "kernelspec": {
   "display_name": "Python 3",
   "language": "python",
   "name": "python3"
  },
  "language_info": {
   "codemirror_mode": {
    "name": "ipython",
    "version": 3
   },
   "file_extension": ".py",
   "mimetype": "text/x-python",
   "name": "python",
   "nbconvert_exporter": "python",
   "pygments_lexer": "ipython3",
   "version": "3.12.1"
  }
 },
 "nbformat": 4,
 "nbformat_minor": 2
}
