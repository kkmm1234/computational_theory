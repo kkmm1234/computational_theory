{
 "cells": [
  {
   "cell_type": "code",
   "execution_count": 1,
   "metadata": {},
   "outputs": [],
   "source": [
    "import math\n",
    "import time\n",
    "import hashlib\n",
    "import itertools"
   ]
  },
  {
   "cell_type": "markdown",
   "metadata": {},
   "source": [
    "# Computational Theory Tasks"
   ]
  },
  {
   "cell_type": "markdown",
   "metadata": {},
   "source": [
    "## Task 1: Binary Representations"
   ]
  },
  {
   "cell_type": "markdown",
   "metadata": {},
   "source": [
    "This task involves implementing four functions aimed to manipulate binary data, this is fundemental to many crythographic algorithms. Bitwise Operations allow for the manipulation of individual bits of data, these operations are applied directly to binary representations of numbers.  In cryptography bitwise operations are used to ensure confusion and diffusion in data.  Some common uses of these operations are in Hash functions, Encryption algorithms, Blockchain aswell as many others.[[1]](https://nvlpubs.nist.gov/nistpubs/FIPS/NIST.FIPS.180-4.pdf)"
   ]
  },
  {
   "cell_type": "markdown",
   "metadata": {},
   "source": [
    "---------------------------------------------------------------------------"
   ]
  },
  {
   "cell_type": "markdown",
   "metadata": {},
   "source": [
    "### 1. 'rotl(x, n=1)' \n",
    "This function rotates bits of a 32-bit unsigned integer 'x' to the left by 'n' places this is effectively shifting bits and wrapping the leftmost bits back into the rightmost position. The most common use for these functions are in crypographic hash functions such as SHA-1 and SHA-256 to provide bitwise diffusion making it difficult to reverse hash.  They are also used in applications like cylic buffers or rotating registers in hardware.[[3]](https://www.geeksforgeeks.org/rotate-bits-of-an-integer/)"
   ]
  },
  {
   "cell_type": "code",
   "execution_count": 2,
   "metadata": {},
   "outputs": [],
   "source": [
    "def rotl(x, n=1):\n",
    "    x &= 0xFFFFFFFF  #ensure x is a 32-bit unsigned integer\n",
    "    return ((x << n) | (x >> (32 - n))) & 0xFFFFFFFF #rotate left by n bits"
   ]
  },
  {
   "cell_type": "markdown",
   "metadata": {},
   "source": [
    "#### Step 1 Ensure x is a 32-bit unsigned integer.\n",
    "- `0xFFFFFFFF` is the hexidecimal constant that represents a 32-bit mask.\n",
    "\n",
    "- The bitwise AND (&) operation ensures that x only has the lower 32 bits, preventing unexpected large numbers.\n",
    "#### Step 2 Rotate left by n bits\n",
    "- `(x << n)` : Left shift moves bits n places to the left, filling with 0s, bits moved beyond 32nd bit are lost\n",
    "\n",
    "- `(x >> (32 - n))` : Right shift moves the lost bits back to rightmost positions \n",
    "\n",
    "- `|` : Bitwise OR combines the shifted values.\n",
    "### Step 3 Ensure Result is 32-bit\n",
    "- `& 0xFFFFFFFF` : This ensures result stays within 32-bit unsigned integer range  \n",
    "[[4]](https://realpython.com/python-bitwise-operators/) [[5]](https://www.linkedin.com/pulse/understanding-bitwise-operations-python-cryptography-hashing-woon-sm7ec/)"
   ]
  },
  {
   "cell_type": "code",
   "execution_count": 3,
   "metadata": {},
   "outputs": [
    {
     "name": "stdout",
     "output_type": "stream",
     "text": [
      "Original: 00000000000000000000000000000001\n",
      "Rotated Left 3 positions: 00000000000000000000000000001000\n"
     ]
    }
   ],
   "source": [
    "#example usage:\n",
    "x = 0b01\n",
    "n = 3\n",
    "result = rotl(x, n)\n",
    "print(f\"Original: {x:032b}\")\n",
    "print(f\"Rotated Left {n} positions: {result:032b}\")"
   ]
  },
  {
   "cell_type": "markdown",
   "metadata": {},
   "source": [
    "---------------------------------------------------------------------------"
   ]
  },
  {
   "cell_type": "markdown",
   "metadata": {},
   "source": [
    "### 2. 'rotr(x n=1)'\n",
    "This function rotates bits of a 32-bit unsigned integer 'x' to the right 'n' places this is effectively shifting bits and wrapping the rightmost bits back into the leftmost position. This is similar to the 'rotl' function with the same use cases.[[3]](https://www.geeksforgeeks.org/rotate-bits-of-an-integer/)"
   ]
  },
  {
   "cell_type": "code",
   "execution_count": 4,
   "metadata": {},
   "outputs": [],
   "source": [
    "def rotr(x, n=1):\n",
    "    x &= 0xFFFFFFFF #ensure x is a 32-bit unsigned integer\n",
    "    return ((x >> n) | (x << (32 - n))) & 0xFFFFFFFF #rotate right by n bits"
   ]
  },
  {
   "cell_type": "markdown",
   "metadata": {},
   "source": [
    "#### Step 1 Ensure x is a 32-bit unsigned integer.\n",
    "- `0xFFFFFFFF` is the hexidecimal constant that represents a 32-bit mask.\n",
    "\n",
    "- The bitwise AND (&) operation ensures that x only has the lower 32 bits, preventing unexpected large numbers.\n",
    "#### Step 2 Rotate right by n bits\n",
    "- `(x >> n)` : Right shift moves bits n places to the right, filling with 0s, bits moved beyond 32nd bit are lost\n",
    "\n",
    "- `(x << (32 - n))` : Left shift moves the lost bits back to leftmost positions \n",
    "\n",
    "- `|` : Bitwise OR combines the shifted values.\n",
    "### Step 3 Ensure result is 32-bit\n",
    "- `& 0xFFFFFFFF` : This ensures result stays within 32-bit unsigned integer range  \n",
    "[[4]](https://realpython.com/python-bitwise-operators/) [[5]](https://www.linkedin.com/pulse/understanding-bitwise-operations-python-cryptography-hashing-woon-sm7ec/)"
   ]
  },
  {
   "cell_type": "code",
   "execution_count": 5,
   "metadata": {},
   "outputs": [
    {
     "name": "stdout",
     "output_type": "stream",
     "text": [
      "Original: 00000000000000000000000000000001\n",
      "Rotated Right by 3 positions: 00100000000000000000000000000000\n"
     ]
    }
   ],
   "source": [
    "#example usage:\n",
    "x = 0b01\n",
    "n = 3\n",
    "result = rotr(x, n)\n",
    "print(f\"Original: {x:032b}\")\n",
    "print(f\"Rotated Right by {n} positions: {result:032b}\")"
   ]
  },
  {
   "cell_type": "markdown",
   "metadata": {},
   "source": [
    "---------------------------------------------------------------------------"
   ]
  },
  {
   "cell_type": "markdown",
   "metadata": {},
   "source": [
    "### 3. 'def ch(x, y, z)'\n",
    "This function chooses bits from two values: y and z, based off the corresponding bits in x. This works by choosing the corresponding bit in y if the x bit is 1; and choosing the bit corresponding bit in z if x is 0. This is a core compononent in the SHA-2(Secure Hash Algorithm) its used in the message schedule, it works with the bitwise operations to choose part of data from different sources based on values of x. Its also helps mix data from multiple sources to enhace unpredictability of cryptogrpahic transformations.[[1]](https://nvlpubs.nist.gov/nistpubs/FIPS/NIST.FIPS.180-4.pdf)"
   ]
  },
  {
   "cell_type": "code",
   "execution_count": 6,
   "metadata": {},
   "outputs": [],
   "source": [
    "def ch(x, y, z):\n",
    "     #choose y if x is true(1), otherwise choose z if x is false(0)\n",
    "    return (x & y) ^ (~x & z)"
   ]
  },
  {
   "cell_type": "markdown",
   "metadata": {},
   "source": [
    "#### Step 1 Select y where x is 1\n",
    "- `(x & y)` : Bitwise AND(&) ensures that only the bits where x is 1 are taken from y\n",
    "#### Step 2 Select z where x is 0\n",
    "- `(~x & z) `: Bitwise NOT (~x) inverts bits in x, making the 1s to 0s and vice versa\n",
    "\n",
    "- Bitwise AND(&) with z ensures only bits were x was originally 0 can be taken form z\n",
    "#### Step 3 Combine results\n",
    "- `(x & y) ^ (~x & z)` : Bitwise XOR(^) combines the two selections, ensuring bits from only one (y or z) is taken at each position   \n",
    "[[4]](https://realpython.com/python-bitwise-operators/) [[5]](https://www.linkedin.com/pulse/understanding-bitwise-operations-python-cryptography-hashing-woon-sm7ec/)"
   ]
  },
  {
   "cell_type": "code",
   "execution_count": 7,
   "metadata": {},
   "outputs": [
    {
     "name": "stdout",
     "output_type": "stream",
     "text": [
      "x: 1100, y: 1010, z: 0110\n",
      "ch(x, y, z): 1010\n"
     ]
    }
   ],
   "source": [
    "#example usage:\n",
    "x = 0b1100  \n",
    "y = 0b1010  \n",
    "z = 0b0110 \n",
    "result = ch(x, y, z)\n",
    "print(f\"x: {x:04b}, y: {y:04b}, z: {z:04b}\")\n",
    "print(f\"ch(x, y, z): {result:04b}\")"
   ]
  },
  {
   "cell_type": "markdown",
   "metadata": {},
   "source": [
    "---------------------------------------------------------------------------"
   ]
  },
  {
   "cell_type": "markdown",
   "metadata": {},
   "source": [
    "### 4. 'maj(x, y, z)'\n",
    "This function takes a majority vote of the bits in each position in x, y and z. Output has 1 in position i if at least two of x, y, z have 1s in position i otherwise the result is 0. This is commonly used in Cryptographic hash functions such as SHA-256 and ensures output is influenced by majority of bits, increasing diffusion, improving resistance to attacks. Its also used in certain Error correction Codes or correction schemes where majority of values are trusted, allowing erros to be flagged based on outliers.[[1]](https://nvlpubs.nist.gov/nistpubs/FIPS/NIST.FIPS.180-4.pdf)"
   ]
  },
  {
   "cell_type": "code",
   "execution_count": 8,
   "metadata": {},
   "outputs": [],
   "source": [
    "def maj(x, y, z):\n",
    "    #choose the majority of x, y, z\n",
    "    return (x & y) ^ (x & z) ^ (y & z)"
   ]
  },
  {
   "cell_type": "markdown",
   "metadata": {},
   "source": [
    "#### Step 1 Calculate the majority between x and y\n",
    "- `(x & y)` : Bitwise AND(&) between x and y give the bits where both x and y have 1 in the same position\n",
    "\n",
    "- This operation shows a majority of the two bits at each position\n",
    "#### Step 2 Calculate the majority between x and z\n",
    "- `(x & z)` : Bitwise AND(&) between x and z gives the bits where both x and z have 1 in the same position\n",
    "#### Step 3 Calculate the majority between y and z\n",
    "- `(y & z)` : Bitwise AND(&) between y and z gives the bits where both x and z have 1 in the same position\n",
    "#### Step 4 Combine results with XOR(^)\n",
    "- `(x & y) ^ (x & z) ^ (y & z)` : Bitwise XOR(^) combines the results of these three majoritys. The XOR operation ensures only the majority value of the three will be choosen\n",
    "\n",
    "- Eg. If two of the three bits are 1, the result will be 1 fot that bit position  \n",
    "[[4]](https://realpython.com/python-bitwise-operators/) [[5]](https://www.linkedin.com/pulse/understanding-bitwise-operations-python-cryptography-hashing-woon-sm7ec/)\n"
   ]
  },
  {
   "cell_type": "code",
   "execution_count": 9,
   "metadata": {},
   "outputs": [
    {
     "name": "stdout",
     "output_type": "stream",
     "text": [
      "x: 1100, y: 1010, z: 0110\n",
      "maj(x, y, z): 1110\n"
     ]
    }
   ],
   "source": [
    "#example usage:\n",
    "x = 0b1100  \n",
    "y = 0b1010  \n",
    "z = 0b0110 \n",
    "result = maj(x, y, z)\n",
    "print(f\"x: {x:04b}, y: {y:04b}, z: {z:04b}\")\n",
    "print(f\"maj(x, y, z): {result:04b}\")"
   ]
  },
  {
   "cell_type": "markdown",
   "metadata": {},
   "source": [
    "---------------------------------------------------------------------------"
   ]
  },
  {
   "cell_type": "markdown",
   "metadata": {},
   "source": [
    "### Test function\n",
    "Testing each Binary operation function using hexdecimal number representations"
   ]
  },
  {
   "cell_type": "code",
   "execution_count": 10,
   "metadata": {},
   "outputs": [
    {
     "name": "stdout",
     "output_type": "stream",
     "text": [
      "All test cases passed successfully\n"
     ]
    }
   ],
   "source": [
    "#test cases\n",
    "def test_binary_functions():\n",
    "    #test rotl using hexadecimal numbers\n",
    "    #0x01 = 0000 0001, 0x02 = 0000 0010\n",
    "    assert rotl(0x01, 1) == 0x02\n",
    "    #0x80000000 = 1000 0000 0000 0000 0000 0000 0000 0000, 0x00000001 = 0000 0000 0000 0000 0000 0000 0000 0001\n",
    "    assert rotl(0x80000000, 1) == 0x00000001\n",
    "    #0x12345678 = 0001 0010 0011 0100 0101 0110 0111 1000, 0x23456781 = 0010 0011 0100 0101 0110 0111 1000 0001 \n",
    "    assert rotl(0x12345678, 4) == 0x23456781\n",
    "\n",
    "    #test rotr using hexadecimal numbers\n",
    "    #0x01 = 0000 0001, 0x02 = 0000 0010\n",
    "    assert rotr(0x02, 1) == 0x01\n",
    "    #0x80000000 = 1000 0000 0000 0000 0000 0000 0000 0000, 0x00000001 = 0000 0000 0000 0000 0000\n",
    "    assert rotr(0x00000001, 1) == 0x80000000\n",
    "    #0x12345678 = 0001 0010 0011 0100 0101 0110 0111 1000, 0x81234567 = 1000 0001 0010 0011 0100 0101 0110 0111\n",
    "    assert rotr(0x12345678, 4) == 0x81234567\n",
    "\n",
    "    #test ch using hexadecimal numbers\n",
    "    #0xFFFFFFFF = 1111 1111 1111 1111 1111 1111 1111 1111, 0xAAAAAAAA = 1010 1010 1010 1010 1010 1010 1010 1010, 0x55555555 = 0101 0101 0101 0101 0101 0101 0101 0101\n",
    "    assert ch(0xFFFFFFFF, 0xAAAAAAAA, 0x55555555) == 0xAAAAAAAA #x is all ones, so the result is y\n",
    "    #0x00000000 = 0000 0000 0000 0000 0000 0000 0000 0000, 0xAAAAAAAA = 1010 1010 1010 1010 1010 1010 1010 1010, 0x55555555 = 0101 0101 0101 0101 0101 0101 0101 0101\n",
    "    assert ch(0x00000000, 0xAAAAAAAA, 0x55555555) == 0x55555555 #x is all zeros, so the result is z\n",
    "    #0xF0F0F0F0 = 1111 0000 1111 0000 1111 0000 1111 0000, 0xAAAAAAAA = 1010 1010 1010 1010 1010 1010 1010 1010, 0x55555555 = 0101 0101 0101 0101 0101 0101 0101 0101\n",
    "    assert ch(0xF0F0F0F0, 0xAAAAAAAA, 0x55555555) == 0xA5A5A5A5 #0xA5A5A5A5 = 1010 0101 1010 0101 1010 0101 1010 0101 (combination of y and z as x is mixed)\n",
    "\n",
    "    #test maj using hexadecimal numbers\n",
    "    #0xFFFFFFFF = 1111 1111 1111 1111 1111 1111 1111 1111, 0x00000000 = 0000 0000 0000 0000 0000 0000 0000 0000\n",
    "    assert maj(0xFFFFFFFF, 0x00000000, 0x00000000) == 0x00000000 # majority is 0x00000000 so the result is 0x00000000\n",
    "    #0xFFFFFFFF = 1111 1111 1111 1111 1111 1111 1111 1111, 0x00000000 = 0000 0000 0000 0000 0000 0000 0000 0000\n",
    "    assert maj(0xFFFFFFFF, 0xFFFFFFFF, 0x00000000) == 0xFFFFFFFF # majority is 0xFFFFFFFF so the result is 0xFFFFFFFF\n",
    "    #0xFFFFFFFF = 1111 1111 1111 1111 1111 1111 1111 1111, 0xF0F0F0F0 = 1111 0000 1111 0000 1111 0000 1111 0000\n",
    "    assert maj(0xFFFFFFFF, 0xF0F0F0F0, 0xF0F0F0F0) == 0xF0F0F0F0 # majority is 0xF0F0F0F0 so the result is 0xF0F0F0F0\n",
    "\n",
    "    print(\"All test cases passed successfully\")\n",
    "\n",
    "test_binary_functions()"
   ]
  },
  {
   "cell_type": "markdown",
   "metadata": {},
   "source": [
    "---------------------------------------------------------------------------"
   ]
  },
  {
   "cell_type": "markdown",
   "metadata": {},
   "source": [
    "### Task 1 References:\n",
    "1. FIPS PUB 180-4: Secure Hash Standard (SHS) :https://nvlpubs.nist.gov/nistpubs/FIPS/NIST.FIPS.180-4.pdf  \n",
    "2. M. A. Hossain, M. M. Alam, and M. S. Alam, \"Cryptography Encryption Technique Using Circular Bit Rotation in Binary Field,\" 2020 IEEE Region 10 Symposium (TENSYMP), Dhaka, Bangladesh, 2020: https://ieeexplore.ieee.org/document/9197845/\n",
    "3. Rotate bits of a number: https://www.geeksforgeeks.org/rotate-bits-of-an-integer/\n",
    "4. RealPython: Bitwise operators in python: https://realpython.com/python-bitwise-operators/  \n",
    "5. Understanding Bitwise Operations in Python: Cryptography, Hashing, and Real-World Applications: https://www.linkedin.com/pulse/understanding-bitwise-operations-python-cryptography-hashing-woon-sm7ec/"
   ]
  },
  {
   "cell_type": "markdown",
   "metadata": {},
   "source": [
    "---------------------------------------------------------------------------"
   ]
  },
  {
   "cell_type": "markdown",
   "metadata": {},
   "source": [
    "## Task 2: Hash Functions"
   ]
  },
  {
   "cell_type": "markdown",
   "metadata": {},
   "source": [
    "### Polynomial Rolling Hash Function\n",
    "Hashing is common practice in the world of computer science used to map data, such as strings, to numerical values. A widely used approach for hasing strings is the polynomial rolling hash function.  \n",
    "This function is defined as:  \n",
    "$$H(s) = (s_1 \\times p^{(n-1)} + s_2 \\times p^{(n-2)} + ... + s_n \\times p^0) \\mod m$$\n",
    "\n",
    "- $H(s)$ is hash value of the string\n",
    "- $s1, s2, sn$ are ASCII values of characters in the string\n",
    "- $p$ is a prime base (commonly 31)\n",
    "- $m$ is the modulus value (commonly 101)\n",
    "- $n$ is the lenght of the string \n",
    "\n",
    "The Polynomial Rolling Hash Function has many use cases and is widely used in\n",
    "- String Matching Algorithms\n",
    "- Data Structures\n",
    "- Plagiarism Detection\n",
    "- Crypography  \n",
    "[[1]](https://www.geeksforgeeks.org/string-hashing-using-polynomial-rolling-hash-function) [[2]](https://cp-algorithms.com/string/string-hashing.html)"
   ]
  },
  {
   "cell_type": "code",
   "execution_count": 11,
   "metadata": {},
   "outputs": [],
   "source": [
    "def hash(s):\n",
    "    #initialise the hash function to 0\n",
    "    hashval = 0\n",
    "\n",
    "    #iterate over each character in the string\n",
    "    for c in s:\n",
    "        #compute hash using polynomial rolling hash function\n",
    "        hashval = ord(c) + 31 * hashval\n",
    "        print(f\"Character: {c}, Hash: {hashval}\")\n",
    "    \n",
    "    #apply modulo operation to keep hash within fixed range (0-100)\n",
    "    hashval =  hashval % 101\n",
    "\n",
    "    return f\"Final Hash Value: {hashval}\""
   ]
  },
  {
   "cell_type": "markdown",
   "metadata": {},
   "source": [
    "### Code Explanation"
   ]
  },
  {
   "cell_type": "markdown",
   "metadata": {},
   "source": [
    "- This variable will store the computed hash value, this will be happen as the function processes each charecter in the string."
   ]
  },
  {
   "cell_type": "code",
   "execution_count": 12,
   "metadata": {},
   "outputs": [],
   "source": [
    "hashval = 0"
   ]
  },
  {
   "cell_type": "markdown",
   "metadata": {},
   "source": [
    "### Polynomial Rolling Hash Calculation\n",
    "- This itereates over each charecter `c` in the string `s`. Each character in `s` contributes to the final hash.\n",
    "\n",
    "- `ord(c)`: Converts the character `c` into ASCII value.\n",
    "\n",
    "- `31 * hashval` : This takes the current hash and multiplies it by 31, this is a prime number commonly used for hash functions.\n",
    "\n",
    "- `ord(c) + 31 * hashval` : The full line adds the ASCII of the character to a scaled hash value, this is to ensure each character incluences the hash in differently depending on the characters position. [[4]](https://medium.com/%40ggaappuu1234/understanding-rolling-hash-a-key-component-in-string-matching-algorithms-83236d8c4a20)"
   ]
  },
  {
   "cell_type": "code",
   "execution_count": 13,
   "metadata": {},
   "outputs": [
    {
     "name": "stdout",
     "output_type": "stream",
     "text": [
      "Hash Value: 99162322\n"
     ]
    }
   ],
   "source": [
    "#string to be hashed\n",
    "s = \"hello\"\n",
    "\n",
    "#interate over each character in the hello\n",
    "for c in s:\n",
    "    #compute hash using polynomial rolling hash function\n",
    "    hashval = ord(c) + 31 * hashval\n",
    "\n",
    "print(f\"Hash Value: {hashval}\")"
   ]
  },
  {
   "cell_type": "markdown",
   "metadata": {},
   "source": [
    "### Modulo Operation (%101)\n",
    "- This aims to ensure the final hash is in a specified range (0-100)\n",
    "\n",
    "- This is to avoid faults like integer overflow, but also keeps the hash value compact.\n",
    "\n",
    "- The prime modulous (101) is used as it helps distribute hash values evenly, which helps reduce collisions. [[6]](https://codeforces.com/blog/entry/60442)"
   ]
  },
  {
   "cell_type": "code",
   "execution_count": 14,
   "metadata": {},
   "outputs": [
    {
     "data": {
      "text/plain": [
       "17"
      ]
     },
     "execution_count": 14,
     "metadata": {},
     "output_type": "execute_result"
    }
   ],
   "source": [
    "hashval % 101"
   ]
  },
  {
   "cell_type": "markdown",
   "metadata": {},
   "source": [
    "### Example of how function works:"
   ]
  },
  {
   "cell_type": "code",
   "execution_count": 15,
   "metadata": {},
   "outputs": [
    {
     "name": "stdout",
     "output_type": "stream",
     "text": [
      "Character: h, Hash: 104\n",
      "Character: e, Hash: 3325\n",
      "Character: l, Hash: 103183\n",
      "Character: l, Hash: 3198781\n",
      "Character: o, Hash: 99162322\n",
      "Final Hash Value: 17\n"
     ]
    }
   ],
   "source": [
    "print(hash(\"hello\"))"
   ]
  },
  {
   "cell_type": "markdown",
   "metadata": {},
   "source": [
    "Iterate over each charecter in hello applying rolling hash calculation:\n",
    "1. h (ASCII 104): hashval = 104\n",
    "2. e (ASCII 101): hashval = 101 + 31 x 104 = 3325\n",
    "3. l (ASCII 108): hashval = 108 + 31 x 3325 = 103183\n",
    "4. l (ASCII 108): hashval = 108 + 31 x 103183 = 3198781\n",
    "5. o (ASCII 111): hashval = 111 + 31 x 3198781 = 99162322\n",
    "\n",
    "Apply modulo operation:\n",
    "99162322 mod 101 = 17\n",
    "\n",
    "\"Hello\" = 17"
   ]
  },
  {
   "cell_type": "markdown",
   "metadata": {},
   "source": [
    "### Why use 31 as the Base?\n",
    "1. Efficient Computation:\n",
    "    - 31 is close to the powers of 2, this allows efficient multiplication and bitwise operations on many processors.\n",
    "2. Empirical Evidence:\n",
    "    - Many real-world applications use 31 due to it providing a good balance of speed and low collision probability.\n",
    "3. Prime Number Property:\n",
    "    - Prime numbers reduce chances of hash collisions occuring this is done by ensuring more uniform distribution of hash values [[6]](https://codeforces.com/blog/entry/60442)"
   ]
  },
  {
   "cell_type": "markdown",
   "metadata": {},
   "source": [
    "### Why use 101 as the Modulus?\n",
    "1. Prime Numbers Improve Hash Distribution:\n",
    "    - Prime modulus ensures values are distributed evenly this inturn reduces hash collisions\n",
    "2. Keeps Hash Values Compact:\n",
    "    - Modulo operations keep hash values in a range in this case that range is 0 -100 this makes it more efficient for hashing tables.[[3]](https://www.designgurus.io/answers/detail/why-should-hash-functions-use-a-prime-number-modulus)"
   ]
  },
  {
   "cell_type": "markdown",
   "metadata": {},
   "source": [
    "---------------------------------------------------------------------------"
   ]
  },
  {
   "cell_type": "markdown",
   "metadata": {},
   "source": [
    "### Task 2 References:\n",
    "1. String hasing using Polynomial rolling hash function: https://www.geeksforgeeks.org/string-hashing-using-polynomial-rolling-hash-function\n",
    "2. String hashing: https://cp-algorithms.com/string/string-hashing.html\n",
    "3. Why should hash functions use a prime number modulus?: https://www.designgurus.io/answers/detail/why-should-hash-functions-use-a-prime-number-modulus\n",
    "4. Understanding Rolling Hash: A Key Component in String Matching Algorithms: https://medium.com/%40ggaappuu1234/understanding-rolling-hash-a-key-component-in-string-matching-algorithms-83236d8c4a20\n",
    "5. Introduction to Rolling Hash – Data Structures and Algorithms: https://www.geeksforgeeks.org/introduction-to-rolling-hash-data-structures-and-algorithms/\n",
    "6. On the mathematics behind rolling hashes and anti-hash tests: https://codeforces.com/blog/entry/60442"
   ]
  },
  {
   "cell_type": "markdown",
   "metadata": {},
   "source": [
    "---------------------------------------------------------------------------"
   ]
  },
  {
   "cell_type": "markdown",
   "metadata": {},
   "source": [
    "## Task 3: SHA256"
   ]
  },
  {
   "cell_type": "markdown",
   "metadata": {},
   "source": [
    "SHA-256 is a cryptographic hash function that produces a 256 bit hash value, its part of the SHA-2 family designed by NSA and used as a federal standard(FIPS-180-4).[[1]](https://nvlpubs.nist.gov/nistpubs/FIPS/NIST.FIPS.180-4.pdf)"
   ]
  },
  {
   "cell_type": "markdown",
   "metadata": {},
   "source": [
    "### Why Padding is Necessary\n",
    "SHA-256 processes messages in 512 bit blocks. Messages must be padded to:\n",
    "- Create complete 512 bit blocks\n",
    "- Include the orignal message lenght\n",
    "- Ensure the hash is computationally infeasible to reverse [[5]](https://medium.com/@bajrang1081siyag/how-sha-256-works-4951088ab9f8)"
   ]
  },
  {
   "cell_type": "code",
   "execution_count": 16,
   "metadata": {},
   "outputs": [],
   "source": [
    "def sha256(file_path):\n",
    "    #read the file contents\n",
    "    with open(file_path, 'r') as f:\n",
    "        binary_content = f.read().replace(' ', '')\n",
    "    \n",
    "    #convert binary string to bytes\n",
    "    data = bytes(int(binary_content[i:i+8], 2) for i in range(0, len(binary_content), 8))\n",
    "    \n",
    "    #calculate original length in bits\n",
    "    orig_len = len(data) * 8\n",
    "    \n",
    "    #start padding by adding the 1 bit (0x80 in hex)\n",
    "    pad_data = data + b'\\x80'\n",
    "    \n",
    "    #calculate padding length to make total length\n",
    "    pad_len = (56 - (len(pad_data) % 64)) % 64\n",
    "    \n",
    "    #add zero padding\n",
    "    pad_data += b'\\x00' * pad_len\n",
    "    \n",
    "    #append original length as 64-bit big-endian unsigned integer\n",
    "    pad_data += orig_len.to_bytes(8, 'big')\n",
    "    \n",
    "    #print padding in hex\n",
    "    padding_hex = \" \".join(f\"{byte:02x}\" for byte in pad_data[len(data):])\n",
    "    print(padding_hex)\n",
    "    "
   ]
  },
  {
   "cell_type": "code",
   "execution_count": 17,
   "metadata": {},
   "outputs": [
    {
     "name": "stdout",
     "output_type": "stream",
     "text": [
      "80 00 00 00 00 00 00 00 00 00 00 00 00 00 00 00 00 00 00 00 00 00 00 00 00 00 00 00 00 00 00 00 00 00 00 00 00 00 00 00 00 00 00 00 00 00 00 00 00 00 00 00 00 00 00 00 00 00 00 00 18\n"
     ]
    }
   ],
   "source": [
    "file_path = \"test.txt\"\n",
    "sha256(file_path)"
   ]
  },
  {
   "cell_type": "markdown",
   "metadata": {},
   "source": [
    "### SHA-256 Padding Specification (FIPS-180-4)\n",
    "The padding process consists of 3 steps:\n",
    "#### Step 1: Append '1' bit\n",
    "add a single '1' bit to the end of the message\n",
    "- in byte format: 0x80 (100000000 in binary)\n",
    "#### Step 2: Append '0' bits\n",
    "Add enough 0 bits so the total lenght is congruent to 449 mod 512\n",
    "- This leaves exactly 64 bits for the lenght information\n",
    "- Formula: (448-(current_lenght + 1)) mod 512\n",
    "#### Step 3: Append lenght\n",
    "Add the orignal message lenght as a 64 bit big endian integer\n",
    "- Represents the lenght in bits\n",
    "- Allows messages up to 2^64 - 1 bits long"
   ]
  },
  {
   "cell_type": "markdown",
   "metadata": {},
   "source": [
    "### Code explanation"
   ]
  },
  {
   "cell_type": "code",
   "execution_count": 18,
   "metadata": {},
   "outputs": [
    {
     "name": "stdout",
     "output_type": "stream",
     "text": [
      "Step 1: Reading file contents\n",
      "Original Content: 01100001 01100010 01100011\n",
      "Binary Content: 011000010110001001100011\n"
     ]
    }
   ],
   "source": [
    "# Step 1: Read and Process File\n",
    "print(\"Step 1: Reading file contents\")\n",
    "#read the file contents\n",
    "with open(file_path, 'r') as f:\n",
    "    original_content = f.read()\n",
    "    binary_content = original_content.replace(' ', '')\n",
    "\n",
    "#convert to binary contents \n",
    "print (f\"Original Content: {original_content}\")\n",
    "print (f\"Binary Content: {binary_content}\")"
   ]
  },
  {
   "cell_type": "code",
   "execution_count": 19,
   "metadata": {},
   "outputs": [
    {
     "name": "stdout",
     "output_type": "stream",
     "text": [
      "Step 2: Converting binary string to bytes\n",
      "Binary: 01100001 -> Decimal: 97 -> Hex: 61\n",
      "Binary: 01100010 -> Decimal: 98 -> Hex: 62\n",
      "Binary: 01100011 -> Decimal: 99 -> Hex: 63\n"
     ]
    }
   ],
   "source": [
    "# Step 2: Convert Binary String to Bytes\n",
    "print(\"Step 2: Converting binary string to bytes\")\n",
    "data = bytes(int(binary_content[i:i+8], 2) for i in range(0, len(binary_content), 8))\n",
    "\n",
    "for i in range(0, len(binary_content), 8):\n",
    "    binary_chunk = binary_content[i:i+8]\n",
    "    byte_value = int(binary_chunk, 2)\n",
    "    print(f\"Binary: {binary_chunk} -> Decimal: {byte_value} -> Hex: {byte_value:02x}\")"
   ]
  },
  {
   "cell_type": "code",
   "execution_count": 20,
   "metadata": {},
   "outputs": [
    {
     "name": "stdout",
     "output_type": "stream",
     "text": [
      "Step 3: Calculating original length\n",
      "Data length: 3 bytes = 24 bits\n",
      "\n"
     ]
    }
   ],
   "source": [
    "# Step 3: Calculate Original Length\n",
    "print(\"Step 3: Calculating original length\")\n",
    "orig_len = len(data) * 8\n",
    "print(f\"Data length: {len(data)} bytes = {orig_len} bits\\n\")"
   ]
  },
  {
   "cell_type": "code",
   "execution_count": 21,
   "metadata": {},
   "outputs": [
    {
     "name": "stdout",
     "output_type": "stream",
     "text": [
      "Step 4: Adding '1' bit (0x80)\n",
      "0x80 in binary: 10000000\n",
      "Data after adding 0x80: b'abc\\x80'\n",
      "\n"
     ]
    }
   ],
   "source": [
    "# Step 4: Add '1 Bit\n",
    "print(\"Step 4: Adding '1' bit (0x80)\")\n",
    "pad_data = data + b'\\x80'\n",
    "print(f\"0x80 in binary: {0x80:08b}\")\n",
    "print(f\"Data after adding 0x80: {pad_data}\\n\")"
   ]
  },
  {
   "cell_type": "code",
   "execution_count": 22,
   "metadata": {},
   "outputs": [
    {
     "name": "stdout",
     "output_type": "stream",
     "text": [
      "Step 5: Calculating zero padding length\n",
      "Current length: 4 bytes\n",
      "Target length: 56 bytes (448 bits)\n",
      "Padding needed: 52 bytes\n",
      "\n"
     ]
    }
   ],
   "source": [
    "# Step 5: Calculate Zero Padding\n",
    "print(\"Step 5: Calculating zero padding length\")\n",
    "pad_len = (56 - (len(pad_data) % 64)) % 64\n",
    "print(f\"Current length: {len(pad_data)} bytes\")\n",
    "print(f\"Target length: 56 bytes (448 bits)\")\n",
    "print(f\"Padding needed: {pad_len} bytes\\n\")"
   ]
  },
  {
   "cell_type": "code",
   "execution_count": 23,
   "metadata": {},
   "outputs": [
    {
     "name": "stdout",
     "output_type": "stream",
     "text": [
      "Step 6: Adding zero padding\n",
      "Data after zero padding: length = 56 bytes\n",
      "\n"
     ]
    }
   ],
   "source": [
    "# Step 6: Add Zero Padding\n",
    "print(\"Step 6: Adding zero padding\")\n",
    "pad_data += b'\\x00' * pad_len\n",
    "print(f\"Data after zero padding: length = {len(pad_data)} bytes\\n\")"
   ]
  },
  {
   "cell_type": "code",
   "execution_count": 24,
   "metadata": {},
   "outputs": [
    {
     "name": "stdout",
     "output_type": "stream",
     "text": [
      "Step 7: Adding original length as 64-bit big-endian\n",
      "Original length: 24 bits\n",
      "As 64-bit big-endian: 00 00 00 00 00 00 00 18\n",
      "Final padded data length: 64 bytes\n",
      "\n"
     ]
    }
   ],
   "source": [
    "# Step 7: Add Length\n",
    "print(\"Step 7: Adding original length as 64-bit big-endian\")\n",
    "length_bytes = orig_len.to_bytes(8, 'big')\n",
    "print(f\"Original length: {orig_len} bits\")\n",
    "print(f\"As 64-bit big-endian: {' '.join(f'{b:02x}' for b in length_bytes)}\")\n",
    "pad_data += length_bytes\n",
    "print(f\"Final padded data length: {len(pad_data)} bytes\\n\")"
   ]
  },
  {
   "cell_type": "code",
   "execution_count": 25,
   "metadata": {},
   "outputs": [
    {
     "name": "stdout",
     "output_type": "stream",
     "text": [
      "Step 8: Final padding in hex\n",
      "80 00 00 00 00 00 00 00 00 00 00 00 00 00 00 00 00 00 00 00 00 00 00 00 00 00 00 00 00 00 00 00 00 00 00 00 00 00 00 00 00 00 00 00 00 00 00 00 00 00 00 00 00 00 00 00 00 00 00 00 18\n"
     ]
    }
   ],
   "source": [
    "# Step 8: Print Final Padding\n",
    "print(\"Step 8: Final padding in hex\")\n",
    "padding_hex = \" \".join(f\"{byte:02x}\" for byte in pad_data[len(data):])\n",
    "print(padding_hex)"
   ]
  },
  {
   "cell_type": "markdown",
   "metadata": {},
   "source": [
    "### Example Analysis\n",
    "For the message \"abc\" (binary: 01100001 01100010 01100011)\n",
    "1. Orignal: 3 bytes = 24 bits\n",
    "2. After '1' bit: 24 + 1 = 25 bits\n",
    "3. Padding required: 488 - 25 = 423 bits\n",
    "4. Zero padding: 423 bits = 52 bytes\n",
    "5. Lenght to append: 8 bytes\n",
    "6. Total: 3 + 1 + 52 + 8 = 64 bytes\n",
    "\n",
    "Final padding is: 80 00 00 00 00 00 00 00 00 00 00 00 00 00 00 00\n",
    "00 00 00 00 00 00 00 00 00 00 00 00 00 00 00 00\n",
    "00 00 00 00 00 00 00 00 00 00 00 00 00 00 00 00\n",
    "00 00 00 00 00 00 00 00 00 18"
   ]
  },
  {
   "cell_type": "markdown",
   "metadata": {},
   "source": [
    "---------------------------------------------------------------------------"
   ]
  },
  {
   "cell_type": "markdown",
   "metadata": {},
   "source": [
    "### Task 3 References:\n",
    "1. FIPS PUB 180-4: Secure Hash Standard (SHS): https://nvlpubs.nist.gov/nistpubs/FIPS/NIST.FIPS.180-4.pdf  \n",
    "2. Schneier, B.(2015). Applied Cryptography: https://www.schneier.com/books/applied-cryptography/\n",
    "3. Menezes, A. et al.(1996) Handbook of Applied Cryptography: https://galois.azc.uam.mx/mate/propaganda/Menezes.pdf\n",
    "4. NIST Special Publication 800-107: Recommendation for Applications Using Approved Hash Algorithms\n",
    "5. How SHA-256 works?: https://medium.com/@bajrang1081siyag/how-sha-256-works-4951088ab9f8"
   ]
  },
  {
   "cell_type": "markdown",
   "metadata": {},
   "source": [
    "---------------------------------------------------------------------------"
   ]
  },
  {
   "cell_type": "markdown",
   "metadata": {},
   "source": [
    "## Task 4: Prime Numbers"
   ]
  },
  {
   "cell_type": "markdown",
   "metadata": {},
   "source": [
    "### Algoritm 1: Sieve of Eratosthenes"
   ]
  },
  {
   "cell_type": "markdown",
   "metadata": {},
   "source": [
    "### How it works\n",
    "Find the first n prime numbers using the Sieve of Eratosthenes algorithm.\n",
    "\n",
    "Algorithm Explanation\n",
    "1. Create a boolean array for numbers from 2 to an estimated limit\n",
    "2. Mark all multiples of each prime starting from 2\n",
    "3. All unmarked numbers at the end are prime\n",
    "4. Extract the first n prime numbers from the sieve\n",
    "\n",
    "Advantages: \n",
    "- Very efficient for finding many primes in a range\n",
    "- Significantly faster that trial division for large n\n",
    "- Classic algorithm known for it efficiency\n",
    "\n",
    "Disadvantages:\n",
    "- Requires more memory than trial division\n",
    "- Need to estimate upper limit for n primes  \n",
    "[[1]](https://en.wikipedia.org/wiki/Sieve_of_Eratosthenes) [[4]](https://www.baeldung.com/cs/prime-number-algorithms)"
   ]
  },
  {
   "cell_type": "code",
   "execution_count": 26,
   "metadata": {},
   "outputs": [],
   "source": [
    "def sieve_of_eratosthenes(n):\n",
    "    #estimate upper limit for n prime number\n",
    "    #using prime number theorem approximation\n",
    "    if n < 6:\n",
    "        limit = 15\n",
    "    else:\n",
    "        limit = int(n * (math.log(n) + math.log(math.log(n))))\n",
    "\n",
    "    #create sieve array - true means prime\n",
    "    sieve = [True] * (limit + 1)\n",
    "    sieve[0] = sieve[1] = False #0 and 1 are not prime\n",
    "\n",
    "    #mark multiples of each prime\n",
    "    for i in range(2, int(math.sqrt(limit)) + 1):\n",
    "        if sieve[i]:\n",
    "            #mark all multiples of i as not prime\n",
    "            for j in range(i * i, limit + 1, i):\n",
    "                sieve[j] = False\n",
    "\n",
    "    #collect prime numbers\n",
    "    primes = []\n",
    "    current = 2\n",
    "    while len(primes) < n and current <= limit:\n",
    "        if sieve[current]:\n",
    "            primes.append(current)\n",
    "        current += 1\n",
    "    return primes"
   ]
  },
  {
   "cell_type": "code",
   "execution_count": 27,
   "metadata": {},
   "outputs": [
    {
     "name": "stdout",
     "output_type": "stream",
     "text": [
      "Finding first 100 prime numbers using Sieve of Eratosthenes\n",
      "First 100 prime numbers: [2, 3, 5, 7, 11, 13, 17, 19, 23, 29, 31, 37, 41, 43, 47, 53, 59, 61, 67, 71, 73, 79, 83, 89, 97, 101, 103, 107, 109, 113, 127, 131, 137, 139, 149, 151, 157, 163, 167, 173, 179, 181, 191, 193, 197, 199, 211, 223, 227, 229, 233, 239, 241, 251, 257, 263, 269, 271, 277, 281, 283, 293, 307, 311, 313, 317, 331, 337, 347, 349, 353, 359, 367, 373, 379, 383, 389, 397, 401, 409, 419, 421, 431, 433, 439, 443, 449, 457, 461, 463, 467, 479, 487, 491, 499, 503, 509, 521, 523, 541] \n",
      "in 0.0002 seconds\n"
     ]
    }
   ],
   "source": [
    "print(\"Finding first 100 prime numbers using Sieve of Eratosthenes\")\n",
    "start_time = time.time()\n",
    "n = 100\n",
    "primes = sieve_of_eratosthenes(n)\n",
    "print(f\"First {n} prime numbers: {primes} \\nin {time.time() - start_time:.4f} seconds\")"
   ]
  },
  {
   "cell_type": "markdown",
   "metadata": {},
   "source": [
    "---------------------------------------------------------------------------"
   ]
  },
  {
   "cell_type": "markdown",
   "metadata": {},
   "source": [
    "### Algorithm 2: Trial Division Method"
   ]
  },
  {
   "cell_type": "markdown",
   "metadata": {},
   "source": [
    "### How it works\n",
    "Find the first n prime numbers using trial division algorithm\n",
    "\n",
    "Algorithm Explanation:\n",
    "1. Start checking from 2 (first prime)\n",
    "2. For each number check if its divisible by any number from 2 to sqrt(n)\n",
    "3. If no divisors found its a prime\n",
    "4. Continue until we find n primes\n",
    "\n",
    "Advantages:\n",
    "- Simple to implement\n",
    "- Small memory requirment\n",
    "- Can find primes one by one as needed\n",
    "\n",
    "Disadvantages:\n",
    "- Slower that other algorithms for large n\n",
    "- Redundant calculations (checks same number multiple times) [[3]](https://www.khanacademy.org/computing/computer-science/cryptography/comp-number-theory/a/trial-division)"
   ]
  },
  {
   "cell_type": "code",
   "execution_count": 28,
   "metadata": {},
   "outputs": [],
   "source": [
    "def trial_division(n):\n",
    "    primes = []\n",
    "    current = 2\n",
    "    while len(primes) < n:\n",
    "        is_prime = True\n",
    "        #optimise by only checking to square root of current num\n",
    "        for i in range(2, int(math.sqrt(current))+1):\n",
    "            if current % i == 0:\n",
    "                is_prime = False\n",
    "                break\n",
    "        if is_prime:\n",
    "            primes.append(current)\n",
    "        #optimise after 2 only check odd numbers\n",
    "        current += 1 if current == 2 else 2\n",
    "\n",
    "    return primes"
   ]
  },
  {
   "cell_type": "code",
   "execution_count": 29,
   "metadata": {},
   "outputs": [
    {
     "name": "stdout",
     "output_type": "stream",
     "text": [
      "Finding first 100 prime numbers using trial division\n",
      "First 100 prime numbers: [2, 3, 5, 7, 11, 13, 17, 19, 23, 29, 31, 37, 41, 43, 47, 53, 59, 61, 67, 71, 73, 79, 83, 89, 97, 101, 103, 107, 109, 113, 127, 131, 137, 139, 149, 151, 157, 163, 167, 173, 179, 181, 191, 193, 197, 199, 211, 223, 227, 229, 233, 239, 241, 251, 257, 263, 269, 271, 277, 281, 283, 293, 307, 311, 313, 317, 331, 337, 347, 349, 353, 359, 367, 373, 379, 383, 389, 397, 401, 409, 419, 421, 431, 433, 439, 443, 449, 457, 461, 463, 467, 479, 487, 491, 499, 503, 509, 521, 523, 541] \n",
      "in 0.0005 seconds\n"
     ]
    }
   ],
   "source": [
    "print(\"Finding first 100 prime numbers using trial division\")\n",
    "start_time = time.time()\n",
    "n = 100\n",
    "primes = trial_division(n)\n",
    "print(f\"First {n} prime numbers: {primes} \\nin {time.time() - start_time:.4f} seconds\")"
   ]
  },
  {
   "cell_type": "markdown",
   "metadata": {},
   "source": [
    "---------------------------------------------------------------------------"
   ]
  },
  {
   "cell_type": "markdown",
   "metadata": {},
   "source": [
    "### Task 4 References\n",
    "\n",
    "1. Sieve of Eratosthenes: https://en.wikipedia.org/wiki/Sieve_of_Eratosthenes\n",
    "2. Prime Number in Python: https://www.ccbp.in/blog/articles/prime-number-in-python\n",
    "3. Trial division(article) Khan academy : https://www.khanacademy.org/computing/computer-science/cryptography/comp-number-theory/a/trial-division\n",
    "4. Fastest Algoritm to Find Prime Numbers, Baeldung: https://www.baeldung.com/cs/prime-number-algorithms\n",
    "5. Check for Prime Number, GeeksforGeeks: https://www.geeksforgeeks.org/check-for-prime-number/\n"
   ]
  },
  {
   "cell_type": "markdown",
   "metadata": {},
   "source": [
    "---------------------------------------------------------------------------"
   ]
  },
  {
   "cell_type": "markdown",
   "metadata": {},
   "source": [
    "## Task 5: Roots"
   ]
  },
  {
   "cell_type": "markdown",
   "metadata": {},
   "source": [
    "This task requires the calculation of the first 32 bits of the fractional part of the square root of the first 100 prime numbers. When we take the square root of a number we get a irrational result whit an integer part and a fractional part. For example sqrt(2) = 1.41421.... where 1 is the interger part and 0.41421 is the fractional part. In this task we need to extract the fractional part representing the first 32 bits in binary format. [[1]](https://stackoverflow.com/questions/4674956/what-are-the-first-32-bits-of-the-fractional-part-of-this-float)"
   ]
  },
  {
   "cell_type": "code",
   "execution_count": 30,
   "metadata": {},
   "outputs": [],
   "source": [
    "def fractional_bits_of_sqrt(n, bits=32):\n",
    "    #calculate square root\n",
    "    sqrt = math.sqrt(n)\n",
    "    \n",
    "    #extract fractional part\n",
    "    integer = int(sqrt)\n",
    "    fraction = sqrt - integer\n",
    "\n",
    "    #convert to binary\n",
    "    binary_bits = []\n",
    "    current_fraction = fraction\n",
    "    for _ in range(bits):\n",
    "        #multiply by 2\n",
    "        current_fraction *= 2\n",
    "        #get integer part\n",
    "        bit = int(current_fraction)\n",
    "        binary_bits.append(str(bit))\n",
    "        #keep only the fractional part\n",
    "        current_fraction -= bit\n",
    "\n",
    "    return ''.join(binary_bits)\n",
    "        "
   ]
  },
  {
   "cell_type": "code",
   "execution_count": 31,
   "metadata": {},
   "outputs": [],
   "source": [
    "def get_bits(primes):\n",
    "    results = []\n",
    "    #iterate over each prime number\n",
    "    for prime in primes:\n",
    "        #get 32 bits of fractional part\n",
    "        binary_fraction = fractional_bits_of_sqrt(prime, 32)\n",
    "\n",
    "        results.append({\n",
    "            'prime': prime,\n",
    "            'sqrt_fraction': binary_fraction,\n",
    "        })\n",
    "    return results"
   ]
  },
  {
   "cell_type": "code",
   "execution_count": 32,
   "metadata": {},
   "outputs": [
    {
     "name": "stdout",
     "output_type": "stream",
     "text": [
      "Fractional bits of square root of first 100 prime numbers:\n",
      "Prime: 2, Fractional bits of sqrt: 01101010000010011110011001100111\n",
      "Prime: 3, Fractional bits of sqrt: 10111011011001111010111010000101\n",
      "Prime: 5, Fractional bits of sqrt: 00111100011011101111001101110010\n",
      "Prime: 7, Fractional bits of sqrt: 10100101010011111111010100111010\n",
      "Prime: 11, Fractional bits of sqrt: 01010001000011100101001001111111\n",
      "Prime: 13, Fractional bits of sqrt: 10011011000001010110100010001100\n",
      "Prime: 17, Fractional bits of sqrt: 00011111100000111101100110101011\n",
      "Prime: 19, Fractional bits of sqrt: 01011011111000001100110100011001\n",
      "Prime: 23, Fractional bits of sqrt: 11001011101110111001110101011101\n",
      "Prime: 29, Fractional bits of sqrt: 01100010100110100010100100101010\n",
      "Prime: 31, Fractional bits of sqrt: 10010001010110010000000101011010\n",
      "Prime: 37, Fractional bits of sqrt: 00010101001011111110110011011000\n",
      "Prime: 41, Fractional bits of sqrt: 01100111001100110010011001100111\n",
      "Prime: 43, Fractional bits of sqrt: 10001110101101000100101010000111\n",
      "Prime: 47, Fractional bits of sqrt: 11011011000011000010111000001101\n",
      "Prime: 53, Fractional bits of sqrt: 01000111101101010100100000011101\n",
      "Prime: 59, Fractional bits of sqrt: 10101110010111111001000101010110\n",
      "Prime: 61, Fractional bits of sqrt: 11001111011011001000010111010011\n",
      "Prime: 67, Fractional bits of sqrt: 00101111011100110100011101111101\n",
      "Prime: 71, Fractional bits of sqrt: 01101101000110000010011011001010\n",
      "Prime: 73, Fractional bits of sqrt: 10001011010000111101010001010111\n",
      "Prime: 79, Fractional bits of sqrt: 11100011011000001011010110010110\n",
      "Prime: 83, Fractional bits of sqrt: 00011100010001010110000000000010\n",
      "Prime: 89, Fractional bits of sqrt: 01101111000110010110001100110001\n",
      "Prime: 97, Fractional bits of sqrt: 11011001010011101011111010110001\n",
      "Prime: 101, Fractional bits of sqrt: 00001100110001001010011000010001\n",
      "Prime: 103, Fractional bits of sqrt: 00100110000111011100000111110010\n",
      "Prime: 107, Fractional bits of sqrt: 01011000000101011010011110111110\n",
      "Prime: 109, Fractional bits of sqrt: 01110000101101111110110101100111\n",
      "Prime: 113, Fractional bits of sqrt: 10100001010100010011110001101001\n",
      "Prime: 127, Fractional bits of sqrt: 01000100111110010011011000110101\n",
      "Prime: 131, Fractional bits of sqrt: 01110010000011011100110111111101\n",
      "Prime: 137, Fractional bits of sqrt: 10110100011001110011011010011110\n",
      "Prime: 139, Fractional bits of sqrt: 11001010001100100000101101110101\n",
      "Prime: 149, Fractional bits of sqrt: 00110100111000001101010000101110\n",
      "Prime: 151, Fractional bits of sqrt: 01001001110001111101100110111101\n",
      "Prime: 157, Fractional bits of sqrt: 10000111101010111011100111110010\n",
      "Prime: 163, Fractional bits of sqrt: 11000100011000111010001011111100\n",
      "Prime: 167, Fractional bits of sqrt: 11101100001111111100001111110011\n",
      "Prime: 173, Fractional bits of sqrt: 00100111001001110111111101101101\n",
      "Prime: 179, Fractional bits of sqrt: 01100001000010111110101111110010\n",
      "Prime: 181, Fractional bits of sqrt: 01110100001000001011010010011110\n",
      "Prime: 191, Fractional bits of sqrt: 11010001111111011000101000110011\n",
      "Prime: 193, Fractional bits of sqrt: 11100100011101110011010110010100\n",
      "Prime: 197, Fractional bits of sqrt: 00001001001000011001011111110110\n",
      "Prime: 199, Fractional bits of sqrt: 00011011010100110000110010010101\n",
      "Prime: 211, Fractional bits of sqrt: 10000110100111010110001101000010\n",
      "Prime: 223, Fractional bits of sqrt: 11101110111001010010111001001111\n",
      "Prime: 227, Fractional bits of sqrt: 00010001000001110110011010001001\n",
      "Prime: 229, Fractional bits of sqrt: 00100001111110111010001101111011\n",
      "Prime: 233, Fractional bits of sqrt: 01000011101010111001111110110110\n",
      "Prime: 239, Fractional bits of sqrt: 01110101101010011111100100011101\n",
      "Prime: 241, Fractional bits of sqrt: 10000110001100000101000000011001\n",
      "Prime: 251, Fractional bits of sqrt: 11010111110011011000000101110011\n",
      "Prime: 257, Fractional bits of sqrt: 00000111111111100000000011111111\n",
      "Prime: 263, Fractional bits of sqrt: 00110111100111110101000100111111\n",
      "Prime: 269, Fractional bits of sqrt: 01100110101101100101000110101000\n",
      "Prime: 271, Fractional bits of sqrt: 01110110010010101011100001000010\n",
      "Prime: 277, Fractional bits of sqrt: 10100100101100000110101111100001\n",
      "Prime: 281, Fractional bits of sqrt: 11000011010101111000110000010101\n",
      "Prime: 283, Fractional bits of sqrt: 11010010100101100010101001010011\n",
      "Prime: 293, Fractional bits of sqrt: 00011110000000111001111101000000\n",
      "Prime: 307, Fractional bits of sqrt: 10000101011110110111101111101110\n",
      "Prime: 311, Fractional bits of sqrt: 10100010100110111111001011011110\n",
      "Prime: 313, Fractional bits of sqrt: 10110001000110100011001011101000\n",
      "Prime: 317, Fractional bits of sqrt: 11001101111100110100111010000000\n",
      "Prime: 331, Fractional bits of sqrt: 00110001100000110000010000100110\n",
      "Prime: 337, Fractional bits of sqrt: 01011011100010010000100100101011\n",
      "Prime: 347, Fractional bits of sqrt: 10100000110000000110101000010011\n",
      "Prime: 349, Fractional bits of sqrt: 10101110011110011000010000101111\n",
      "Prime: 353, Fractional bits of sqrt: 11001001110011011010011010001001\n",
      "Prime: 359, Fractional bits of sqrt: 11110010100000011111001000111001\n",
      "Prime: 367, Fractional bits of sqrt: 00101000010000010010010110010010\n",
      "Prime: 373, Fractional bits of sqrt: 01010000001011100110010011011011\n",
      "Prime: 379, Fractional bits of sqrt: 01110111110010011100001000010001\n",
      "Prime: 383, Fractional bits of sqrt: 10010010000001001100110110011101\n",
      "Prime: 389, Fractional bits of sqrt: 10111001000110111111011001100011\n",
      "Prime: 397, Fractional bits of sqrt: 11101100110000111000110010011101\n",
      "Prime: 401, Fractional bits of sqrt: 00000110011001010110000010010101\n",
      "Prime: 409, Fractional bits of sqrt: 00111001010001111001001110000001\n",
      "Prime: 419, Fractional bits of sqrt: 01111000001100000111011010010111\n",
      "Prime: 421, Fractional bits of sqrt: 10000100101011100100101101111100\n",
      "Prime: 431, Fractional bits of sqrt: 11000010101100101011011101010101\n",
      "Prime: 433, Fractional bits of sqrt: 11001111000000111101001000001110\n",
      "Prime: 439, Fractional bits of sqrt: 11110011110010111011000100010111\n",
      "Prime: 443, Fractional bits of sqrt: 00001100001011010011101101001011\n",
      "Prime: 449, Fractional bits of sqrt: 00110000100010101111000101100001\n",
      "Prime: 457, Fractional bits of sqrt: 01100000101001111010100110011000\n",
      "Prime: 461, Fractional bits of sqrt: 01111000100011011001100000010010\n",
      "Prime: 463, Fractional bits of sqrt: 10000100011101101001101101000010\n",
      "Prime: 467, Fractional bits of sqrt: 10011100001101001111000001100010\n",
      "Prime: 479, Fractional bits of sqrt: 11100010110101010110010011000100\n",
      "Prime: 487, Fractional bits of sqrt: 00010001011011010111010111111101\n",
      "Prime: 491, Fractional bits of sqrt: 00101000100101001100000100000111\n",
      "Prime: 499, Fractional bits of sqrt: 01010110100110110101100011000110\n",
      "Prime: 503, Fractional bits of sqrt: 01101101011110110011100100111001\n",
      "Prime: 509, Fractional bits of sqrt: 10001111100111111000110110111011\n",
      "Prime: 521, Fractional bits of sqrt: 11010011010011110000001111001101\n",
      "Prime: 523, Fractional bits of sqrt: 11011110100000110111001011101111\n",
      "Prime: 541, Fractional bits of sqrt: 01000010011010000111101000111001\n"
     ]
    }
   ],
   "source": [
    "primes = sieve_of_eratosthenes(100)\n",
    "sqrt_bits = get_bits(primes)\n",
    "print(\"Fractional bits of square root of first 100 prime numbers:\")\n",
    "for result in sqrt_bits:\n",
    "    prime = result['prime']\n",
    "    sqrt_fraction = result['sqrt_fraction']\n",
    "    print(f\"Prime: {prime}, Fractional bits of sqrt: {sqrt_fraction}\")"
   ]
  },
  {
   "cell_type": "markdown",
   "metadata": {},
   "source": [
    "### Code Explanation"
   ]
  },
  {
   "cell_type": "markdown",
   "metadata": {},
   "source": [
    "#### Step 1: Getting the square root."
   ]
  },
  {
   "cell_type": "code",
   "execution_count": 33,
   "metadata": {},
   "outputs": [
    {
     "name": "stdout",
     "output_type": "stream",
     "text": [
      "Square root of 2: 1.4142135623730951\n"
     ]
    }
   ],
   "source": [
    "sqrt = math.sqrt(2)\n",
    "print(f\"Square root of 2: {sqrt}\")"
   ]
  },
  {
   "cell_type": "markdown",
   "metadata": {},
   "source": [
    "#### Step 2: Extracting fractional part"
   ]
  },
  {
   "cell_type": "code",
   "execution_count": 34,
   "metadata": {},
   "outputs": [
    {
     "name": "stdout",
     "output_type": "stream",
     "text": [
      "Integer part: 1\n",
      "Fractional part: 0.41421356237309515\n"
     ]
    }
   ],
   "source": [
    "integer_part = int(sqrt)\n",
    "print(f\"Integer part: {integer_part}\")\n",
    "fractional_part = sqrt - integer_part\n",
    "print(f\"Fractional part: {fractional_part}\")"
   ]
  },
  {
   "cell_type": "markdown",
   "metadata": {},
   "source": [
    "We separate the integer and fractional parts. ef\n",
    "- integer part = 1\n",
    "- frational part = 0.41421356237309515  \n",
    "  \n",
    "as shown above in the code example"
   ]
  },
  {
   "cell_type": "markdown",
   "metadata": {},
   "source": [
    "#### Step 3: Converting fractional part to Binary"
   ]
  },
  {
   "cell_type": "code",
   "execution_count": 35,
   "metadata": {},
   "outputs": [
    {
     "name": "stdout",
     "output_type": "stream",
     "text": [
      "Binary bits: 01101010000010011110011001100111\n"
     ]
    }
   ],
   "source": [
    "binary_bits = []\n",
    "current_fraction = fractional_part\n",
    "\n",
    "for _ in range(32):\n",
    "    #multiply by 2\n",
    "    current_fraction *= 2\n",
    "    #get integer part\n",
    "    bit = int(current_fraction)\n",
    "    binary_bits.append(str(bit))\n",
    "    #keep only the fractional part\n",
    "    current_fraction -= bit\n",
    "\n",
    "print(f\"Binary bits: {''.join(binary_bits)}\")\n"
   ]
  },
  {
   "cell_type": "markdown",
   "metadata": {},
   "source": [
    "This is the core of the algorithm for converting decimal fraction to binary:\n",
    "1. Multiply fraction by 2\n",
    "2. Take the interger part as the next binary digit\n",
    "3. Keep the remaining fractional part\n",
    "4. Repeat for all 32 bits  \n",
    "  \n",
    "For example with 0.414....\n",
    "- 0.414 x 2 = 0.0828 = bit is 0\n",
    "- 0.828 x 2 = 1.656 = bit is 1\n",
    "- 0.656 x 2 = 1.312 = bit is 1\n",
    "- etc.\n"
   ]
  },
  {
   "cell_type": "markdown",
   "metadata": {},
   "source": [
    "We join all the binary digits into a string and return it."
   ]
  },
  {
   "cell_type": "markdown",
   "metadata": {},
   "source": [
    "---------------------------------------------------------------------------"
   ]
  },
  {
   "cell_type": "markdown",
   "metadata": {},
   "source": [
    "### Task 5 References\n",
    "1. What are the first 32 bits of the fractional part of this float?, Stack Overflow: https://stackoverflow.com/questions/4674956/what-are-the-first-32-bits-of-the-fractional-part-of-this-float\n",
    "2. Fractional parts of square roots of primes, Number theory: https://math.stackexchange.com/questions/3185456/fractional-parts-of-square-roots-of-primes\n",
    "3. Extract Specific Bits of an Integer, Spiceworks:  https://community.spiceworks.com/t/extract-specific-bits-of-an-integer/845522"
   ]
  },
  {
   "cell_type": "markdown",
   "metadata": {},
   "source": [
    "---------------------------------------------------------------------------"
   ]
  },
  {
   "cell_type": "markdown",
   "metadata": {},
   "source": [
    "## Task 6: Proof of Work"
   ]
  },
  {
   "cell_type": "markdown",
   "metadata": {},
   "source": [
    "This task requires us to find the words in English with the greatest number of leading zero bits at the beginning of their SHA-256 hash digest. This is a important part of the cryptographic mining problem, which is similar to what cryptocurrencies like Bitcoin use in their proof of work systems.  \n",
    "  \n",
    "A SHA-256 hash is a 256 bit value. Each input (word) produces a hash output. The objective is to find the word the words that produces hashs with many leading zeros when the hash is represented in binary.  \n",
    "[[1]]( https://www.investopedia.com/terms/p/proof-work.asp) [[2]](https://www.britannica.com/money/proof-of-work-blockchain-verification)"
   ]
  },
  {
   "cell_type": "markdown",
   "metadata": {},
   "source": [
    "Orignally I used a function to download the following dictionaries:\n",
    "- https://raw.githubusercontent.com/dwyl/english-words/master/words_alpha.txt\n",
    "- https://www.wordgamedictionary.com/sowpods/download/sowpods.txt  \n",
    "  \n",
    "However these dictionaries proved to be inaccurate when words were compared with both the oxford and cambridge dictionaries this is why I chose to use the words.txt file from last semester as after alot of searching its the only file I can find that has accurate words.  \n",
    "While this dictionary is missing some words it covers a large number of the words within the dictionaries outlined above. I added the word goaltenders as from previous tests this showed to be the highest."
   ]
  },
  {
   "cell_type": "code",
   "execution_count": 36,
   "metadata": {},
   "outputs": [],
   "source": [
    "def count_leading_zeros(word):\n",
    "    #get the SHA-256 hash of the word\n",
    "    hash_object = hashlib.sha256(word.encode('utf-8'))\n",
    "    hash_digest = hash_object.digest()\n",
    "\n",
    "    #count leading zeros\n",
    "    leading_zeros = 0\n",
    "    for byte in hash_digest:\n",
    "        #process each byte\n",
    "        for bit_position in range(8):\n",
    "            #check if the bit is 0\n",
    "            if not (byte & (128 >> bit_position)):\n",
    "                leading_zeros += 1\n",
    "            else:\n",
    "                #stop counting at first 1\n",
    "                return leading_zeros\n",
    "    #return total leading zeros\n",
    "    return leading_zeros"
   ]
  },
  {
   "cell_type": "code",
   "execution_count": 37,
   "metadata": {},
   "outputs": [],
   "source": [
    "def most_leading_zeros(n=1):\n",
    "    #set the dictionary file path\n",
    "    dictionary_file = 'words.txt'\n",
    "    #open dictionary file\n",
    "    with open(dictionary_file, 'r') as f:\n",
    "        words = [line.strip() for line in f if line.strip()]\n",
    "\n",
    "    word_zeros = []\n",
    "\n",
    "    #iterate over each word\n",
    "    for word in words:\n",
    "        #make all words lowercase has more leading zeros\n",
    "        word = word.lower()\n",
    "        #count leading zeros\n",
    "        zeros = count_leading_zeros(word)\n",
    "        word_zeros.append((word, zeros))\n",
    "\n",
    "    #sort by leading zeros\n",
    "    word_zeros.sort(key=lambda x: x[1], reverse=True)\n",
    "\n",
    "    return word_zeros[:n]"
   ]
  },
  {
   "cell_type": "code",
   "execution_count": 38,
   "metadata": {},
   "outputs": [
    {
     "name": "stdout",
     "output_type": "stream",
     "text": [
      "Top 5 words with most leading zeros:\n",
      "Word: goaltenders, Leading Zeros: 18\n",
      "Word: grady, Leading Zeros: 15\n",
      "Word: mountable, Leading Zeros: 15\n",
      "Word: courteously, Leading Zeros: 14\n",
      "Word: teared, Leading Zeros: 14\n"
     ]
    }
   ],
   "source": [
    "top_10_words = most_leading_zeros(5)\n",
    "print(\"Top 5 words with most leading zeros:\")\n",
    "for word, zeros in top_10_words:\n",
    "    print(f\"Word: {word}, Leading Zeros: {zeros}\")"
   ]
  },
  {
   "cell_type": "markdown",
   "metadata": {},
   "source": [
    "### Proof words are in dictionary\n",
    "- goaltenders: https://www.oed.com/dictionary/goaltender_n?tab=factsheet#2790795\n",
    "- grady: https://www.oed.com/dictionary/grady_adj?tab=factsheet#2638712\n",
    "- mountable: https://www.oed.com/dictionary/mountable_adj?tab=factsheet#35743521\n",
    "- courteously: https://www.oed.com/dictionary/courteously_adv?tab=factsheet#8135742\n",
    "- teared: https://www.oed.com/dictionary/tear_v1?tab=factsheet#19076903`"
   ]
  },
  {
   "cell_type": "markdown",
   "metadata": {},
   "source": [
    "### Code Explanation"
   ]
  },
  {
   "cell_type": "markdown",
   "metadata": {},
   "source": [
    "#### Step 1: Converting a word to SHA-256 Hash"
   ]
  },
  {
   "cell_type": "code",
   "execution_count": 39,
   "metadata": {},
   "outputs": [
    {
     "name": "stdout",
     "output_type": "stream",
     "text": [
      "SHA-256 hash of 'hello': 2cf24dba5fb0a30e26e83b2ac5b9e29e1b161e5c1fa7425e73043362938b9824\n"
     ]
    }
   ],
   "source": [
    "hash_object = hashlib.sha256(b'hello')\n",
    "hash_digest = hash_object.digest()\n",
    "\n",
    "print(f\"SHA-256 hash of 'hello': {hash_digest.hex()}\")"
   ]
  },
  {
   "cell_type": "markdown",
   "metadata": {},
   "source": [
    "- word.encode('utf-8') : This converts the string to bytes\n",
    "- hashlib.sha256(...) : This creates a hash object using the SHA-256 algorithm\n",
    "- .digest() : Returns the hash as raw bytes insted of hexidecimal"
   ]
  },
  {
   "cell_type": "markdown",
   "metadata": {},
   "source": [
    "###"
   ]
  },
  {
   "cell_type": "markdown",
   "metadata": {},
   "source": [
    "#### Step 2: Counting leading zero bits in the hash"
   ]
  },
  {
   "cell_type": "code",
   "execution_count": 40,
   "metadata": {},
   "outputs": [
    {
     "name": "stdout",
     "output_type": "stream",
     "text": [
      "Byte: 00101100\n",
      "Bit position: 0, Bit value: 0\n",
      "Bit position: 1, Bit value: 0\n",
      "Bit position: 2, Bit value: 1\n",
      "Leading zeros in SHA-256 hash: 2\n"
     ]
    }
   ],
   "source": [
    "def example():\n",
    "    leading_zeros = 0\n",
    "    for byte in hash_digest:\n",
    "        print(f\"Byte: {byte:08b}\")\n",
    "        for bit_position in range(8):\n",
    "            print(f\"Bit position: {bit_position}, Bit value: {(byte & (128 >> bit_position)) >> (7 - bit_position)}\")\n",
    "            # Check if the current bit is 0\n",
    "            if not (byte & (128 >> bit_position)):\n",
    "                leading_zeros += 1\n",
    "            else:\n",
    "                # Stop at the first 1 bit\n",
    "                return leading_zeros\n",
    "    \n",
    "print(f\"Leading zeros in SHA-256 hash: {example()}\")"
   ]
  },
  {
   "cell_type": "markdown",
   "metadata": {},
   "source": [
    "Here we examine each byte in the hash digest and within each byte we must examine each bit from left to right. \n",
    "- 128 is binary 10000000\n",
    "- 128 >> bit_position : shifts this bit to check each position\n",
    "- byte & (128 >> bit_postion) : This tests if that bit is set to 1\n",
    "- If bit is 0 we increment our counter\n",
    "- As soon as we find a 1 bit, we return the count"
   ]
  },
  {
   "cell_type": "markdown",
   "metadata": {},
   "source": [
    "#### Step 3: Processing each word"
   ]
  },
  {
   "cell_type": "code",
   "execution_count": 41,
   "metadata": {},
   "outputs": [
    {
     "name": "stdout",
     "output_type": "stream",
     "text": [
      "Words and their leading zeros:\n",
      "Word: hello, Leading Zeros: 2\n",
      "Word: world, Leading Zeros: 1\n",
      "Word: it, Leading Zeros: 2\n",
      "Word: is, Leading Zeros: 0\n",
      "Word: a, Leading Zeros: 0\n",
      "Word: beautiful, Leading Zeros: 0\n",
      "Word: day, Leading Zeros: 0\n"
     ]
    }
   ],
   "source": [
    "words = [\"hello\", \"world\", \"it\", \"is\", \"a\", \"beautiful\", \"day\"]\n",
    "word_zeros = []\n",
    "for word in words:\n",
    "    #make word lowercase for consistency\n",
    "    word = word.lower()\n",
    "    #count leading zeros\n",
    "    zeros = count_leading_zeros(word)\n",
    "    #store word and its leading zeros\n",
    "    word_zeros.append((word, zeros))\n",
    "\n",
    "print(\"Words and their leading zeros:\")\n",
    "for word, zeros in word_zeros:\n",
    "    print(f\"Word: {word}, Leading Zeros: {zeros}\")\n"
   ]
  },
  {
   "cell_type": "markdown",
   "metadata": {},
   "source": [
    "#### Step 4: Finding words with most zeros"
   ]
  },
  {
   "cell_type": "code",
   "execution_count": 42,
   "metadata": {},
   "outputs": [
    {
     "name": "stdout",
     "output_type": "stream",
     "text": [
      "Sorted words by leading zeros:\n",
      "Word: hello, Leading Zeros: 2\n",
      "Word: it, Leading Zeros: 2\n",
      "Word: world, Leading Zeros: 1\n",
      "Word: is, Leading Zeros: 0\n",
      "Word: a, Leading Zeros: 0\n",
      "Word: beautiful, Leading Zeros: 0\n",
      "Word: day, Leading Zeros: 0\n"
     ]
    }
   ],
   "source": [
    "word_zeros.sort(key=lambda x: x[1], reverse=True)\n",
    "print(\"Sorted words by leading zeros:\")\n",
    "for word, zeros in word_zeros:\n",
    "    print(f\"Word: {word}, Leading Zeros: {zeros}\")"
   ]
  },
  {
   "cell_type": "markdown",
   "metadata": {},
   "source": [
    "- key=lambda x: x[1] : This sorts based on the second element\n",
    "- reverse=True : Sorts in decending order"
   ]
  },
  {
   "cell_type": "markdown",
   "metadata": {},
   "source": [
    "---------------------------------------------------------------------------"
   ]
  },
  {
   "cell_type": "markdown",
   "metadata": {},
   "source": [
    "### Task 6 References\n",
    "1. What Is Proof of Work (PoW) in Blockchain?, Investopedia:  https://www.investopedia.com/terms/p/proof-work.asp\n",
    "2. What is proof of work? Explaining blockchain verification, Britanica Money: https://www.britannica.com/money/proof-of-work-blockchain-verification\n",
    "3. Are the leading zero's at the beginning of a hash sought after, if so why?, Reddit: https://www.reddit.com/r/cryptography/comments/1emup7k/are_the_leading_zeros_at_the_beginning_of_a_hash/\n",
    "4. SHA-512 - How difficult is it to find a hash digest beginning with at least twelve zeros?, Crythography: https://crypto.stackexchange.com/questions/89690/sha-512-how-difficult-is-it-to-find-a-hash-digest-beginning-with-at-least-twel\n",
    "5. Extracting a particular range of bits and find number of zeros between them in C, Stackoverflow: https://stackoverflow.com/questions/48659216/extracting-a-particular-range-of-bits-and-find-number-of-zeros-between-them-in-c"
   ]
  },
  {
   "cell_type": "markdown",
   "metadata": {},
   "source": [
    "---------------------------------------------------------------------------"
   ]
  },
  {
   "cell_type": "markdown",
   "metadata": {},
   "source": [
    "## Task 7: Turing Machines"
   ]
  },
  {
   "cell_type": "markdown",
   "metadata": {},
   "source": [
    "A turing machine is a mathematical model of computation. It was developed by Alan Turing in 1936. It consists of a tape divided into cells, a read/write head and a set of rules which determine its behaviour based on the state and symbol.[[1]](https://www.cs.virginia.edu/~robins/Turing_Paper_1936.)"
   ]
  },
  {
   "cell_type": "markdown",
   "metadata": {},
   "source": [
    "### Components\n",
    "#### States(Q) \n",
    "The set {'R', 'A', 'C', 'E', 'H'} defines the machines possible states each has specific purpose\n",
    "- R: Scan Right - move right until the end of the number\n",
    "- A: Add 1 - add 1 to current bit\n",
    "- C: Carry - handle carry\n",
    "- E: Extend - add new digit\n",
    "- H: Halt - machine is done\n",
    "\n",
    "#### Tape Alphabet(T)\n",
    "{'0', '1', '_'} represents all possible symbols on the tape including the binary digits and blank symbols\n",
    "\n",
    "#### Blank symbol(b)\n",
    "'_' shows empty cells on the tape\n",
    "\n",
    "#### Input Alphabet(A)\n",
    "{'0', '1'} contains the symbols that can appear in the input\n",
    "\n",
    "#### Tranistion Function (state_tabel)\n",
    "This defines the machines behaviour by mapping the current state/symbol to the next state/symbol to write.\n",
    "\n",
    "#### Inital State(s) \n",
    "'R' is where computation begins\n",
    "\n",
    "#### Final States(F)\n",
    "{'H', 'E'} indicates when the machine should stop  \n",
    "[[5]](https://stackoverflow.com/questions/2099650/designing-a-turing-machines-state-table) [[6]](https://www.geeksforgeeks.org/construct-turing-machine-for-incrementing-binary-number-by-1/)\n",
    "\n"
   ]
  },
  {
   "cell_type": "code",
   "execution_count": 43,
   "metadata": {},
   "outputs": [],
   "source": [
    "#states\n",
    "Q = {'R', 'A', 'C', 'E', 'H'}\n",
    "\n",
    "#tape alphabet\n",
    "T = {'0', '1', '_'}\n",
    "\n",
    "#blank symbol\n",
    "b = '_'\n",
    "\n",
    "#input alphabet\n",
    "A = {'0', '1'}\n",
    "\n",
    "state_table = {\n",
    "    #state R: Scan right until the end of the number\n",
    "    ('R', '0'): ('R', '0', 'R'),  #keep moving right\n",
    "    ('R', '1'): ('R', '1', 'R'),  #keep moving right\n",
    "    ('R', '_'): ('A', '_', 'L'),  #end reached move back to last digit\n",
    "    \n",
    "    #state A: Add 1 to the current position\n",
    "    ('A', '0'): ('H', '1', 'N'),  #0+1=1, we're done\n",
    "    ('A', '1'): ('C', '0', 'L'),  #1+1=0 with carry\n",
    "    ('A', '_'): ('E', '1', 'N'),  #empty tape case or need to extend\n",
    "    \n",
    "    #state C: Handle carry\n",
    "    ('C', '0'): ('H', '1', 'N'),  #0+1=1, we're done\n",
    "    ('C', '1'): ('C', '0', 'L'),  #1+1=0 with carry\n",
    "    ('C', '_'): ('E', '1', 'N'),  #need to extend with a new digit\n",
    "}\n",
    "\n",
    "#initial state\n",
    "s = 'R'\n",
    "#final states\n",
    "F = {'H', 'E'}"
   ]
  },
  {
   "cell_type": "markdown",
   "metadata": {},
   "source": [
    "#### Binary Addition with Turing Machines\n",
    "Adding 1 to a binary number follows the following rules:\n",
    "- If the right most bit is 0, change it to 1 and finish\n",
    "- If the right most bit is 1, change it to 0 and carry 1 to the next position\n",
    "- Continue until theres no carry or new digit [[3]](https://medium.com/@vardanagarwal16/implementing-a-turing-machine-easily-in-python-55213fc8d5d5)"
   ]
  },
  {
   "cell_type": "code",
   "execution_count": 44,
   "metadata": {},
   "outputs": [],
   "source": [
    "def turing_machine(table, input, verbose = True):\n",
    "    if verbose is True:\n",
    "        print(f\"Input: {input}\")\n",
    "\n",
    "    #keep track of operations\n",
    "    ops = 0\n",
    "\n",
    "    #check for empty input\n",
    "    if input == '':\n",
    "        input = '_'\n",
    "\n",
    "    #make input a list\n",
    "    tape = list(input)\n",
    "\n",
    "    #track position on tape\n",
    "    pos = 0\n",
    "\n",
    "    #initial state\n",
    "    state = s\n",
    "    \n",
    "    if verbose is True:\n",
    "        #print config\n",
    "        print (state + ''.join(tape))\n",
    "\n",
    "    \n",
    "    #iterate until at final state\n",
    "    while state not in F:\n",
    "        #get current symbol\n",
    "        symbol = tape[pos]\n",
    "\n",
    "        #get next state symbol and direction\n",
    "        if (state, symbol) in table:\n",
    "            next_state, next_symbol, direction = table[(state, symbol)]\n",
    "\n",
    "            #update tape\n",
    "            tape[pos] = next_symbol\n",
    "\n",
    "            #increment operations\n",
    "            ops += 1\n",
    "\n",
    "            #move in direction\n",
    "            if direction == 'L':\n",
    "                pos -= 1\n",
    "            elif direction == 'R':\n",
    "                pos += 1\n",
    "            #n means no movement\n",
    "            \n",
    "            #fix finite list promblem\n",
    "            if pos < 0:\n",
    "                tape = [b] + tape\n",
    "                pos = 0\n",
    "            if pos == len(tape):\n",
    "                tape.append('_')\n",
    "\n",
    "            #update state\n",
    "            state = next_state\n",
    "\n",
    "            if verbose is True:\n",
    "                #print config\n",
    "                print (''.join(tape[:pos]) + state + ''.join(tape[pos:]))\n",
    "\n",
    "        else:\n",
    "            if verbose is True:\n",
    "                print(f\"Invalid state: {state}, symbol: {symbol}\")\n",
    "            break\n",
    "\n",
    "    if verbose is True:\n",
    "        print(f\"Number of operations: {ops}\")\n",
    "        print(f\"Output: {''.join(tape).strip(\"_\")}\")\n"
   ]
  },
  {
   "cell_type": "code",
   "execution_count": 45,
   "metadata": {},
   "outputs": [
    {
     "name": "stdout",
     "output_type": "stream",
     "text": [
      "Input: 100111\n",
      "R100111\n",
      "1R00111\n",
      "10R0111\n",
      "100R111\n",
      "1001R11\n",
      "10011R1\n",
      "100111R_\n",
      "10011A1_\n",
      "1001C10_\n",
      "100C100_\n",
      "10C0000_\n",
      "10H1000_\n",
      "Number of operations: 11\n",
      "Output: 101000\n"
     ]
    }
   ],
   "source": [
    "example_input = '100111'\n",
    "turing_machine(state_table, example_input)"
   ]
  },
  {
   "cell_type": "markdown",
   "metadata": {},
   "source": [
    "### Code explanation"
   ]
  },
  {
   "cell_type": "markdown",
   "metadata": {},
   "source": [
    "#### Step 1: Setup"
   ]
  },
  {
   "cell_type": "code",
   "execution_count": 46,
   "metadata": {},
   "outputs": [
    {
     "name": "stdout",
     "output_type": "stream",
     "text": [
      "Input: 100111\n"
     ]
    }
   ],
   "source": [
    "verbose = True\n",
    "input = '100111'\n",
    "\n",
    "if verbose is True:\n",
    "    print(f\"Input: {input}\")\n",
    "#keep track of operations\n",
    "ops = 0\n",
    "#check for empty input\n",
    "if input == '':\n",
    "    input = '_'\n",
    "#make input a list\n",
    "tape = list(input)\n",
    "#track position on tape\n",
    "pos = 0\n",
    "#initial state\n",
    "state = s"
   ]
  },
  {
   "cell_type": "markdown",
   "metadata": {},
   "source": [
    "This first part:\n",
    "- Sets up the initial conditions\n",
    "- Prepares the tape converting input string to a list for cell manipulation\n",
    "- Initialises the head position to the leftmost cell\n",
    "- Sets the starting state to the initial state 's'"
   ]
  },
  {
   "cell_type": "markdown",
   "metadata": {},
   "source": [
    "#### Step 2: Main execution loop"
   ]
  },
  {
   "cell_type": "code",
   "execution_count": 47,
   "metadata": {},
   "outputs": [
    {
     "name": "stdout",
     "output_type": "stream",
     "text": [
      "R100111\n"
     ]
    }
   ],
   "source": [
    "table = state_table \n",
    "\n",
    "if verbose is True:\n",
    "    #print config\n",
    "    print (state + ''.join(tape))\n",
    "#iterate until at final state\n",
    "while state not in F:\n",
    "    #get current symbol\n",
    "    symbol = tape[pos]\n",
    "    #get next state symbol and direction\n",
    "    if (state, symbol) in table:\n",
    "        next_state, next_symbol, direction = table[(state, symbol)]\n",
    "    break #break just for example\n"
   ]
  },
  {
   "cell_type": "markdown",
   "metadata": {},
   "source": [
    "This part:\n",
    "- Prints the inital configuration if verbose is on\n",
    "- Begins the main exectuion loop that continues until the state matches the final state\n",
    "- Reads the current symbol from the tape at head position\n",
    "- Looks up what to do next in the table based on state and symbol"
   ]
  },
  {
   "cell_type": "markdown",
   "metadata": {},
   "source": [
    "#### Step 4: Update tape and position"
   ]
  },
  {
   "cell_type": "code",
   "execution_count": 48,
   "metadata": {},
   "outputs": [],
   "source": [
    "#update tape\n",
    "tape[pos] = next_symbol\n",
    "#increment operations\n",
    "ops += 1\n",
    "#move in direction\n",
    "if direction == 'L':\n",
    "    pos -= 1\n",
    "elif direction == 'R':\n",
    "    pos += 1\n",
    "#n means no movement"
   ]
  },
  {
   "cell_type": "markdown",
   "metadata": {},
   "source": [
    "Here the machine:\n",
    "- Writes the new symbol to the current position\n",
    "- Counts this operation\n",
    "- Moves the head left or right based on the direction from table or stays if 'N'"
   ]
  },
  {
   "cell_type": "markdown",
   "metadata": {},
   "source": [
    "#### Step 5: Handle infinite tape"
   ]
  },
  {
   "cell_type": "code",
   "execution_count": 49,
   "metadata": {},
   "outputs": [],
   "source": [
    "#fix finite list promblem\n",
    "if pos < 0:\n",
    "    tape = [b] + tape\n",
    "    pos = 0\n",
    "if pos == len(tape):\n",
    "    tape.append('_')"
   ]
  },
  {
   "cell_type": "markdown",
   "metadata": {},
   "source": [
    "This part is critical:\n",
    "- Handles tapes infinite nature by extending it when needed\n",
    "- If the head moves left of the tapes start a blank symbol is added at the start\n",
    "- If the head moves right beyond the tapes end a blank symbol is added to the end"
   ]
  },
  {
   "cell_type": "markdown",
   "metadata": {},
   "source": [
    "#### Step 6: Upadate state and display"
   ]
  },
  {
   "cell_type": "code",
   "execution_count": 50,
   "metadata": {},
   "outputs": [
    {
     "name": "stdout",
     "output_type": "stream",
     "text": [
      "1R00111\n"
     ]
    }
   ],
   "source": [
    "#update state\n",
    "state = next_state\n",
    "if verbose is True:\n",
    "    #print config\n",
    "    print(''.join(tape[:pos]) + state + ''.join(tape[pos:]))"
   ]
  },
  {
   "cell_type": "markdown",
   "metadata": {},
   "source": [
    "Here:\n",
    "- Update the current state to the next state\n",
    "- Print the new config if in verbose mode showing the state at the head position"
   ]
  },
  {
   "cell_type": "markdown",
   "metadata": {},
   "source": [
    "#### Step 7: Error handling and result output"
   ]
  },
  {
   "cell_type": "code",
   "execution_count": 51,
   "metadata": {},
   "outputs": [
    {
     "name": "stdout",
     "output_type": "stream",
     "text": [
      "Number of operations: 1\n",
      "Output: 100111\n"
     ]
    }
   ],
   "source": [
    "if verbose is True:\n",
    "    state = state # just so example works\n",
    "else:\n",
    "    if verbose is True:\n",
    "        print(f\"Invalid state: {state}, symbol: {symbol}\")\n",
    "\n",
    "if verbose is True:\n",
    "    print(f\"Number of operations: {ops}\")\n",
    "    print(f\"Output: {''.join(tape).strip('_')}\")"
   ]
  },
  {
   "cell_type": "markdown",
   "metadata": {},
   "source": [
    "The final part:\n",
    "- Handles error cases whre no transition is defined\n",
    "- Prints operation count and final output"
   ]
  },
  {
   "cell_type": "markdown",
   "metadata": {},
   "source": [
    "---------------------------------------------------------------------------"
   ]
  },
  {
   "cell_type": "markdown",
   "metadata": {},
   "source": [
    "### Task 7 References:\n",
    "1. Turing, A.M(1936) \"On Computable Numbers\": https://www.cs.virginia.edu/~robins/Turing_Paper_1936.\n",
    "2. Sipser, M.(2013) \"Introduction to the Theory of Computation\" :https://drive.uqu.edu.sa/_/mskhayat/files/MySubjects/20189FS%20ComputationTheory/Introduction%20to%20the%20theory%20of%20computation_third%20edition%20-%20Michael%20Sipser.pdf\n",
    "3. Implementing a Turing machine easily in Python, Medium: https://medium.com/@vardanagarwal16/implementing-a-turing-machine-easily-in-python-55213fc8d5d5\n",
    "4. Turing Machine Simulator Using Python, Geeksforgeeks: https://www.geeksforgeeks.org/turing-machine-simulator-using-python/\n",
    "5. Designing a Turing Machine's state table, Stackoverflow: https://stackoverflow.com/questions/2099650/designing-a-turing-machines-state-table\n",
    "6. Construct Turing Machine for incrementing Binary Number by 1, Geeksforgeeks: https://www.geeksforgeeks.org/construct-turing-machine-for-incrementing-binary-number-by-1/"
   ]
  },
  {
   "cell_type": "markdown",
   "metadata": {},
   "source": [
    "---------------------------------------------------------------------------"
   ]
  },
  {
   "cell_type": "markdown",
   "metadata": {},
   "source": [
    "## Task 8: Computational Complexity"
   ]
  },
  {
   "cell_type": "markdown",
   "metadata": {},
   "source": [
    "### Bubble sort\n",
    "Bubble sort is a sorting algorithm. Named for the way smaller elements \"bubble\" to the top of the list. \n",
    "\n",
    "#### Time Complexity\n",
    "- best case: O(n) (when array is already sorted)\n",
    "- average case: O(n^2)\n",
    "- worst case: O(n^2)\n",
    "\n",
    "#### Space Complexity\n",
    "- O(1), sorts in place\n",
    "\n",
    "#### Advantages:\n",
    "- Simple to implement\n",
    "- Requires minimal memory\n",
    "- Performs well on small datasets or nearly sorted arrays\n",
    "- Can detect a sorted array in a single pass\n",
    "\n",
    "#### Disadvantages:\n",
    "- Inefficient for large datasets\n",
    "- Performs more comparisons and sways then nessessary\n",
    "- Outperformed by other algorithms like Quick sort  \n",
    "[[1]](https://www.geeksforgeeks.org/bubble-sort-algorithm/) [[2]](https://stackoverflow.com/questions/104420/how-do-i-generate-all-permutations-of-a-list)"
   ]
  },
  {
   "cell_type": "code",
   "execution_count": 52,
   "metadata": {},
   "outputs": [],
   "source": [
    "def bubble_sort(array):\n",
    "    #create a of array to avoid modifying original\n",
    "    array = array.copy()\n",
    "    n = len(array)\n",
    "    comparisons = 0\n",
    "\n",
    "    #iterate over each element\n",
    "    for i in range(n):\n",
    "        #flag to check if any elements were swapped\n",
    "        swapped = False\n",
    "        #last i elements are already sorted\n",
    "        for j in range(0, n-i-1):\n",
    "            comparisons += 1\n",
    "            #swap if element is greater than next\n",
    "            if array[j] > array[j+1]:\n",
    "                array[j], array[j+1] = array[j+1], array[j]\n",
    "                swapped = True\n",
    "        #if no elements were swapped break\n",
    "        if not swapped:\n",
    "            break\n",
    "\n",
    "    return array, comparisons "
   ]
  },
  {
   "cell_type": "code",
   "execution_count": 53,
   "metadata": {},
   "outputs": [
    {
     "name": "stdout",
     "output_type": "stream",
     "text": [
      "Permutation: [1, 2, 3, 4, 5], Comparisons: 4\n",
      "Permutation: [1, 2, 3, 5, 4], Comparisons: 7\n",
      "Permutation: [1, 2, 4, 3, 5], Comparisons: 7\n",
      "Permutation: [1, 2, 4, 5, 3], Comparisons: 9\n",
      "Permutation: [1, 2, 5, 3, 4], Comparisons: 7\n",
      "Permutation: [1, 2, 5, 4, 3], Comparisons: 9\n",
      "Permutation: [1, 3, 2, 4, 5], Comparisons: 7\n",
      "Permutation: [1, 3, 2, 5, 4], Comparisons: 7\n",
      "Permutation: [1, 3, 4, 2, 5], Comparisons: 9\n",
      "Permutation: [1, 3, 4, 5, 2], Comparisons: 10\n",
      "Permutation: [1, 3, 5, 2, 4], Comparisons: 9\n",
      "Permutation: [1, 3, 5, 4, 2], Comparisons: 10\n",
      "Permutation: [1, 4, 2, 3, 5], Comparisons: 7\n",
      "Permutation: [1, 4, 2, 5, 3], Comparisons: 9\n",
      "Permutation: [1, 4, 3, 2, 5], Comparisons: 9\n",
      "Permutation: [1, 4, 3, 5, 2], Comparisons: 10\n",
      "Permutation: [1, 4, 5, 2, 3], Comparisons: 9\n",
      "Permutation: [1, 4, 5, 3, 2], Comparisons: 10\n",
      "Permutation: [1, 5, 2, 3, 4], Comparisons: 7\n",
      "Permutation: [1, 5, 2, 4, 3], Comparisons: 9\n",
      "Permutation: [1, 5, 3, 2, 4], Comparisons: 9\n",
      "Permutation: [1, 5, 3, 4, 2], Comparisons: 10\n",
      "Permutation: [1, 5, 4, 2, 3], Comparisons: 9\n",
      "Permutation: [1, 5, 4, 3, 2], Comparisons: 10\n",
      "Permutation: [2, 1, 3, 4, 5], Comparisons: 7\n",
      "Permutation: [2, 1, 3, 5, 4], Comparisons: 7\n",
      "Permutation: [2, 1, 4, 3, 5], Comparisons: 7\n",
      "Permutation: [2, 1, 4, 5, 3], Comparisons: 9\n",
      "Permutation: [2, 1, 5, 3, 4], Comparisons: 7\n",
      "Permutation: [2, 1, 5, 4, 3], Comparisons: 9\n",
      "Permutation: [2, 3, 1, 4, 5], Comparisons: 9\n",
      "Permutation: [2, 3, 1, 5, 4], Comparisons: 9\n",
      "Permutation: [2, 3, 4, 1, 5], Comparisons: 10\n",
      "Permutation: [2, 3, 4, 5, 1], Comparisons: 10\n",
      "Permutation: [2, 3, 5, 1, 4], Comparisons: 10\n",
      "Permutation: [2, 3, 5, 4, 1], Comparisons: 10\n",
      "Permutation: [2, 4, 1, 3, 5], Comparisons: 9\n",
      "Permutation: [2, 4, 1, 5, 3], Comparisons: 9\n",
      "Permutation: [2, 4, 3, 1, 5], Comparisons: 10\n",
      "Permutation: [2, 4, 3, 5, 1], Comparisons: 10\n",
      "Permutation: [2, 4, 5, 1, 3], Comparisons: 10\n",
      "Permutation: [2, 4, 5, 3, 1], Comparisons: 10\n",
      "Permutation: [2, 5, 1, 3, 4], Comparisons: 9\n",
      "Permutation: [2, 5, 1, 4, 3], Comparisons: 9\n",
      "Permutation: [2, 5, 3, 1, 4], Comparisons: 10\n",
      "Permutation: [2, 5, 3, 4, 1], Comparisons: 10\n",
      "Permutation: [2, 5, 4, 1, 3], Comparisons: 10\n",
      "Permutation: [2, 5, 4, 3, 1], Comparisons: 10\n",
      "Permutation: [3, 1, 2, 4, 5], Comparisons: 7\n",
      "Permutation: [3, 1, 2, 5, 4], Comparisons: 7\n",
      "Permutation: [3, 1, 4, 2, 5], Comparisons: 9\n",
      "Permutation: [3, 1, 4, 5, 2], Comparisons: 10\n",
      "Permutation: [3, 1, 5, 2, 4], Comparisons: 9\n",
      "Permutation: [3, 1, 5, 4, 2], Comparisons: 10\n",
      "Permutation: [3, 2, 1, 4, 5], Comparisons: 9\n",
      "Permutation: [3, 2, 1, 5, 4], Comparisons: 9\n",
      "Permutation: [3, 2, 4, 1, 5], Comparisons: 10\n",
      "Permutation: [3, 2, 4, 5, 1], Comparisons: 10\n",
      "Permutation: [3, 2, 5, 1, 4], Comparisons: 10\n",
      "Permutation: [3, 2, 5, 4, 1], Comparisons: 10\n",
      "Permutation: [3, 4, 1, 2, 5], Comparisons: 9\n",
      "Permutation: [3, 4, 1, 5, 2], Comparisons: 10\n",
      "Permutation: [3, 4, 2, 1, 5], Comparisons: 10\n",
      "Permutation: [3, 4, 2, 5, 1], Comparisons: 10\n",
      "Permutation: [3, 4, 5, 1, 2], Comparisons: 10\n",
      "Permutation: [3, 4, 5, 2, 1], Comparisons: 10\n",
      "Permutation: [3, 5, 1, 2, 4], Comparisons: 9\n",
      "Permutation: [3, 5, 1, 4, 2], Comparisons: 10\n",
      "Permutation: [3, 5, 2, 1, 4], Comparisons: 10\n",
      "Permutation: [3, 5, 2, 4, 1], Comparisons: 10\n",
      "Permutation: [3, 5, 4, 1, 2], Comparisons: 10\n",
      "Permutation: [3, 5, 4, 2, 1], Comparisons: 10\n",
      "Permutation: [4, 1, 2, 3, 5], Comparisons: 7\n",
      "Permutation: [4, 1, 2, 5, 3], Comparisons: 9\n",
      "Permutation: [4, 1, 3, 2, 5], Comparisons: 9\n",
      "Permutation: [4, 1, 3, 5, 2], Comparisons: 10\n",
      "Permutation: [4, 1, 5, 2, 3], Comparisons: 9\n",
      "Permutation: [4, 1, 5, 3, 2], Comparisons: 10\n",
      "Permutation: [4, 2, 1, 3, 5], Comparisons: 9\n",
      "Permutation: [4, 2, 1, 5, 3], Comparisons: 9\n",
      "Permutation: [4, 2, 3, 1, 5], Comparisons: 10\n",
      "Permutation: [4, 2, 3, 5, 1], Comparisons: 10\n",
      "Permutation: [4, 2, 5, 1, 3], Comparisons: 10\n",
      "Permutation: [4, 2, 5, 3, 1], Comparisons: 10\n",
      "Permutation: [4, 3, 1, 2, 5], Comparisons: 9\n",
      "Permutation: [4, 3, 1, 5, 2], Comparisons: 10\n",
      "Permutation: [4, 3, 2, 1, 5], Comparisons: 10\n",
      "Permutation: [4, 3, 2, 5, 1], Comparisons: 10\n",
      "Permutation: [4, 3, 5, 1, 2], Comparisons: 10\n",
      "Permutation: [4, 3, 5, 2, 1], Comparisons: 10\n",
      "Permutation: [4, 5, 1, 2, 3], Comparisons: 9\n",
      "Permutation: [4, 5, 1, 3, 2], Comparisons: 10\n",
      "Permutation: [4, 5, 2, 1, 3], Comparisons: 10\n",
      "Permutation: [4, 5, 2, 3, 1], Comparisons: 10\n",
      "Permutation: [4, 5, 3, 1, 2], Comparisons: 10\n",
      "Permutation: [4, 5, 3, 2, 1], Comparisons: 10\n",
      "Permutation: [5, 1, 2, 3, 4], Comparisons: 7\n",
      "Permutation: [5, 1, 2, 4, 3], Comparisons: 9\n",
      "Permutation: [5, 1, 3, 2, 4], Comparisons: 9\n",
      "Permutation: [5, 1, 3, 4, 2], Comparisons: 10\n",
      "Permutation: [5, 1, 4, 2, 3], Comparisons: 9\n",
      "Permutation: [5, 1, 4, 3, 2], Comparisons: 10\n",
      "Permutation: [5, 2, 1, 3, 4], Comparisons: 9\n",
      "Permutation: [5, 2, 1, 4, 3], Comparisons: 9\n",
      "Permutation: [5, 2, 3, 1, 4], Comparisons: 10\n",
      "Permutation: [5, 2, 3, 4, 1], Comparisons: 10\n",
      "Permutation: [5, 2, 4, 1, 3], Comparisons: 10\n",
      "Permutation: [5, 2, 4, 3, 1], Comparisons: 10\n",
      "Permutation: [5, 3, 1, 2, 4], Comparisons: 9\n",
      "Permutation: [5, 3, 1, 4, 2], Comparisons: 10\n",
      "Permutation: [5, 3, 2, 1, 4], Comparisons: 10\n",
      "Permutation: [5, 3, 2, 4, 1], Comparisons: 10\n",
      "Permutation: [5, 3, 4, 1, 2], Comparisons: 10\n",
      "Permutation: [5, 3, 4, 2, 1], Comparisons: 10\n",
      "Permutation: [5, 4, 1, 2, 3], Comparisons: 9\n",
      "Permutation: [5, 4, 1, 3, 2], Comparisons: 10\n",
      "Permutation: [5, 4, 2, 1, 3], Comparisons: 10\n",
      "Permutation: [5, 4, 2, 3, 1], Comparisons: 10\n",
      "Permutation: [5, 4, 3, 1, 2], Comparisons: 10\n",
      "Permutation: [5, 4, 3, 2, 1], Comparisons: 10\n"
     ]
    }
   ],
   "source": [
    "L = [1,2,3,4,5]\n",
    "#generate all permutations of list\n",
    "all_permutations = list(itertools.permutations(L))\n",
    "\n",
    "#sort each permutation\n",
    "for perm in all_permutations:\n",
    "    #convert tuple to list\n",
    "    perm_list = list(perm)\n",
    "    #keep original permutation for printing\n",
    "    original = perm_list.copy()\n",
    "\n",
    "    _,comparisons = bubble_sort(perm_list)\n",
    "    print(f\"Permutation: {original}, Comparisons: {comparisons}\")"
   ]
  },
  {
   "cell_type": "markdown",
   "metadata": {},
   "source": [
    "### Code Explanation"
   ]
  },
  {
   "cell_type": "code",
   "execution_count": 54,
   "metadata": {},
   "outputs": [],
   "source": [
    "array = [64, 34, 25, 12, 22, 11, 90]\n",
    "#create a copy of array to avoid modifying original\n",
    "array = array.copy()\n",
    "#get length of array\n",
    "n = len(array)\n",
    "#initialise comparisons\n",
    "comparisons = 0"
   ]
  },
  {
   "cell_type": "markdown",
   "metadata": {},
   "source": [
    "This section sets up the function and initialises variables.\n",
    "- We get a copy of the array so not to modify the original\n",
    "- We get the lenght of the array to define the passes through the array\n",
    "- We initialise the comaparisons variable which will store the number of comparisons per permutation"
   ]
  },
  {
   "cell_type": "code",
   "execution_count": 55,
   "metadata": {},
   "outputs": [],
   "source": [
    "#iterate over each element\n",
    "for i in range(n):\n",
    "    #flag to check if any elements were swapped\n",
    "    swapped = False"
   ]
  },
  {
   "cell_type": "markdown",
   "metadata": {},
   "source": [
    "This outer loop makes n passes through the array if it does not hit a break. The swapped flag helps optimise by exiting early if the array becomes sorted"
   ]
  },
  {
   "cell_type": "code",
   "execution_count": 56,
   "metadata": {},
   "outputs": [],
   "source": [
    " #last i elements are already sorted\n",
    "for j in range(0, n-i-1):\n",
    "    comparisons += 1"
   ]
  },
  {
   "cell_type": "markdown",
   "metadata": {},
   "source": [
    "The inner loop compares adjacent elements. We stop at n-i-1 because after each pass the largest i elements are already in their correct positions at the end of the array"
   ]
  },
  {
   "cell_type": "code",
   "execution_count": 57,
   "metadata": {},
   "outputs": [],
   "source": [
    "j=0\n",
    "#swap if element is greater than next\n",
    "if array[j] > array[j+1]:\n",
    "    array[j], array[j+1] = array[j+1], array[j]\n",
    "    swapped = True"
   ]
  },
  {
   "cell_type": "markdown",
   "metadata": {},
   "source": [
    "Here the actual comparison and swap takes place if an element is greater then the one to its right, we swap them and set our flag to indicate a swap occured."
   ]
  },
  {
   "cell_type": "code",
   "execution_count": 58,
   "metadata": {},
   "outputs": [],
   "source": [
    "#for loop as example\n",
    "for example in array:\n",
    "    #if no elements were swapped break\n",
    "    if not swapped:\n",
    "        break"
   ]
  },
  {
   "cell_type": "markdown",
   "metadata": {},
   "source": [
    "This is the optimisation if no swaps occur during a pass then the array is sorted and we can exit early."
   ]
  },
  {
   "cell_type": "markdown",
   "metadata": {},
   "source": [
    "---------------------------------------------------------------------------"
   ]
  },
  {
   "cell_type": "markdown",
   "metadata": {},
   "source": [
    "### Task 8 references\n",
    "1. Bubble Sort Algorithm, GeeksforGeeks: https://www.geeksforgeeks.org/bubble-sort-algorithm/\n",
    "2. How do I generate all permutations of a list?, Stackoverflow: https://stackoverflow.com/questions/104420/how-do-i-generate-all-permutations-of-a-list\n",
    "3. 6.7. The Bubble Sort, pythonds: https://runestone.academy/ns/books/published/pythonds/SortSearch/TheBubbleSort.html"
   ]
  },
  {
   "cell_type": "markdown",
   "metadata": {},
   "source": [
    "---------------------------------------------------------------------------"
   ]
  },
  {
   "cell_type": "markdown",
   "metadata": {},
   "source": [
    "## End"
   ]
  }
 ],
 "metadata": {
  "kernelspec": {
   "display_name": "Python 3",
   "language": "python",
   "name": "python3"
  },
  "language_info": {
   "codemirror_mode": {
    "name": "ipython",
    "version": 3
   },
   "file_extension": ".py",
   "mimetype": "text/x-python",
   "name": "python",
   "nbconvert_exporter": "python",
   "pygments_lexer": "ipython3",
   "version": "3.12.1"
  }
 },
 "nbformat": 4,
 "nbformat_minor": 2
}
