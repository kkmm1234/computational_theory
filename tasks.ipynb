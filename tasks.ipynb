{
 "cells": [
  {
   "cell_type": "code",
   "execution_count": 121,
   "metadata": {},
   "outputs": [],
   "source": [
    "import os"
   ]
  },
  {
   "cell_type": "markdown",
   "metadata": {},
   "source": [
    "# Computational Theory Tasks"
   ]
  },
  {
   "cell_type": "markdown",
   "metadata": {},
   "source": [
    "## Task 1: Binary Representations"
   ]
  },
  {
   "cell_type": "markdown",
   "metadata": {},
   "source": [
    "This task involves implementing four functions aimed to manipulate binary data, this is fundemental to many crythographic algorithms. Bitwise Operations allow for the manipulation of individual bits of data, these operations are applied directly to binary representations of numbers.  In cryptography bitwise operations are used to ensure confusion and diffusion in data.  Some common uses of these operations are in Hash functions, Encryption algorithms, Blockchain aswell as many others."
   ]
  },
  {
   "cell_type": "markdown",
   "metadata": {},
   "source": [
    "---------------------------------------------------------------------------"
   ]
  },
  {
   "cell_type": "markdown",
   "metadata": {},
   "source": [
    "### 1. 'rotl(x, n=1)' \n",
    "This function rotates bits of a 32-bit unsigned integer 'x' to the left by 'n' places this is effectively shifting bits and wrapping the leftmost bits back into the rightmost position. The most common use for these functions are in crypographic hash functions such as SHA-1 and SHA-256 to provide bitwise diffusion making it difficult to reverse hash.  They are also used in applications like cylic buffers or rotating registers in hardware."
   ]
  },
  {
   "cell_type": "code",
   "execution_count": 122,
   "metadata": {},
   "outputs": [],
   "source": [
    "def rotl(x, n=1):\n",
    "    x &= 0xFFFFFFFF  #ensure x is a 32-bit unsigned integer\n",
    "    return ((x << n) | (x >> (32 - n))) & 0xFFFFFFFF #rotate left by n bits"
   ]
  },
  {
   "cell_type": "markdown",
   "metadata": {},
   "source": [
    "#### Step 1 Ensure x is a 32-bit unsigned integer.\n",
    "- `0xFFFFFFFF` is the hexidecimal constant that represents a 32-bit mask.\n",
    "\n",
    "- The bitwise AND (&) operation ensures that x only has the lower 32 bits, preventing unexpected large numbers.\n",
    "#### Step 2 Rotate left by n bits\n",
    "- `(x << n)` : Left shift moves bits n places to the left, filling with 0s, bits moved beyond 32nd bit are lost\n",
    "\n",
    "- `(x >> (32 - n))` : Right shift moves the lost bits back to rightmost positions \n",
    "\n",
    "- `|` : Bitwise OR combines the shifted values.\n",
    "### Step 3 Ensure Result is 32-bit\n",
    "- `& 0xFFFFFFFF` : This ensures result stays within 32-bit unsigned integer range"
   ]
  },
  {
   "cell_type": "code",
   "execution_count": 123,
   "metadata": {},
   "outputs": [
    {
     "name": "stdout",
     "output_type": "stream",
     "text": [
      "Original: 00000000000000000000000000000001\n",
      "Rotated Left 3 positions: 00000000000000000000000000001000\n"
     ]
    }
   ],
   "source": [
    "#example usage:\n",
    "x = 0b01\n",
    "n = 3\n",
    "result = rotl(x, n)\n",
    "print(f\"Original: {x:032b}\")\n",
    "print(f\"Rotated Left {n} positions: {result:032b}\")"
   ]
  },
  {
   "cell_type": "markdown",
   "metadata": {},
   "source": [
    "---------------------------------------------------------------------------"
   ]
  },
  {
   "cell_type": "markdown",
   "metadata": {},
   "source": [
    "### 2. 'rotr(x n=1)'\n",
    "This function rotates bits of a 32-bit unsigned integer 'x' to the right 'n' places this is effectively shifting bits and wrapping the rightmost bits back into the leftmost position. This is similar to the 'rotl' function with the same use cases."
   ]
  },
  {
   "cell_type": "code",
   "execution_count": 124,
   "metadata": {},
   "outputs": [],
   "source": [
    "def rotr(x, n=1):\n",
    "    x &= 0xFFFFFFFF #ensure x is a 32-bit unsigned integer\n",
    "    return ((x >> n) | (x << (32 - n))) & 0xFFFFFFFF #rotate right by n bits"
   ]
  },
  {
   "cell_type": "markdown",
   "metadata": {},
   "source": [
    "#### Step 1 Ensure x is a 32-bit unsigned integer.\n",
    "- `0xFFFFFFFF` is the hexidecimal constant that represents a 32-bit mask.\n",
    "\n",
    "- The bitwise AND (&) operation ensures that x only has the lower 32 bits, preventing unexpected large numbers.\n",
    "#### Step 2 Rotate right by n bits\n",
    "- `(x >> n)` : Right shift moves bits n places to the right, filling with 0s, bits moved beyond 32nd bit are lost\n",
    "\n",
    "- `(x << (32 - n))` : Left shift moves the lost bits back to leftmost positions \n",
    "\n",
    "- `|` : Bitwise OR combines the shifted values.\n",
    "### Step 3 Ensure result is 32-bit\n",
    "- `& 0xFFFFFFFF` : This ensures result stays within 32-bit unsigned integer range"
   ]
  },
  {
   "cell_type": "code",
   "execution_count": 125,
   "metadata": {},
   "outputs": [
    {
     "name": "stdout",
     "output_type": "stream",
     "text": [
      "Original: 00000000000000000000000000000001\n",
      "Rotated Right by 3 positions: 00100000000000000000000000000000\n"
     ]
    }
   ],
   "source": [
    "#example usage:\n",
    "x = 0b01\n",
    "n = 3\n",
    "result = rotr(x, n)\n",
    "print(f\"Original: {x:032b}\")\n",
    "print(f\"Rotated Right by {n} positions: {result:032b}\")"
   ]
  },
  {
   "cell_type": "markdown",
   "metadata": {},
   "source": [
    "---------------------------------------------------------------------------"
   ]
  },
  {
   "cell_type": "markdown",
   "metadata": {},
   "source": [
    "### 3. 'def ch(x, y, z)'\n",
    "This function chooses bits from two values: y and z, based off the corresponding bits in x. This works by choosing the corresponding bit in y if the x bit is 1; and choosing the bit corresponding bit in z if x is 0. This is a core compononent in the SHA-2(Secure Hash Algorithm) its used in the message schedule, it works with the bitwise operations to choose part of data from different sources based on values of x. Its also helps mix data from multiple sources to enhace unpredictability of cryptogrpahic transformations."
   ]
  },
  {
   "cell_type": "code",
   "execution_count": 126,
   "metadata": {},
   "outputs": [],
   "source": [
    "def ch(x, y, z):\n",
    "     #choose y if x is true(1), otherwise choose z if x is false(0)\n",
    "    return (x & y) ^ (~x & z)"
   ]
  },
  {
   "cell_type": "markdown",
   "metadata": {},
   "source": [
    "#### Step 1 Select y where x is 1\n",
    "- `(x & y)` : Bitwise AND(&) ensures that only the bits where x is 1 are taken from y\n",
    "#### Step 2 Select z where x is 0\n",
    "- `(~x & z) `: Bitwise NOT (~x) inverts bits in x, making the 1s to 0s and vice versa\n",
    "\n",
    "- Bitwise AND(&) with z ensures only bits were x was originally 0 can be taken form z\n",
    "#### Step 3 Combine results\n",
    "- `(x & y) ^ (~x & z)` : Bitwise XOR(^) combines the two selections, ensuring bits from only one (y or z) is taken at each position"
   ]
  },
  {
   "cell_type": "code",
   "execution_count": 127,
   "metadata": {},
   "outputs": [
    {
     "name": "stdout",
     "output_type": "stream",
     "text": [
      "x: 1100, y: 1010, z: 0110\n",
      "ch(x, y, z): 1010\n"
     ]
    }
   ],
   "source": [
    "#example usage:\n",
    "x = 0b1100  \n",
    "y = 0b1010  \n",
    "z = 0b0110 \n",
    "result = ch(x, y, z)\n",
    "print(f\"x: {x:04b}, y: {y:04b}, z: {z:04b}\")\n",
    "print(f\"ch(x, y, z): {result:04b}\")"
   ]
  },
  {
   "cell_type": "markdown",
   "metadata": {},
   "source": [
    "---------------------------------------------------------------------------"
   ]
  },
  {
   "cell_type": "markdown",
   "metadata": {},
   "source": [
    "### 4. 'maj(x, y, z)'\n",
    "This function takes a majority vote of the bits in each position in x, y and z. Output has 1 in position i if at least two of x, y, z have 1s in position i otherwise the result is 0. This is commonly used in Cryptographic hash functions such as SHA-256 and ensures output is influenced by majority of bits, increasing diffusion, improving resistance to attacks. Its also used in certain Error correction Codes or correction schemes where majority of values are trusted, allowing erros to be flagged based on outliers."
   ]
  },
  {
   "cell_type": "code",
   "execution_count": 128,
   "metadata": {},
   "outputs": [],
   "source": [
    "def maj(x, y, z):\n",
    "    #choose the majority of x, y, z\n",
    "    return (x & y) ^ (x & z) ^ (y & z)"
   ]
  },
  {
   "cell_type": "markdown",
   "metadata": {},
   "source": [
    "#### Step 1 Calculate the majority between x and y\n",
    "- `(x & y)` : Bitwise AND(&) between x and y give the bits where both x and y have 1 in the same position\n",
    "\n",
    "- This operation shows a majority of the two bits at each position\n",
    "#### Step 2 Calculate the majority between x and z\n",
    "- `(x & z)` : Bitwise AND(&) between x and z gives the bits where both x and z have 1 in the same position\n",
    "#### Step 3 Calculate the majority between y and z\n",
    "- `(y & z)` : Bitwise AND(&) between y and z gives the bits where both x and z have 1 in the same position\n",
    "#### Step 4 Combine results with XOR(^)\n",
    "- `(x & y) ^ (x & z) ^ (y & z)` : Bitwise XOR(^) combines the results of these three majoritys. The XOR operation ensures only the majority value of the three will be choosen\n",
    "\n",
    "- Eg. If two of the three bits are 1, the result will be 1 fot that bit position\n"
   ]
  },
  {
   "cell_type": "code",
   "execution_count": 129,
   "metadata": {},
   "outputs": [
    {
     "name": "stdout",
     "output_type": "stream",
     "text": [
      "x: 1100, y: 1010, z: 0110\n",
      "maj(x, y, z): 1110\n"
     ]
    }
   ],
   "source": [
    "#example usage:\n",
    "x = 0b1100  \n",
    "y = 0b1010  \n",
    "z = 0b0110 \n",
    "result = maj(x, y, z)\n",
    "print(f\"x: {x:04b}, y: {y:04b}, z: {z:04b}\")\n",
    "print(f\"maj(x, y, z): {result:04b}\")"
   ]
  },
  {
   "cell_type": "markdown",
   "metadata": {},
   "source": [
    "---------------------------------------------------------------------------"
   ]
  },
  {
   "cell_type": "markdown",
   "metadata": {},
   "source": [
    "### Test function\n",
    "Testing each Binary operation function using hexdecimal number representations"
   ]
  },
  {
   "cell_type": "code",
   "execution_count": 130,
   "metadata": {},
   "outputs": [
    {
     "name": "stdout",
     "output_type": "stream",
     "text": [
      "All test cases passed successfully\n"
     ]
    }
   ],
   "source": [
    "#test cases\n",
    "def test_binary_functions():\n",
    "    #test rotl using hexadecimal numbers\n",
    "    #0x01 = 0000 0001, 0x02 = 0000 0010\n",
    "    assert rotl(0x01, 1) == 0x02\n",
    "    #0x80000000 = 1000 0000 0000 0000 0000 0000 0000 0000, 0x00000001 = 0000 0000 0000 0000 0000 0000 0000 0001\n",
    "    assert rotl(0x80000000, 1) == 0x00000001\n",
    "    #0x12345678 = 0001 0010 0011 0100 0101 0110 0111 1000, 0x23456781 = 0010 0011 0100 0101 0110 0111 1000 0001 \n",
    "    assert rotl(0x12345678, 4) == 0x23456781\n",
    "\n",
    "    #test rotr using hexadecimal numbers\n",
    "    #0x01 = 0000 0001, 0x02 = 0000 0010\n",
    "    assert rotr(0x02, 1) == 0x01\n",
    "    #0x80000000 = 1000 0000 0000 0000 0000 0000 0000 0000, 0x00000001 = 0000 0000 0000 0000 0000\n",
    "    assert rotr(0x00000001, 1) == 0x80000000\n",
    "    #0x12345678 = 0001 0010 0011 0100 0101 0110 0111 1000, 0x81234567 = 1000 0001 0010 0011 0100 0101 0110 0111\n",
    "    assert rotr(0x12345678, 4) == 0x81234567\n",
    "\n",
    "    #test ch using hexadecimal numbers(simple examples)\n",
    "    #0xFFFFFFFF = 1111 1111 1111 1111 1111 1111 1111 1111, 0xAAAAAAAA = 1010 1010 1010 1010 1010 1010 1010 1010, 0x55555555 = 0101 0101 0101 0101 0101 0101 0101 0101\n",
    "    assert ch(0xFFFFFFFF, 0xAAAAAAAA, 0x55555555) == 0xAAAAAAAA #x is all ones, so the result is y\n",
    "    #0x00000000 = 0000 0000 0000 0000 0000 0000 0000 0000, 0xAAAAAAAA = 1010 1010 1010 1010 1010 1010 1010 1010, 0x55555555 = 0101 0101 0101 0101 0101 0101 0101 0101\n",
    "    assert ch(0x00000000, 0xAAAAAAAA, 0x55555555) == 0x55555555 #x is all zeros, so the result is z\n",
    "    #0xF0F0F0F0 = 1111 0000 1111 0000 1111 0000 1111 0000, 0xAAAAAAAA = 1010 1010 1010 1010 1010 1010 1010 1010, 0x55555555 = 0101 0101 0101 0101 0101 0101 0101 0101\n",
    "    assert ch(0xF0F0F0F0, 0xAAAAAAAA, 0x55555555) == 0xA5A5A5A5 #0xA5A5A5A5 = 1010 0101 1010 0101 1010 0101 1010 0101 (combination of y and z as x is mixed)\n",
    "\n",
    "    #test maj using hexadecimal numbers (simple examples)\n",
    "    #0xFFFFFFFF = 1111 1111 1111 1111 1111 1111 1111 1111, 0x00000000 = 0000 0000 0000 0000 0000 0000 0000 0000\n",
    "    assert maj(0xFFFFFFFF, 0x00000000, 0x00000000) == 0x00000000 # majority is 0x00000000 so the result is 0x00000000\n",
    "    #0xFFFFFFFF = 1111 1111 1111 1111 1111 1111 1111 1111, 0x00000000 = 0000 0000 0000 0000 0000 0000 0000 0000\n",
    "    assert maj(0xFFFFFFFF, 0xFFFFFFFF, 0x00000000) == 0xFFFFFFFF # majority is 0xFFFFFFFF so the result is 0xFFFFFFFF\n",
    "    #0xFFFFFFFF = 1111 1111 1111 1111 1111 1111 1111 1111, 0xF0F0F0F0 = 1111 0000 1111 0000 1111 0000 1111 0000\n",
    "    assert maj(0xFFFFFFFF, 0xF0F0F0F0, 0xF0F0F0F0) == 0xF0F0F0F0 # majority is 0xF0F0F0F0 so the result is 0xF0F0F0F0\n",
    "\n",
    "    print(\"All test cases passed successfully\")\n",
    "\n",
    "test_binary_functions()"
   ]
  },
  {
   "cell_type": "markdown",
   "metadata": {},
   "source": [
    "---------------------------------------------------------------------------"
   ]
  },
  {
   "cell_type": "markdown",
   "metadata": {},
   "source": [
    "### Task 1 References:\n",
    "1. FIPS PUB 180-4: Secure Hash Standard (SHS) :https://nvlpubs.nist.gov/nistpubs/FIPS/NIST.FIPS.180-4.pdf  \n",
    "2. M. A. Hossain, M. M. Alam, and M. S. Alam, \"Cryptography Encryption Technique Using Circular Bit Rotation in Binary Field,\" 2020 IEEE Region 10 Symposium (TENSYMP), Dhaka, Bangladesh, 2020: https://ieeexplore.ieee.org/document/9197845/\n",
    "3. Rotate bits of a number: https://www.geeksforgeeks.org/rotate-bits-of-an-integer/\n",
    "4. RealPython: Bitwise operators in python: https://realpython.com/python-bitwise-operators/  \n",
    "5. Understanding Bitwise Operations in Python: Cryptography, Hashing, and Real-World Applications: https://www.linkedin.com/pulse/understanding-bitwise-operations-python-cryptography-hashing-woon-sm7ec/"
   ]
  },
  {
   "cell_type": "markdown",
   "metadata": {},
   "source": [
    "---------------------------------------------------------------------------"
   ]
  },
  {
   "cell_type": "markdown",
   "metadata": {},
   "source": [
    "## Task 2: Hash Functions"
   ]
  },
  {
   "cell_type": "markdown",
   "metadata": {},
   "source": [
    "### Polynomial Rolling Hash Function\n",
    "Hashing is common practice in the world of computer science used to map data, such as strings, to numerical values. A widely used approach for hasing strings is the polynomial rolling hash function.\n",
    "This function is defined as:  \n",
    "$$H(s) = (s_1 \\times p^{(n-1)} + s_2 \\times p^{(n-2)} + ... + s_n \\times p^0) \\mod m$$\n",
    "\n",
    "- $H(s)$ is hash value of the string\n",
    "- $s1, s2, sn$ are ASCII values of characters in the string\n",
    "- $p$ is a prime base (commonly 31)\n",
    "- $m$ is the modulus value (commonly 101)\n",
    "- $n$ is the lenght of the string \n",
    "\n",
    "The Polynomial Rolling Hash Function has many use cases and is widely used in\n",
    "- String Matching Algorithms\n",
    "- Data Structures\n",
    "- Plagiarism Detection\n",
    "- Crypography"
   ]
  },
  {
   "cell_type": "markdown",
   "metadata": {},
   "source": [
    "---------------------------------------------------------------------------"
   ]
  },
  {
   "cell_type": "code",
   "execution_count": 131,
   "metadata": {},
   "outputs": [],
   "source": [
    "def hash(s):\n",
    "    #initialise the hash function to 0\n",
    "    hashval = 0\n",
    "\n",
    "    #iterate over each character in the string\n",
    "    for c in s:\n",
    "        #compute hash using polynomial rolling hash function\n",
    "        hashval = ord(c) + 31 * hashval\n",
    "        print(f\"Character: {c}, Hash: {hashval}\")\n",
    "    \n",
    "    #apply modulo operation to keep hash within fixed range (0-100)\n",
    "    return hashval % 101"
   ]
  },
  {
   "cell_type": "markdown",
   "metadata": {},
   "source": [
    "---------------------------------------------------------------------------"
   ]
  },
  {
   "cell_type": "markdown",
   "metadata": {},
   "source": [
    "### Code Explanation"
   ]
  },
  {
   "cell_type": "markdown",
   "metadata": {},
   "source": [
    "- This variable will store the computed hash value, this will be happen as the function processes each charecter in the string."
   ]
  },
  {
   "cell_type": "code",
   "execution_count": 132,
   "metadata": {},
   "outputs": [],
   "source": [
    "hashval = 0"
   ]
  },
  {
   "cell_type": "markdown",
   "metadata": {},
   "source": [
    "### Polynomial Rolling Hash Calculation\n",
    "- This itereates over each charecter `c` in the string `s`. Each character in `s` contributes to the final hash.\n",
    "\n",
    "- `ord(c)`: Converts the character `c` into ASCII value.\n",
    "\n",
    "- `31 * hashval` : This takes the current hash and multiplies it by 31, this is a prime number commonly used for hash functions.\n",
    "\n",
    "- `ord(c) + 31 * hashval` : The full line adds the ASCII of the character to a scaled hash value, this is to ensure each character incluences the hash in differently depending on the characters position."
   ]
  },
  {
   "cell_type": "code",
   "execution_count": 133,
   "metadata": {},
   "outputs": [
    {
     "name": "stdout",
     "output_type": "stream",
     "text": [
      "99162322\n"
     ]
    }
   ],
   "source": [
    "#string to be hashed\n",
    "s = \"hello\"\n",
    "\n",
    "#interate over each character in the hello\n",
    "for c in s:\n",
    "    #compute hash using polynomial rolling hash function\n",
    "    hashval = ord(c) + 31 * hashval\n",
    "\n",
    "print(hashval)"
   ]
  },
  {
   "cell_type": "markdown",
   "metadata": {},
   "source": [
    "### Modulo Operation (%101)\n",
    "- This aims to ensure the final hash is in a specified range (0-100)\n",
    "\n",
    "- This is to avoid faults like integer overflow, but also keeps the hash value compact.\n",
    "\n",
    "- The prime modulous (101) is used as it helps distribute hash values evenly, which helps reduce collisions."
   ]
  },
  {
   "cell_type": "code",
   "execution_count": 134,
   "metadata": {},
   "outputs": [
    {
     "data": {
      "text/plain": [
       "17"
      ]
     },
     "execution_count": 134,
     "metadata": {},
     "output_type": "execute_result"
    }
   ],
   "source": [
    "hashval % 101"
   ]
  },
  {
   "cell_type": "markdown",
   "metadata": {},
   "source": [
    "---------------------------------------------------------------------------"
   ]
  },
  {
   "cell_type": "markdown",
   "metadata": {},
   "source": [
    "### Example of how function works:"
   ]
  },
  {
   "cell_type": "code",
   "execution_count": 135,
   "metadata": {},
   "outputs": [
    {
     "name": "stdout",
     "output_type": "stream",
     "text": [
      "Character: h, Hash: 104\n",
      "Character: e, Hash: 3325\n",
      "Character: l, Hash: 103183\n",
      "Character: l, Hash: 3198781\n",
      "Character: o, Hash: 99162322\n",
      "17\n"
     ]
    }
   ],
   "source": [
    "print(hash(\"hello\"))"
   ]
  },
  {
   "cell_type": "markdown",
   "metadata": {},
   "source": [
    "Iterate over each charecter in hello applying rolling hash calculation:\n",
    "1. h (ASCII 104): hashval = 104\n",
    "2. e (ASCII 101): hashval = 101 + 31 x 104 = 3325\n",
    "3. l (ASCII 108): hashval = 108 + 31 x 3325 = 103183\n",
    "4. l (ASCII 108): hashval = 108 + 31 x 103183 = 3198781\n",
    "5. o (ASCII 111): hashval = 111 + 31 x 3198781 = 99162322\n",
    "\n",
    "Apply modulo operation:\n",
    "99162322 mod 101 = 17\n",
    "\n",
    "\"Hello\" = 17"
   ]
  },
  {
   "cell_type": "markdown",
   "metadata": {},
   "source": [
    "---------------------------------------------------------------------------"
   ]
  },
  {
   "cell_type": "markdown",
   "metadata": {},
   "source": [
    "### Why use 31 as the Base?\n",
    "1. Efficient Computation:\n",
    "    - 31 is close to the powers of 2, this allows efficient multiplication and bitwise operations on many processors.\n",
    "2. Empirical Evidence:\n",
    "    - Many real-world applications use 31 due to it providing a good balance of speed and low collision probability.\n",
    "3. Prime Number Property:\n",
    "    - Prime numbers reduce chances of hash collisions occuring this is done by ensuring more uniform distribution of hash values"
   ]
  },
  {
   "cell_type": "markdown",
   "metadata": {},
   "source": [
    "### Why use 101 as the Modulus?\n",
    "1. Prime Numbers Improve Hash Distribution:\n",
    "    - Prime modulus ensures values are distributed evenly this inturn reduces hash collisions\n",
    "2. Keeps Hash Values Compact:\n",
    "    - Modulo operations keep hash values in a range in this case that range is 0 -100 this makes it more efficient for hashing tables."
   ]
  },
  {
   "cell_type": "markdown",
   "metadata": {},
   "source": [
    "---------------------------------------------------------------------------"
   ]
  },
  {
   "cell_type": "markdown",
   "metadata": {},
   "source": [
    "### Task 2 References:\n",
    "1. String hasing using Polynomial rolling hash function: https://www.geeksforgeeks.org/string-hashing-using-polynomial-rolling-hash-function\n",
    "2. String hashing: https://cp-algorithms.com/string/string-hashing.html\n",
    "3. Why should hash functions use a prime number modulus?: https://www.designgurus.io/answers/detail/why-should-hash-functions-use-a-prime-number-modulus\n",
    "4. Understanding Rolling Hash: A Key Component in String Matching Algorithms: https://medium.com/%40ggaappuu1234/understanding-rolling-hash-a-key-component-in-string-matching-algorithms-83236d8c4a20\n",
    "5. Introduction to Rolling Hash – Data Structures and Algorithms: https://www.geeksforgeeks.org/introduction-to-rolling-hash-data-structures-and-algorithms/\n",
    "6. On the mathematics behind rolling hashes and anti-hash tests: https://codeforces.com/blog/entry/60442"
   ]
  },
  {
   "cell_type": "markdown",
   "metadata": {},
   "source": [
    "---------------------------------------------------------------------------"
   ]
  },
  {
   "cell_type": "markdown",
   "metadata": {},
   "source": [
    "## Task 3: SHA256"
   ]
  },
  {
   "cell_type": "code",
   "execution_count": null,
   "metadata": {},
   "outputs": [],
   "source": [
    "def sha256(file_path):\n",
    "    #read the file contents\n",
    "    with open(file_path, 'r') as f:\n",
    "        binary_content = f.read().replace(' ', '')\n",
    "    \n",
    "    #convert binary string to bytes\n",
    "    data = bytes(int(binary_content[i:i+8], 2) for i in range(0, len(binary_content), 8))\n",
    "    \n",
    "    #calculate original length in bits\n",
    "    orig_len = len(data) * 8\n",
    "    \n",
    "    #start padding by adding the 1 bit (0x80 in hex)\n",
    "    pad_data = data + b'\\x80'\n",
    "    \n",
    "    #calculate padding length to make total length\n",
    "    pad_len = (56 - (len(pad_data) % 64)) % 64\n",
    "    \n",
    "    #add zero padding\n",
    "    pad_data += b'\\x00' * pad_len\n",
    "    \n",
    "    #append original length as 64-bit big-endian unsigned integer\n",
    "    pad_data += orig_len.to_bytes(8, 'big')\n",
    "    \n",
    "    #print padding in hex\n",
    "    padding_hex = \" \".join(f\"{byte:02x}\" for byte in pad_data[len(data):])\n",
    "    print(padding_hex)\n",
    "    "
   ]
  },
  {
   "cell_type": "code",
   "execution_count": 176,
   "metadata": {},
   "outputs": [
    {
     "name": "stdout",
     "output_type": "stream",
     "text": [
      "80 00 00 00 00 00 00 00 00 00 00 00 00 00 00 00 00 00 00 00 00 00 00 00 00 00 00 00 00 00 00 00 00 00 00 00 00 00 00 00 00 00 00 00 00 00 00 00 00 00 00 00 00 00 00 00 00 00 00 00 18\n"
     ]
    },
    {
     "data": {
      "text/plain": [
       "b'abc\\x80\\x00\\x00\\x00\\x00\\x00\\x00\\x00\\x00\\x00\\x00\\x00\\x00\\x00\\x00\\x00\\x00\\x00\\x00\\x00\\x00\\x00\\x00\\x00\\x00\\x00\\x00\\x00\\x00\\x00\\x00\\x00\\x00\\x00\\x00\\x00\\x00\\x00\\x00\\x00\\x00\\x00\\x00\\x00\\x00\\x00\\x00\\x00\\x00\\x00\\x00\\x00\\x00\\x00\\x00\\x00\\x00\\x00\\x00\\x00\\x18'"
      ]
     },
     "execution_count": 176,
     "metadata": {},
     "output_type": "execute_result"
    }
   ],
   "source": [
    "file_path = \"test.txt\"\n",
    "sha256(file_path)"
   ]
  },
  {
   "cell_type": "markdown",
   "metadata": {},
   "source": [
    "## Task 4: Prime Numbers"
   ]
  },
  {
   "cell_type": "markdown",
   "metadata": {},
   "source": [
    "## Task 5: Roots"
   ]
  },
  {
   "cell_type": "markdown",
   "metadata": {},
   "source": [
    "## Task 6: Proof of Work"
   ]
  },
  {
   "cell_type": "markdown",
   "metadata": {},
   "source": [
    "## Task 7: Turing Machines"
   ]
  },
  {
   "cell_type": "markdown",
   "metadata": {},
   "source": [
    "## Task 8: Computational Complexity"
   ]
  },
  {
   "cell_type": "markdown",
   "metadata": {},
   "source": [
    "## End"
   ]
  }
 ],
 "metadata": {
  "kernelspec": {
   "display_name": "Python 3",
   "language": "python",
   "name": "python3"
  },
  "language_info": {
   "codemirror_mode": {
    "name": "ipython",
    "version": 3
   },
   "file_extension": ".py",
   "mimetype": "text/x-python",
   "name": "python",
   "nbconvert_exporter": "python",
   "pygments_lexer": "ipython3",
   "version": "3.12.1"
  }
 },
 "nbformat": 4,
 "nbformat_minor": 2
}
