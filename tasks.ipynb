{
 "cells": [
  {
   "cell_type": "code",
   "execution_count": 214,
   "metadata": {},
   "outputs": [],
   "source": [
    "import math\n",
    "import time\n",
    "import requests\n",
    "import hashlib"
   ]
  },
  {
   "cell_type": "markdown",
   "metadata": {},
   "source": [
    "# Computational Theory Tasks"
   ]
  },
  {
   "cell_type": "markdown",
   "metadata": {},
   "source": [
    "## Task 1: Binary Representations"
   ]
  },
  {
   "cell_type": "markdown",
   "metadata": {},
   "source": [
    "This task involves implementing four functions aimed to manipulate binary data, this is fundemental to many crythographic algorithms. Bitwise Operations allow for the manipulation of individual bits of data, these operations are applied directly to binary representations of numbers.  In cryptography bitwise operations are used to ensure confusion and diffusion in data.  Some common uses of these operations are in Hash functions, Encryption algorithms, Blockchain aswell as many others."
   ]
  },
  {
   "cell_type": "markdown",
   "metadata": {},
   "source": [
    "---------------------------------------------------------------------------"
   ]
  },
  {
   "cell_type": "markdown",
   "metadata": {},
   "source": [
    "### 1. 'rotl(x, n=1)' \n",
    "This function rotates bits of a 32-bit unsigned integer 'x' to the left by 'n' places this is effectively shifting bits and wrapping the leftmost bits back into the rightmost position. The most common use for these functions are in crypographic hash functions such as SHA-1 and SHA-256 to provide bitwise diffusion making it difficult to reverse hash.  They are also used in applications like cylic buffers or rotating registers in hardware."
   ]
  },
  {
   "cell_type": "code",
   "execution_count": 215,
   "metadata": {},
   "outputs": [],
   "source": [
    "def rotl(x, n=1):\n",
    "    x &= 0xFFFFFFFF  #ensure x is a 32-bit unsigned integer\n",
    "    return ((x << n) | (x >> (32 - n))) & 0xFFFFFFFF #rotate left by n bits"
   ]
  },
  {
   "cell_type": "markdown",
   "metadata": {},
   "source": [
    "#### Step 1 Ensure x is a 32-bit unsigned integer.\n",
    "- `0xFFFFFFFF` is the hexidecimal constant that represents a 32-bit mask.\n",
    "\n",
    "- The bitwise AND (&) operation ensures that x only has the lower 32 bits, preventing unexpected large numbers.\n",
    "#### Step 2 Rotate left by n bits\n",
    "- `(x << n)` : Left shift moves bits n places to the left, filling with 0s, bits moved beyond 32nd bit are lost\n",
    "\n",
    "- `(x >> (32 - n))` : Right shift moves the lost bits back to rightmost positions \n",
    "\n",
    "- `|` : Bitwise OR combines the shifted values.\n",
    "### Step 3 Ensure Result is 32-bit\n",
    "- `& 0xFFFFFFFF` : This ensures result stays within 32-bit unsigned integer range"
   ]
  },
  {
   "cell_type": "code",
   "execution_count": 216,
   "metadata": {},
   "outputs": [
    {
     "name": "stdout",
     "output_type": "stream",
     "text": [
      "Original: 00000000000000000000000000000001\n",
      "Rotated Left 3 positions: 00000000000000000000000000001000\n"
     ]
    }
   ],
   "source": [
    "#example usage:\n",
    "x = 0b01\n",
    "n = 3\n",
    "result = rotl(x, n)\n",
    "print(f\"Original: {x:032b}\")\n",
    "print(f\"Rotated Left {n} positions: {result:032b}\")"
   ]
  },
  {
   "cell_type": "markdown",
   "metadata": {},
   "source": [
    "---------------------------------------------------------------------------"
   ]
  },
  {
   "cell_type": "markdown",
   "metadata": {},
   "source": [
    "### 2. 'rotr(x n=1)'\n",
    "This function rotates bits of a 32-bit unsigned integer 'x' to the right 'n' places this is effectively shifting bits and wrapping the rightmost bits back into the leftmost position. This is similar to the 'rotl' function with the same use cases."
   ]
  },
  {
   "cell_type": "code",
   "execution_count": 217,
   "metadata": {},
   "outputs": [],
   "source": [
    "def rotr(x, n=1):\n",
    "    x &= 0xFFFFFFFF #ensure x is a 32-bit unsigned integer\n",
    "    return ((x >> n) | (x << (32 - n))) & 0xFFFFFFFF #rotate right by n bits"
   ]
  },
  {
   "cell_type": "markdown",
   "metadata": {},
   "source": [
    "#### Step 1 Ensure x is a 32-bit unsigned integer.\n",
    "- `0xFFFFFFFF` is the hexidecimal constant that represents a 32-bit mask.\n",
    "\n",
    "- The bitwise AND (&) operation ensures that x only has the lower 32 bits, preventing unexpected large numbers.\n",
    "#### Step 2 Rotate right by n bits\n",
    "- `(x >> n)` : Right shift moves bits n places to the right, filling with 0s, bits moved beyond 32nd bit are lost\n",
    "\n",
    "- `(x << (32 - n))` : Left shift moves the lost bits back to leftmost positions \n",
    "\n",
    "- `|` : Bitwise OR combines the shifted values.\n",
    "### Step 3 Ensure result is 32-bit\n",
    "- `& 0xFFFFFFFF` : This ensures result stays within 32-bit unsigned integer range"
   ]
  },
  {
   "cell_type": "code",
   "execution_count": 218,
   "metadata": {},
   "outputs": [
    {
     "name": "stdout",
     "output_type": "stream",
     "text": [
      "Original: 00000000000000000000000000000001\n",
      "Rotated Right by 3 positions: 00100000000000000000000000000000\n"
     ]
    }
   ],
   "source": [
    "#example usage:\n",
    "x = 0b01\n",
    "n = 3\n",
    "result = rotr(x, n)\n",
    "print(f\"Original: {x:032b}\")\n",
    "print(f\"Rotated Right by {n} positions: {result:032b}\")"
   ]
  },
  {
   "cell_type": "markdown",
   "metadata": {},
   "source": [
    "---------------------------------------------------------------------------"
   ]
  },
  {
   "cell_type": "markdown",
   "metadata": {},
   "source": [
    "### 3. 'def ch(x, y, z)'\n",
    "This function chooses bits from two values: y and z, based off the corresponding bits in x. This works by choosing the corresponding bit in y if the x bit is 1; and choosing the bit corresponding bit in z if x is 0. This is a core compononent in the SHA-2(Secure Hash Algorithm) its used in the message schedule, it works with the bitwise operations to choose part of data from different sources based on values of x. Its also helps mix data from multiple sources to enhace unpredictability of cryptogrpahic transformations."
   ]
  },
  {
   "cell_type": "code",
   "execution_count": 219,
   "metadata": {},
   "outputs": [],
   "source": [
    "def ch(x, y, z):\n",
    "     #choose y if x is true(1), otherwise choose z if x is false(0)\n",
    "    return (x & y) ^ (~x & z)"
   ]
  },
  {
   "cell_type": "markdown",
   "metadata": {},
   "source": [
    "#### Step 1 Select y where x is 1\n",
    "- `(x & y)` : Bitwise AND(&) ensures that only the bits where x is 1 are taken from y\n",
    "#### Step 2 Select z where x is 0\n",
    "- `(~x & z) `: Bitwise NOT (~x) inverts bits in x, making the 1s to 0s and vice versa\n",
    "\n",
    "- Bitwise AND(&) with z ensures only bits were x was originally 0 can be taken form z\n",
    "#### Step 3 Combine results\n",
    "- `(x & y) ^ (~x & z)` : Bitwise XOR(^) combines the two selections, ensuring bits from only one (y or z) is taken at each position"
   ]
  },
  {
   "cell_type": "code",
   "execution_count": 220,
   "metadata": {},
   "outputs": [
    {
     "name": "stdout",
     "output_type": "stream",
     "text": [
      "x: 1100, y: 1010, z: 0110\n",
      "ch(x, y, z): 1010\n"
     ]
    }
   ],
   "source": [
    "#example usage:\n",
    "x = 0b1100  \n",
    "y = 0b1010  \n",
    "z = 0b0110 \n",
    "result = ch(x, y, z)\n",
    "print(f\"x: {x:04b}, y: {y:04b}, z: {z:04b}\")\n",
    "print(f\"ch(x, y, z): {result:04b}\")"
   ]
  },
  {
   "cell_type": "markdown",
   "metadata": {},
   "source": [
    "---------------------------------------------------------------------------"
   ]
  },
  {
   "cell_type": "markdown",
   "metadata": {},
   "source": [
    "### 4. 'maj(x, y, z)'\n",
    "This function takes a majority vote of the bits in each position in x, y and z. Output has 1 in position i if at least two of x, y, z have 1s in position i otherwise the result is 0. This is commonly used in Cryptographic hash functions such as SHA-256 and ensures output is influenced by majority of bits, increasing diffusion, improving resistance to attacks. Its also used in certain Error correction Codes or correction schemes where majority of values are trusted, allowing erros to be flagged based on outliers."
   ]
  },
  {
   "cell_type": "code",
   "execution_count": 221,
   "metadata": {},
   "outputs": [],
   "source": [
    "def maj(x, y, z):\n",
    "    #choose the majority of x, y, z\n",
    "    return (x & y) ^ (x & z) ^ (y & z)"
   ]
  },
  {
   "cell_type": "markdown",
   "metadata": {},
   "source": [
    "#### Step 1 Calculate the majority between x and y\n",
    "- `(x & y)` : Bitwise AND(&) between x and y give the bits where both x and y have 1 in the same position\n",
    "\n",
    "- This operation shows a majority of the two bits at each position\n",
    "#### Step 2 Calculate the majority between x and z\n",
    "- `(x & z)` : Bitwise AND(&) between x and z gives the bits where both x and z have 1 in the same position\n",
    "#### Step 3 Calculate the majority between y and z\n",
    "- `(y & z)` : Bitwise AND(&) between y and z gives the bits where both x and z have 1 in the same position\n",
    "#### Step 4 Combine results with XOR(^)\n",
    "- `(x & y) ^ (x & z) ^ (y & z)` : Bitwise XOR(^) combines the results of these three majoritys. The XOR operation ensures only the majority value of the three will be choosen\n",
    "\n",
    "- Eg. If two of the three bits are 1, the result will be 1 fot that bit position\n"
   ]
  },
  {
   "cell_type": "code",
   "execution_count": 222,
   "metadata": {},
   "outputs": [
    {
     "name": "stdout",
     "output_type": "stream",
     "text": [
      "x: 1100, y: 1010, z: 0110\n",
      "maj(x, y, z): 1110\n"
     ]
    }
   ],
   "source": [
    "#example usage:\n",
    "x = 0b1100  \n",
    "y = 0b1010  \n",
    "z = 0b0110 \n",
    "result = maj(x, y, z)\n",
    "print(f\"x: {x:04b}, y: {y:04b}, z: {z:04b}\")\n",
    "print(f\"maj(x, y, z): {result:04b}\")"
   ]
  },
  {
   "cell_type": "markdown",
   "metadata": {},
   "source": [
    "---------------------------------------------------------------------------"
   ]
  },
  {
   "cell_type": "markdown",
   "metadata": {},
   "source": [
    "### Test function\n",
    "Testing each Binary operation function using hexdecimal number representations"
   ]
  },
  {
   "cell_type": "code",
   "execution_count": 223,
   "metadata": {},
   "outputs": [
    {
     "name": "stdout",
     "output_type": "stream",
     "text": [
      "All test cases passed successfully\n"
     ]
    }
   ],
   "source": [
    "#test cases\n",
    "def test_binary_functions():\n",
    "    #test rotl using hexadecimal numbers\n",
    "    #0x01 = 0000 0001, 0x02 = 0000 0010\n",
    "    assert rotl(0x01, 1) == 0x02\n",
    "    #0x80000000 = 1000 0000 0000 0000 0000 0000 0000 0000, 0x00000001 = 0000 0000 0000 0000 0000 0000 0000 0001\n",
    "    assert rotl(0x80000000, 1) == 0x00000001\n",
    "    #0x12345678 = 0001 0010 0011 0100 0101 0110 0111 1000, 0x23456781 = 0010 0011 0100 0101 0110 0111 1000 0001 \n",
    "    assert rotl(0x12345678, 4) == 0x23456781\n",
    "\n",
    "    #test rotr using hexadecimal numbers\n",
    "    #0x01 = 0000 0001, 0x02 = 0000 0010\n",
    "    assert rotr(0x02, 1) == 0x01\n",
    "    #0x80000000 = 1000 0000 0000 0000 0000 0000 0000 0000, 0x00000001 = 0000 0000 0000 0000 0000\n",
    "    assert rotr(0x00000001, 1) == 0x80000000\n",
    "    #0x12345678 = 0001 0010 0011 0100 0101 0110 0111 1000, 0x81234567 = 1000 0001 0010 0011 0100 0101 0110 0111\n",
    "    assert rotr(0x12345678, 4) == 0x81234567\n",
    "\n",
    "    #test ch using hexadecimal numbers\n",
    "    #0xFFFFFFFF = 1111 1111 1111 1111 1111 1111 1111 1111, 0xAAAAAAAA = 1010 1010 1010 1010 1010 1010 1010 1010, 0x55555555 = 0101 0101 0101 0101 0101 0101 0101 0101\n",
    "    assert ch(0xFFFFFFFF, 0xAAAAAAAA, 0x55555555) == 0xAAAAAAAA #x is all ones, so the result is y\n",
    "    #0x00000000 = 0000 0000 0000 0000 0000 0000 0000 0000, 0xAAAAAAAA = 1010 1010 1010 1010 1010 1010 1010 1010, 0x55555555 = 0101 0101 0101 0101 0101 0101 0101 0101\n",
    "    assert ch(0x00000000, 0xAAAAAAAA, 0x55555555) == 0x55555555 #x is all zeros, so the result is z\n",
    "    #0xF0F0F0F0 = 1111 0000 1111 0000 1111 0000 1111 0000, 0xAAAAAAAA = 1010 1010 1010 1010 1010 1010 1010 1010, 0x55555555 = 0101 0101 0101 0101 0101 0101 0101 0101\n",
    "    assert ch(0xF0F0F0F0, 0xAAAAAAAA, 0x55555555) == 0xA5A5A5A5 #0xA5A5A5A5 = 1010 0101 1010 0101 1010 0101 1010 0101 (combination of y and z as x is mixed)\n",
    "\n",
    "    #test maj using hexadecimal numbers\n",
    "    #0xFFFFFFFF = 1111 1111 1111 1111 1111 1111 1111 1111, 0x00000000 = 0000 0000 0000 0000 0000 0000 0000 0000\n",
    "    assert maj(0xFFFFFFFF, 0x00000000, 0x00000000) == 0x00000000 # majority is 0x00000000 so the result is 0x00000000\n",
    "    #0xFFFFFFFF = 1111 1111 1111 1111 1111 1111 1111 1111, 0x00000000 = 0000 0000 0000 0000 0000 0000 0000 0000\n",
    "    assert maj(0xFFFFFFFF, 0xFFFFFFFF, 0x00000000) == 0xFFFFFFFF # majority is 0xFFFFFFFF so the result is 0xFFFFFFFF\n",
    "    #0xFFFFFFFF = 1111 1111 1111 1111 1111 1111 1111 1111, 0xF0F0F0F0 = 1111 0000 1111 0000 1111 0000 1111 0000\n",
    "    assert maj(0xFFFFFFFF, 0xF0F0F0F0, 0xF0F0F0F0) == 0xF0F0F0F0 # majority is 0xF0F0F0F0 so the result is 0xF0F0F0F0\n",
    "\n",
    "    print(\"All test cases passed successfully\")\n",
    "\n",
    "test_binary_functions()"
   ]
  },
  {
   "cell_type": "markdown",
   "metadata": {},
   "source": [
    "---------------------------------------------------------------------------"
   ]
  },
  {
   "cell_type": "markdown",
   "metadata": {},
   "source": [
    "### Task 1 References:\n",
    "1. FIPS PUB 180-4: Secure Hash Standard (SHS) :https://nvlpubs.nist.gov/nistpubs/FIPS/NIST.FIPS.180-4.pdf  \n",
    "2. M. A. Hossain, M. M. Alam, and M. S. Alam, \"Cryptography Encryption Technique Using Circular Bit Rotation in Binary Field,\" 2020 IEEE Region 10 Symposium (TENSYMP), Dhaka, Bangladesh, 2020: https://ieeexplore.ieee.org/document/9197845/\n",
    "3. Rotate bits of a number: https://www.geeksforgeeks.org/rotate-bits-of-an-integer/\n",
    "4. RealPython: Bitwise operators in python: https://realpython.com/python-bitwise-operators/  \n",
    "5. Understanding Bitwise Operations in Python: Cryptography, Hashing, and Real-World Applications: https://www.linkedin.com/pulse/understanding-bitwise-operations-python-cryptography-hashing-woon-sm7ec/"
   ]
  },
  {
   "cell_type": "markdown",
   "metadata": {},
   "source": [
    "---------------------------------------------------------------------------"
   ]
  },
  {
   "cell_type": "markdown",
   "metadata": {},
   "source": [
    "## Task 2: Hash Functions"
   ]
  },
  {
   "cell_type": "markdown",
   "metadata": {},
   "source": [
    "### Polynomial Rolling Hash Function\n",
    "Hashing is common practice in the world of computer science used to map data, such as strings, to numerical values. A widely used approach for hasing strings is the polynomial rolling hash function.\n",
    "This function is defined as:  \n",
    "$$H(s) = (s_1 \\times p^{(n-1)} + s_2 \\times p^{(n-2)} + ... + s_n \\times p^0) \\mod m$$\n",
    "\n",
    "- $H(s)$ is hash value of the string\n",
    "- $s1, s2, sn$ are ASCII values of characters in the string\n",
    "- $p$ is a prime base (commonly 31)\n",
    "- $m$ is the modulus value (commonly 101)\n",
    "- $n$ is the lenght of the string \n",
    "\n",
    "The Polynomial Rolling Hash Function has many use cases and is widely used in\n",
    "- String Matching Algorithms\n",
    "- Data Structures\n",
    "- Plagiarism Detection\n",
    "- Crypography"
   ]
  },
  {
   "cell_type": "code",
   "execution_count": 224,
   "metadata": {},
   "outputs": [],
   "source": [
    "def hash(s):\n",
    "    #initialise the hash function to 0\n",
    "    hashval = 0\n",
    "\n",
    "    #iterate over each character in the string\n",
    "    for c in s:\n",
    "        #compute hash using polynomial rolling hash function\n",
    "        hashval = ord(c) + 31 * hashval\n",
    "        print(f\"Character: {c}, Hash: {hashval}\")\n",
    "    \n",
    "    #apply modulo operation to keep hash within fixed range (0-100)\n",
    "    hashval =  hashval % 101\n",
    "\n",
    "    return f\"Final Hash Value: {hashval}\""
   ]
  },
  {
   "cell_type": "markdown",
   "metadata": {},
   "source": [
    "### Code Explanation"
   ]
  },
  {
   "cell_type": "markdown",
   "metadata": {},
   "source": [
    "- This variable will store the computed hash value, this will be happen as the function processes each charecter in the string."
   ]
  },
  {
   "cell_type": "code",
   "execution_count": 225,
   "metadata": {},
   "outputs": [],
   "source": [
    "hashval = 0"
   ]
  },
  {
   "cell_type": "markdown",
   "metadata": {},
   "source": [
    "### Polynomial Rolling Hash Calculation\n",
    "- This itereates over each charecter `c` in the string `s`. Each character in `s` contributes to the final hash.\n",
    "\n",
    "- `ord(c)`: Converts the character `c` into ASCII value.\n",
    "\n",
    "- `31 * hashval` : This takes the current hash and multiplies it by 31, this is a prime number commonly used for hash functions.\n",
    "\n",
    "- `ord(c) + 31 * hashval` : The full line adds the ASCII of the character to a scaled hash value, this is to ensure each character incluences the hash in differently depending on the characters position."
   ]
  },
  {
   "cell_type": "code",
   "execution_count": 226,
   "metadata": {},
   "outputs": [
    {
     "name": "stdout",
     "output_type": "stream",
     "text": [
      "Hash Value: 99162322\n"
     ]
    }
   ],
   "source": [
    "#string to be hashed\n",
    "s = \"hello\"\n",
    "\n",
    "#interate over each character in the hello\n",
    "for c in s:\n",
    "    #compute hash using polynomial rolling hash function\n",
    "    hashval = ord(c) + 31 * hashval\n",
    "\n",
    "print(f\"Hash Value: {hashval}\")"
   ]
  },
  {
   "cell_type": "markdown",
   "metadata": {},
   "source": [
    "### Modulo Operation (%101)\n",
    "- This aims to ensure the final hash is in a specified range (0-100)\n",
    "\n",
    "- This is to avoid faults like integer overflow, but also keeps the hash value compact.\n",
    "\n",
    "- The prime modulous (101) is used as it helps distribute hash values evenly, which helps reduce collisions."
   ]
  },
  {
   "cell_type": "code",
   "execution_count": 227,
   "metadata": {},
   "outputs": [
    {
     "data": {
      "text/plain": [
       "17"
      ]
     },
     "execution_count": 227,
     "metadata": {},
     "output_type": "execute_result"
    }
   ],
   "source": [
    "hashval % 101"
   ]
  },
  {
   "cell_type": "markdown",
   "metadata": {},
   "source": [
    "### Example of how function works:"
   ]
  },
  {
   "cell_type": "code",
   "execution_count": 228,
   "metadata": {},
   "outputs": [
    {
     "name": "stdout",
     "output_type": "stream",
     "text": [
      "Character: h, Hash: 104\n",
      "Character: e, Hash: 3325\n",
      "Character: l, Hash: 103183\n",
      "Character: l, Hash: 3198781\n",
      "Character: o, Hash: 99162322\n",
      "Final Hash Value: 17\n"
     ]
    }
   ],
   "source": [
    "print(hash(\"hello\"))"
   ]
  },
  {
   "cell_type": "markdown",
   "metadata": {},
   "source": [
    "Iterate over each charecter in hello applying rolling hash calculation:\n",
    "1. h (ASCII 104): hashval = 104\n",
    "2. e (ASCII 101): hashval = 101 + 31 x 104 = 3325\n",
    "3. l (ASCII 108): hashval = 108 + 31 x 3325 = 103183\n",
    "4. l (ASCII 108): hashval = 108 + 31 x 103183 = 3198781\n",
    "5. o (ASCII 111): hashval = 111 + 31 x 3198781 = 99162322\n",
    "\n",
    "Apply modulo operation:\n",
    "99162322 mod 101 = 17\n",
    "\n",
    "\"Hello\" = 17"
   ]
  },
  {
   "cell_type": "markdown",
   "metadata": {},
   "source": [
    "### Why use 31 as the Base?\n",
    "1. Efficient Computation:\n",
    "    - 31 is close to the powers of 2, this allows efficient multiplication and bitwise operations on many processors.\n",
    "2. Empirical Evidence:\n",
    "    - Many real-world applications use 31 due to it providing a good balance of speed and low collision probability.\n",
    "3. Prime Number Property:\n",
    "    - Prime numbers reduce chances of hash collisions occuring this is done by ensuring more uniform distribution of hash values"
   ]
  },
  {
   "cell_type": "markdown",
   "metadata": {},
   "source": [
    "### Why use 101 as the Modulus?\n",
    "1. Prime Numbers Improve Hash Distribution:\n",
    "    - Prime modulus ensures values are distributed evenly this inturn reduces hash collisions\n",
    "2. Keeps Hash Values Compact:\n",
    "    - Modulo operations keep hash values in a range in this case that range is 0 -100 this makes it more efficient for hashing tables."
   ]
  },
  {
   "cell_type": "markdown",
   "metadata": {},
   "source": [
    "---------------------------------------------------------------------------"
   ]
  },
  {
   "cell_type": "markdown",
   "metadata": {},
   "source": [
    "### Task 2 References:\n",
    "1. String hasing using Polynomial rolling hash function: https://www.geeksforgeeks.org/string-hashing-using-polynomial-rolling-hash-function\n",
    "2. String hashing: https://cp-algorithms.com/string/string-hashing.html\n",
    "3. Why should hash functions use a prime number modulus?: https://www.designgurus.io/answers/detail/why-should-hash-functions-use-a-prime-number-modulus\n",
    "4. Understanding Rolling Hash: A Key Component in String Matching Algorithms: https://medium.com/%40ggaappuu1234/understanding-rolling-hash-a-key-component-in-string-matching-algorithms-83236d8c4a20\n",
    "5. Introduction to Rolling Hash – Data Structures and Algorithms: https://www.geeksforgeeks.org/introduction-to-rolling-hash-data-structures-and-algorithms/\n",
    "6. On the mathematics behind rolling hashes and anti-hash tests: https://codeforces.com/blog/entry/60442"
   ]
  },
  {
   "cell_type": "markdown",
   "metadata": {},
   "source": [
    "---------------------------------------------------------------------------"
   ]
  },
  {
   "cell_type": "markdown",
   "metadata": {},
   "source": [
    "## Task 3: SHA256"
   ]
  },
  {
   "cell_type": "markdown",
   "metadata": {},
   "source": [
    "SHA-256 is a cryptographic hash function that produces a 256 bit hash value, its part of the SHA-2 family designed by NSA and used as a federal standard(FIPS-180-4)."
   ]
  },
  {
   "cell_type": "markdown",
   "metadata": {},
   "source": [
    "### Why Padding is Necessary\n",
    "SHA-256 processes messages in 512 bit blocks. Messages must be padded to:\n",
    "- Create complete 512 bit blocks\n",
    "- Include the orignal message lenght\n",
    "- Ensure the hash is computationally infeasible to reverse"
   ]
  },
  {
   "cell_type": "code",
   "execution_count": 229,
   "metadata": {},
   "outputs": [],
   "source": [
    "def sha256(file_path):\n",
    "    #read the file contents\n",
    "    with open(file_path, 'r') as f:\n",
    "        binary_content = f.read().replace(' ', '')\n",
    "    \n",
    "    #convert binary string to bytes\n",
    "    data = bytes(int(binary_content[i:i+8], 2) for i in range(0, len(binary_content), 8))\n",
    "    \n",
    "    #calculate original length in bits\n",
    "    orig_len = len(data) * 8\n",
    "    \n",
    "    #start padding by adding the 1 bit (0x80 in hex)\n",
    "    pad_data = data + b'\\x80'\n",
    "    \n",
    "    #calculate padding length to make total length\n",
    "    pad_len = (56 - (len(pad_data) % 64)) % 64\n",
    "    \n",
    "    #add zero padding\n",
    "    pad_data += b'\\x00' * pad_len\n",
    "    \n",
    "    #append original length as 64-bit big-endian unsigned integer\n",
    "    pad_data += orig_len.to_bytes(8, 'big')\n",
    "    \n",
    "    #print padding in hex\n",
    "    padding_hex = \" \".join(f\"{byte:02x}\" for byte in pad_data[len(data):])\n",
    "    print(padding_hex)\n",
    "    "
   ]
  },
  {
   "cell_type": "code",
   "execution_count": 230,
   "metadata": {},
   "outputs": [
    {
     "name": "stdout",
     "output_type": "stream",
     "text": [
      "80 00 00 00 00 00 00 00 00 00 00 00 00 00 00 00 00 00 00 00 00 00 00 00 00 00 00 00 00 00 00 00 00 00 00 00 00 00 00 00 00 00 00 00 00 00 00 00 00 00 00 00 00 00 00 00 00 00 00 00 18\n"
     ]
    }
   ],
   "source": [
    "file_path = \"test.txt\"\n",
    "sha256(file_path)"
   ]
  },
  {
   "cell_type": "markdown",
   "metadata": {},
   "source": [
    "### SHA-256 Padding Specification (FIPS-180-4)\n",
    "The padding process consists of 3 steps:\n",
    "#### Step 1: Append '1' bit\n",
    "add a single '1' bit to the end of the message\n",
    "- in byte format: 0x80 (100000000 in binary)\n",
    "#### Step 2: Append '0' bits\n",
    "Add enough 0 bits so the total lenght is congruent to 449 mod 512\n",
    "- This leaves exactly 64 bits for the lenght information\n",
    "- Formula: (448-(current_lenght + 1)) mod 512\n",
    "#### Step 3: Append lenght\n",
    "Add the orignal message lenght as a 64 bit big endian integer\n",
    "- Represents the lenght in bits\n",
    "- Allows messages up to 2^64 - 1 bits long"
   ]
  },
  {
   "cell_type": "markdown",
   "metadata": {},
   "source": [
    "### Code explanation"
   ]
  },
  {
   "cell_type": "code",
   "execution_count": 231,
   "metadata": {},
   "outputs": [
    {
     "name": "stdout",
     "output_type": "stream",
     "text": [
      "Step 1: Reading file contents\n",
      "Original Content: 01100001 01100010 01100011\n",
      "Binary Content: 011000010110001001100011\n"
     ]
    }
   ],
   "source": [
    "# Step 1: Read and Process File\n",
    "print(\"Step 1: Reading file contents\")\n",
    "#read the file contents\n",
    "with open(file_path, 'r') as f:\n",
    "    original_content = f.read()\n",
    "    binary_content = original_content.replace(' ', '')\n",
    "\n",
    "#convert to binary contents \n",
    "print (f\"Original Content: {original_content}\")\n",
    "print (f\"Binary Content: {binary_content}\")"
   ]
  },
  {
   "cell_type": "code",
   "execution_count": 232,
   "metadata": {},
   "outputs": [
    {
     "name": "stdout",
     "output_type": "stream",
     "text": [
      "Step 2: Converting binary string to bytes\n",
      "Binary: 01100001 -> Decimal: 97 -> Hex: 61\n",
      "Binary: 01100010 -> Decimal: 98 -> Hex: 62\n",
      "Binary: 01100011 -> Decimal: 99 -> Hex: 63\n"
     ]
    }
   ],
   "source": [
    "# Step 2: Convert Binary String to Bytes\n",
    "print(\"Step 2: Converting binary string to bytes\")\n",
    "data = bytes(int(binary_content[i:i+8], 2) for i in range(0, len(binary_content), 8))\n",
    "\n",
    "for i in range(0, len(binary_content), 8):\n",
    "    binary_chunk = binary_content[i:i+8]\n",
    "    byte_value = int(binary_chunk, 2)\n",
    "    print(f\"Binary: {binary_chunk} -> Decimal: {byte_value} -> Hex: {byte_value:02x}\")"
   ]
  },
  {
   "cell_type": "code",
   "execution_count": 233,
   "metadata": {},
   "outputs": [
    {
     "name": "stdout",
     "output_type": "stream",
     "text": [
      "Step 3: Calculating original length\n",
      "Data length: 3 bytes = 24 bits\n",
      "\n"
     ]
    }
   ],
   "source": [
    "# Step 3: Calculate Original Length\n",
    "print(\"Step 3: Calculating original length\")\n",
    "orig_len = len(data) * 8\n",
    "print(f\"Data length: {len(data)} bytes = {orig_len} bits\\n\")"
   ]
  },
  {
   "cell_type": "code",
   "execution_count": 234,
   "metadata": {},
   "outputs": [
    {
     "name": "stdout",
     "output_type": "stream",
     "text": [
      "Step 4: Adding '1' bit (0x80)\n",
      "0x80 in binary: 10000000\n",
      "Data after adding 0x80: b'abc\\x80'\n",
      "\n"
     ]
    }
   ],
   "source": [
    "# Step 4: Add '1 Bit\n",
    "print(\"Step 4: Adding '1' bit (0x80)\")\n",
    "pad_data = data + b'\\x80'\n",
    "print(f\"0x80 in binary: {0x80:08b}\")\n",
    "print(f\"Data after adding 0x80: {pad_data}\\n\")"
   ]
  },
  {
   "cell_type": "code",
   "execution_count": 235,
   "metadata": {},
   "outputs": [
    {
     "name": "stdout",
     "output_type": "stream",
     "text": [
      "Step 5: Calculating zero padding length\n",
      "Current length: 4 bytes\n",
      "Target length: 56 bytes (448 bits)\n",
      "Padding needed: 52 bytes\n",
      "\n"
     ]
    }
   ],
   "source": [
    "# Step 5: Calculate Zero Padding\n",
    "print(\"Step 5: Calculating zero padding length\")\n",
    "pad_len = (56 - (len(pad_data) % 64)) % 64\n",
    "print(f\"Current length: {len(pad_data)} bytes\")\n",
    "print(f\"Target length: 56 bytes (448 bits)\")\n",
    "print(f\"Padding needed: {pad_len} bytes\\n\")"
   ]
  },
  {
   "cell_type": "code",
   "execution_count": 236,
   "metadata": {},
   "outputs": [
    {
     "name": "stdout",
     "output_type": "stream",
     "text": [
      "Step 6: Adding zero padding\n",
      "Data after zero padding: length = 56 bytes\n",
      "\n"
     ]
    }
   ],
   "source": [
    "# Step 6: Add Zero Padding\n",
    "print(\"Step 6: Adding zero padding\")\n",
    "pad_data += b'\\x00' * pad_len\n",
    "print(f\"Data after zero padding: length = {len(pad_data)} bytes\\n\")"
   ]
  },
  {
   "cell_type": "code",
   "execution_count": 237,
   "metadata": {},
   "outputs": [
    {
     "name": "stdout",
     "output_type": "stream",
     "text": [
      "Step 7: Adding original length as 64-bit big-endian\n",
      "Original length: 24 bits\n",
      "As 64-bit big-endian: 00 00 00 00 00 00 00 18\n",
      "Final padded data length: 64 bytes\n",
      "\n"
     ]
    }
   ],
   "source": [
    "# Step 7: Add Length\n",
    "print(\"Step 7: Adding original length as 64-bit big-endian\")\n",
    "length_bytes = orig_len.to_bytes(8, 'big')\n",
    "print(f\"Original length: {orig_len} bits\")\n",
    "print(f\"As 64-bit big-endian: {' '.join(f'{b:02x}' for b in length_bytes)}\")\n",
    "pad_data += length_bytes\n",
    "print(f\"Final padded data length: {len(pad_data)} bytes\\n\")"
   ]
  },
  {
   "cell_type": "code",
   "execution_count": 238,
   "metadata": {},
   "outputs": [
    {
     "name": "stdout",
     "output_type": "stream",
     "text": [
      "Step 8: Final padding in hex\n",
      "80 00 00 00 00 00 00 00 00 00 00 00 00 00 00 00 00 00 00 00 00 00 00 00 00 00 00 00 00 00 00 00 00 00 00 00 00 00 00 00 00 00 00 00 00 00 00 00 00 00 00 00 00 00 00 00 00 00 00 00 18\n"
     ]
    }
   ],
   "source": [
    "# Step 8: Print Final Padding\n",
    "print(\"Step 8: Final padding in hex\")\n",
    "padding_hex = \" \".join(f\"{byte:02x}\" for byte in pad_data[len(data):])\n",
    "print(padding_hex)"
   ]
  },
  {
   "cell_type": "markdown",
   "metadata": {},
   "source": [
    "### Example Analysis\n",
    "For the message \"abc\" (binary: 01100001 01100010 01100011)\n",
    "1. Orignal: 3 bytes = 24 bits\n",
    "2. After '1' bit: 24 + 1 = 25 bits\n",
    "3. Padding required: 488 - 25 = 423 bits\n",
    "4. Zero padding: 423 bits = 52 bytes\n",
    "5. Lenght to append: 8 bytes\n",
    "6. Total: 3 + 1 + 52 + 8 = 64 bytes\n",
    "\n",
    "Final padding is: 80 00 00 00 00 00 00 00 00 00 00 00 00 00 00 00\n",
    "00 00 00 00 00 00 00 00 00 00 00 00 00 00 00 00\n",
    "00 00 00 00 00 00 00 00 00 00 00 00 00 00 00 00\n",
    "00 00 00 00 00 00 00 00 00 18"
   ]
  },
  {
   "cell_type": "markdown",
   "metadata": {},
   "source": [
    "---------------------------------------------------------------------------"
   ]
  },
  {
   "cell_type": "markdown",
   "metadata": {},
   "source": [
    "### Task 3 References:\n",
    "1. FIPS PUB 180-4: Secure Hash Standard (SHS): https://nvlpubs.nist.gov/nistpubs/FIPS/NIST.FIPS.180-4.pdf  \n",
    "2. Schneier, B.(2015). Applied Cryptography: https://www.schneier.com/books/applied-cryptography/\n",
    "3. Menezes, A. et al.(1996) Handbook of Applied Cryptography: https://galois.azc.uam.mx/mate/propaganda/Menezes.pdf\n",
    "4. NIST Special Publication 800-107: Recommendation for Applications Using Approved Hash Algorithms"
   ]
  },
  {
   "cell_type": "markdown",
   "metadata": {},
   "source": [
    "---------------------------------------------------------------------------"
   ]
  },
  {
   "cell_type": "markdown",
   "metadata": {},
   "source": [
    "## Task 4: Prime Numbers"
   ]
  },
  {
   "cell_type": "markdown",
   "metadata": {},
   "source": [
    "### Algoritm 1: Sieve of Eratosthenes"
   ]
  },
  {
   "cell_type": "markdown",
   "metadata": {},
   "source": [
    "### How it works\n",
    "Find the first n prime numbers using the Sieve of Eratosthenes algorithm.\n",
    "\n",
    "Algorithm Explanation\n",
    "1. Create a boolean array for numbers from 2 to an estimated limit\n",
    "2. Mark all multiples of each prime starting from 2\n",
    "3. All unmarked numbers at the end are prime\n",
    "4. Extract the first n prime numbers from the sieve\n",
    "\n",
    "Advantages: \n",
    "- Very efficient for finding many primes in a range\n",
    "- Significantly faster that trial division for large n\n",
    "- Classic algorithm known for it efficiency\n",
    "\n",
    "Disadvantages:\n",
    "- Requires more memory than trial division\n",
    "- Need to estimate upper limit for n primes"
   ]
  },
  {
   "cell_type": "code",
   "execution_count": 239,
   "metadata": {},
   "outputs": [],
   "source": [
    "def sieve_of_eratosthenes(n):\n",
    "    #estimate upper limit for n prime number\n",
    "    #using prime number theorem approximation\n",
    "    if n < 6:\n",
    "        limit = 15\n",
    "    else:\n",
    "        limit = int(n * (math.log(n) + math.log(math.log(n))))\n",
    "\n",
    "    #create sieve array - true means prime\n",
    "    sieve = [True] * (limit + 1)\n",
    "    sieve[0] = sieve[1] = False #0 and 1 are not prime\n",
    "\n",
    "    #mark multiples of each prime\n",
    "    for i in range(2, int(math.sqrt(limit)) + 1):\n",
    "        if sieve[i]:\n",
    "            #mark all multiples of i as not prime\n",
    "            for j in range(i * i, limit + 1, i):\n",
    "                sieve[j] = False\n",
    "\n",
    "    #collect prime numbers\n",
    "    primes = []\n",
    "    current = 2\n",
    "    while len(primes) < n and current <= limit:\n",
    "        if sieve[current]:\n",
    "            primes.append(current)\n",
    "        current += 1\n",
    "    return primes"
   ]
  },
  {
   "cell_type": "code",
   "execution_count": 240,
   "metadata": {},
   "outputs": [
    {
     "name": "stdout",
     "output_type": "stream",
     "text": [
      "Finding first 100 prime numbers using Sieve of Eratosthenes\n",
      "First 100 prime numbers: [2, 3, 5, 7, 11, 13, 17, 19, 23, 29, 31, 37, 41, 43, 47, 53, 59, 61, 67, 71, 73, 79, 83, 89, 97, 101, 103, 107, 109, 113, 127, 131, 137, 139, 149, 151, 157, 163, 167, 173, 179, 181, 191, 193, 197, 199, 211, 223, 227, 229, 233, 239, 241, 251, 257, 263, 269, 271, 277, 281, 283, 293, 307, 311, 313, 317, 331, 337, 347, 349, 353, 359, 367, 373, 379, 383, 389, 397, 401, 409, 419, 421, 431, 433, 439, 443, 449, 457, 461, 463, 467, 479, 487, 491, 499, 503, 509, 521, 523, 541] \n",
      "in 0.0003 seconds\n"
     ]
    }
   ],
   "source": [
    "print(\"Finding first 100 prime numbers using Sieve of Eratosthenes\")\n",
    "start_time = time.time()\n",
    "n = 100\n",
    "primes = sieve_of_eratosthenes(n)\n",
    "print(f\"First {n} prime numbers: {primes} \\nin {time.time() - start_time:.4f} seconds\")"
   ]
  },
  {
   "cell_type": "markdown",
   "metadata": {},
   "source": [
    "---------------------------------------------------------------------------"
   ]
  },
  {
   "cell_type": "markdown",
   "metadata": {},
   "source": [
    "### Algorithm 2: Trial Division Method"
   ]
  },
  {
   "cell_type": "markdown",
   "metadata": {},
   "source": [
    "### How it works\n",
    "Find the first n prime numbers using trial division algorithm\n",
    "\n",
    "Algorithm Explanation:\n",
    "1. Start checking from 2 (first prime)\n",
    "2. For each number check if its divisible by any number from 2 to sqrt(n)\n",
    "3. If no divisors found its a prime\n",
    "4. Continue until we find n primes\n",
    "\n",
    "Advantages:\n",
    "- Simple to implement\n",
    "- Small memory requirment\n",
    "- Can find primes one by one as needed\n",
    "\n",
    "Disadvantages:\n",
    "- Slower that other algorithms for large n\n",
    "- Redundant calculations (checks same number multiple times)"
   ]
  },
  {
   "cell_type": "code",
   "execution_count": 241,
   "metadata": {},
   "outputs": [],
   "source": [
    "def trial_division(n):\n",
    "    primes = []\n",
    "    current = 2\n",
    "    while len(primes) < n:\n",
    "        is_prime = True\n",
    "        #optimise by only checking to square root of current num\n",
    "        for i in range(2, int(math.sqrt(current))+1):\n",
    "            if current % i == 0:\n",
    "                is_prime = False\n",
    "                break\n",
    "        if is_prime:\n",
    "            primes.append(current)\n",
    "        #optimise after 2 only check odd numbers\n",
    "        current += 1 if current == 2 else 2\n",
    "\n",
    "    return primes"
   ]
  },
  {
   "cell_type": "code",
   "execution_count": 242,
   "metadata": {},
   "outputs": [
    {
     "name": "stdout",
     "output_type": "stream",
     "text": [
      "Finding first 100 prime numbers using trial division\n",
      "First 100 prime numbers: [2, 3, 5, 7, 11, 13, 17, 19, 23, 29, 31, 37, 41, 43, 47, 53, 59, 61, 67, 71, 73, 79, 83, 89, 97, 101, 103, 107, 109, 113, 127, 131, 137, 139, 149, 151, 157, 163, 167, 173, 179, 181, 191, 193, 197, 199, 211, 223, 227, 229, 233, 239, 241, 251, 257, 263, 269, 271, 277, 281, 283, 293, 307, 311, 313, 317, 331, 337, 347, 349, 353, 359, 367, 373, 379, 383, 389, 397, 401, 409, 419, 421, 431, 433, 439, 443, 449, 457, 461, 463, 467, 479, 487, 491, 499, 503, 509, 521, 523, 541] \n",
      "in 0.0006 seconds\n"
     ]
    }
   ],
   "source": [
    "print(\"Finding first 100 prime numbers using trial division\")\n",
    "start_time = time.time()\n",
    "n = 100\n",
    "primes = trial_division(n)\n",
    "print(f\"First {n} prime numbers: {primes} \\nin {time.time() - start_time:.4f} seconds\")"
   ]
  },
  {
   "cell_type": "markdown",
   "metadata": {},
   "source": [
    "---------------------------------------------------------------------------"
   ]
  },
  {
   "cell_type": "markdown",
   "metadata": {},
   "source": [
    "1. Sieve of Eratosthenes: https://en.wikipedia.org/wiki/Sieve_of_Eratosthenes\n",
    "2. Prime Number in Python: https://www.ccbp.in/blog/articles/prime-number-in-python\n",
    "3. Trial division(article) Khan academy : https://www.khanacademy.org/computing/computer-science/cryptography/comp-number-theory/a/trial-division\n",
    "4. Fastest Algoritm to Find Prime Numbers, Baeldung: https://www.baeldung.com/cs/prime-number-algorithms\n",
    "5. Check for Prime Number, GeeksforGeeks: https://www.geeksforgeeks.org/check-for-prime-number/\n"
   ]
  },
  {
   "cell_type": "markdown",
   "metadata": {},
   "source": [
    "---------------------------------------------------------------------------"
   ]
  },
  {
   "cell_type": "markdown",
   "metadata": {},
   "source": [
    "## Task 5: Roots"
   ]
  },
  {
   "cell_type": "code",
   "execution_count": 243,
   "metadata": {},
   "outputs": [],
   "source": [
    "def fractional_bits_of_sqrt(n, bits=32):\n",
    "    #calculate square root\n",
    "    sqrt = math.sqrt(n)\n",
    "    \n",
    "    #extract fractional part\n",
    "    integer = int(sqrt)\n",
    "    fraction = sqrt - integer\n",
    "\n",
    "    #convert to binary\n",
    "    binary_bits = []\n",
    "    current_fraction = fraction\n",
    "    for _ in range(bits):\n",
    "        #multiply by 2\n",
    "        current_fraction *= 2\n",
    "        #get integer part\n",
    "        bit = int(current_fraction)\n",
    "        binary_bits.append(str(bit))\n",
    "        #keep only the fractional part\n",
    "        current_fraction -= bit\n",
    "\n",
    "    return ''.join(binary_bits)\n",
    "        "
   ]
  },
  {
   "cell_type": "code",
   "execution_count": 244,
   "metadata": {},
   "outputs": [],
   "source": [
    "def get_bits(primes):\n",
    "    results = []\n",
    "    #iterate over each prime number\n",
    "    for prime in primes:\n",
    "        #get 32 bits of fractional part\n",
    "        binary_fraction = fractional_bits_of_sqrt(prime, 32)\n",
    "\n",
    "        results.append({\n",
    "            'prime': prime,\n",
    "            'sqrt_fraction': binary_fraction,\n",
    "        })\n",
    "    return results"
   ]
  },
  {
   "cell_type": "code",
   "execution_count": 245,
   "metadata": {},
   "outputs": [
    {
     "name": "stdout",
     "output_type": "stream",
     "text": [
      "Fractional bits of square root of first 100 prime numbers:\n",
      "Prime: 2, Fractional bits of sqrt: 01101010000010011110011001100111\n",
      "Prime: 3, Fractional bits of sqrt: 10111011011001111010111010000101\n",
      "Prime: 5, Fractional bits of sqrt: 00111100011011101111001101110010\n",
      "Prime: 7, Fractional bits of sqrt: 10100101010011111111010100111010\n",
      "Prime: 11, Fractional bits of sqrt: 01010001000011100101001001111111\n",
      "Prime: 13, Fractional bits of sqrt: 10011011000001010110100010001100\n",
      "Prime: 17, Fractional bits of sqrt: 00011111100000111101100110101011\n",
      "Prime: 19, Fractional bits of sqrt: 01011011111000001100110100011001\n",
      "Prime: 23, Fractional bits of sqrt: 11001011101110111001110101011101\n",
      "Prime: 29, Fractional bits of sqrt: 01100010100110100010100100101010\n",
      "Prime: 31, Fractional bits of sqrt: 10010001010110010000000101011010\n",
      "Prime: 37, Fractional bits of sqrt: 00010101001011111110110011011000\n",
      "Prime: 41, Fractional bits of sqrt: 01100111001100110010011001100111\n",
      "Prime: 43, Fractional bits of sqrt: 10001110101101000100101010000111\n",
      "Prime: 47, Fractional bits of sqrt: 11011011000011000010111000001101\n",
      "Prime: 53, Fractional bits of sqrt: 01000111101101010100100000011101\n",
      "Prime: 59, Fractional bits of sqrt: 10101110010111111001000101010110\n",
      "Prime: 61, Fractional bits of sqrt: 11001111011011001000010111010011\n",
      "Prime: 67, Fractional bits of sqrt: 00101111011100110100011101111101\n",
      "Prime: 71, Fractional bits of sqrt: 01101101000110000010011011001010\n",
      "Prime: 73, Fractional bits of sqrt: 10001011010000111101010001010111\n",
      "Prime: 79, Fractional bits of sqrt: 11100011011000001011010110010110\n",
      "Prime: 83, Fractional bits of sqrt: 00011100010001010110000000000010\n",
      "Prime: 89, Fractional bits of sqrt: 01101111000110010110001100110001\n",
      "Prime: 97, Fractional bits of sqrt: 11011001010011101011111010110001\n",
      "Prime: 101, Fractional bits of sqrt: 00001100110001001010011000010001\n",
      "Prime: 103, Fractional bits of sqrt: 00100110000111011100000111110010\n",
      "Prime: 107, Fractional bits of sqrt: 01011000000101011010011110111110\n",
      "Prime: 109, Fractional bits of sqrt: 01110000101101111110110101100111\n",
      "Prime: 113, Fractional bits of sqrt: 10100001010100010011110001101001\n",
      "Prime: 127, Fractional bits of sqrt: 01000100111110010011011000110101\n",
      "Prime: 131, Fractional bits of sqrt: 01110010000011011100110111111101\n",
      "Prime: 137, Fractional bits of sqrt: 10110100011001110011011010011110\n",
      "Prime: 139, Fractional bits of sqrt: 11001010001100100000101101110101\n",
      "Prime: 149, Fractional bits of sqrt: 00110100111000001101010000101110\n",
      "Prime: 151, Fractional bits of sqrt: 01001001110001111101100110111101\n",
      "Prime: 157, Fractional bits of sqrt: 10000111101010111011100111110010\n",
      "Prime: 163, Fractional bits of sqrt: 11000100011000111010001011111100\n",
      "Prime: 167, Fractional bits of sqrt: 11101100001111111100001111110011\n",
      "Prime: 173, Fractional bits of sqrt: 00100111001001110111111101101101\n",
      "Prime: 179, Fractional bits of sqrt: 01100001000010111110101111110010\n",
      "Prime: 181, Fractional bits of sqrt: 01110100001000001011010010011110\n",
      "Prime: 191, Fractional bits of sqrt: 11010001111111011000101000110011\n",
      "Prime: 193, Fractional bits of sqrt: 11100100011101110011010110010100\n",
      "Prime: 197, Fractional bits of sqrt: 00001001001000011001011111110110\n",
      "Prime: 199, Fractional bits of sqrt: 00011011010100110000110010010101\n",
      "Prime: 211, Fractional bits of sqrt: 10000110100111010110001101000010\n",
      "Prime: 223, Fractional bits of sqrt: 11101110111001010010111001001111\n",
      "Prime: 227, Fractional bits of sqrt: 00010001000001110110011010001001\n",
      "Prime: 229, Fractional bits of sqrt: 00100001111110111010001101111011\n",
      "Prime: 233, Fractional bits of sqrt: 01000011101010111001111110110110\n",
      "Prime: 239, Fractional bits of sqrt: 01110101101010011111100100011101\n",
      "Prime: 241, Fractional bits of sqrt: 10000110001100000101000000011001\n",
      "Prime: 251, Fractional bits of sqrt: 11010111110011011000000101110011\n",
      "Prime: 257, Fractional bits of sqrt: 00000111111111100000000011111111\n",
      "Prime: 263, Fractional bits of sqrt: 00110111100111110101000100111111\n",
      "Prime: 269, Fractional bits of sqrt: 01100110101101100101000110101000\n",
      "Prime: 271, Fractional bits of sqrt: 01110110010010101011100001000010\n",
      "Prime: 277, Fractional bits of sqrt: 10100100101100000110101111100001\n",
      "Prime: 281, Fractional bits of sqrt: 11000011010101111000110000010101\n",
      "Prime: 283, Fractional bits of sqrt: 11010010100101100010101001010011\n",
      "Prime: 293, Fractional bits of sqrt: 00011110000000111001111101000000\n",
      "Prime: 307, Fractional bits of sqrt: 10000101011110110111101111101110\n",
      "Prime: 311, Fractional bits of sqrt: 10100010100110111111001011011110\n",
      "Prime: 313, Fractional bits of sqrt: 10110001000110100011001011101000\n",
      "Prime: 317, Fractional bits of sqrt: 11001101111100110100111010000000\n",
      "Prime: 331, Fractional bits of sqrt: 00110001100000110000010000100110\n",
      "Prime: 337, Fractional bits of sqrt: 01011011100010010000100100101011\n",
      "Prime: 347, Fractional bits of sqrt: 10100000110000000110101000010011\n",
      "Prime: 349, Fractional bits of sqrt: 10101110011110011000010000101111\n",
      "Prime: 353, Fractional bits of sqrt: 11001001110011011010011010001001\n",
      "Prime: 359, Fractional bits of sqrt: 11110010100000011111001000111001\n",
      "Prime: 367, Fractional bits of sqrt: 00101000010000010010010110010010\n",
      "Prime: 373, Fractional bits of sqrt: 01010000001011100110010011011011\n",
      "Prime: 379, Fractional bits of sqrt: 01110111110010011100001000010001\n",
      "Prime: 383, Fractional bits of sqrt: 10010010000001001100110110011101\n",
      "Prime: 389, Fractional bits of sqrt: 10111001000110111111011001100011\n",
      "Prime: 397, Fractional bits of sqrt: 11101100110000111000110010011101\n",
      "Prime: 401, Fractional bits of sqrt: 00000110011001010110000010010101\n",
      "Prime: 409, Fractional bits of sqrt: 00111001010001111001001110000001\n",
      "Prime: 419, Fractional bits of sqrt: 01111000001100000111011010010111\n",
      "Prime: 421, Fractional bits of sqrt: 10000100101011100100101101111100\n",
      "Prime: 431, Fractional bits of sqrt: 11000010101100101011011101010101\n",
      "Prime: 433, Fractional bits of sqrt: 11001111000000111101001000001110\n",
      "Prime: 439, Fractional bits of sqrt: 11110011110010111011000100010111\n",
      "Prime: 443, Fractional bits of sqrt: 00001100001011010011101101001011\n",
      "Prime: 449, Fractional bits of sqrt: 00110000100010101111000101100001\n",
      "Prime: 457, Fractional bits of sqrt: 01100000101001111010100110011000\n",
      "Prime: 461, Fractional bits of sqrt: 01111000100011011001100000010010\n",
      "Prime: 463, Fractional bits of sqrt: 10000100011101101001101101000010\n",
      "Prime: 467, Fractional bits of sqrt: 10011100001101001111000001100010\n",
      "Prime: 479, Fractional bits of sqrt: 11100010110101010110010011000100\n",
      "Prime: 487, Fractional bits of sqrt: 00010001011011010111010111111101\n",
      "Prime: 491, Fractional bits of sqrt: 00101000100101001100000100000111\n",
      "Prime: 499, Fractional bits of sqrt: 01010110100110110101100011000110\n",
      "Prime: 503, Fractional bits of sqrt: 01101101011110110011100100111001\n",
      "Prime: 509, Fractional bits of sqrt: 10001111100111111000110110111011\n",
      "Prime: 521, Fractional bits of sqrt: 11010011010011110000001111001101\n",
      "Prime: 523, Fractional bits of sqrt: 11011110100000110111001011101111\n",
      "Prime: 541, Fractional bits of sqrt: 01000010011010000111101000111001\n"
     ]
    }
   ],
   "source": [
    "primes = sieve_of_eratosthenes(100)\n",
    "sqrt_bits = get_bits(primes)\n",
    "print(\"Fractional bits of square root of first 100 prime numbers:\")\n",
    "for result in sqrt_bits:\n",
    "    prime = result['prime']\n",
    "    sqrt_fraction = result['sqrt_fraction']\n",
    "    print(f\"Prime: {prime}, Fractional bits of sqrt: {sqrt_fraction}\")"
   ]
  },
  {
   "cell_type": "markdown",
   "metadata": {},
   "source": [
    "---------------------------------------------------------------------------"
   ]
  },
  {
   "cell_type": "markdown",
   "metadata": {},
   "source": [
    "## Task 6: Proof of Work"
   ]
  },
  {
   "cell_type": "code",
   "execution_count": 246,
   "metadata": {},
   "outputs": [],
   "source": [
    "def count_leading_zeros(word):\n",
    "    #get the SHA-256 hash of the word\n",
    "    hash_object = hashlib.sha256(word.encode('utf-8'))\n",
    "    hash_digest = hash_object.digest()\n",
    "\n",
    "    #count leading zeros\n",
    "    leading_zeros = 0\n",
    "    for byte in hash_digest:\n",
    "        #process each byte\n",
    "        for bit_position in range(8):\n",
    "            #check if the bit is 0\n",
    "            if not (byte & (128 >> bit_position)):\n",
    "                leading_zeros += 1\n",
    "            else:\n",
    "                #stop counting at first 1\n",
    "                return leading_zeros\n",
    "    #return total leading zeros\n",
    "    return leading_zeros"
   ]
  },
  {
   "cell_type": "code",
   "execution_count": 247,
   "metadata": {},
   "outputs": [],
   "source": [
    "def most_leading_zeros(n=1):\n",
    "    #set the dictionary file path\n",
    "    dictionary_file = 'words.txt'\n",
    "    #open dictionary file\n",
    "    with open(dictionary_file, 'r') as f:\n",
    "        words = [line.strip() for line in f if line.strip()]\n",
    "\n",
    "    word_zeros = []\n",
    "\n",
    "    #iterate over each word\n",
    "    for word in words:\n",
    "        #make all words lowercase has more leading zeros\n",
    "        #word = word.lower()\n",
    "        #count leading zeros\n",
    "        zeros = count_leading_zeros(word)\n",
    "        word_zeros.append((word, zeros))\n",
    "\n",
    "    #sort by leading zeros\n",
    "    word_zeros.sort(key=lambda x: x[1], reverse=True)\n",
    "\n",
    "    return word_zeros[:n]"
   ]
  },
  {
   "cell_type": "code",
   "execution_count": 248,
   "metadata": {},
   "outputs": [
    {
     "name": "stdout",
     "output_type": "stream",
     "text": [
      "Top 10 words with most leading zeros:\n",
      "Word: APPLICANT, Leading Zeros: 16\n",
      "Word: ANACHRONISTICALLY, Leading Zeros: 15\n",
      "Word: NECK, Leading Zeros: 14\n",
      "Word: DRYLY, Leading Zeros: 13\n",
      "Word: METAMORPHOSIS, Leading Zeros: 13\n",
      "Word: PLATOON, Leading Zeros: 13\n",
      "Word: SURGERY, Leading Zeros: 13\n",
      "Word: BERESFORD, Leading Zeros: 12\n",
      "Word: INTERFACED, Leading Zeros: 12\n",
      "Word: POISONS, Leading Zeros: 12\n"
     ]
    }
   ],
   "source": [
    "top_10_words = most_leading_zeros(10)\n",
    "print(\"Top 10 words with most leading zeros:\")\n",
    "for word, zeros in top_10_words:\n",
    "    print(f\"Word: {word}, Leading Zeros: {zeros}\")"
   ]
  },
  {
   "cell_type": "markdown",
   "metadata": {},
   "source": [
    "---------------------------------------------------------------------------"
   ]
  },
  {
   "cell_type": "markdown",
   "metadata": {},
   "source": [
    "## Task 7: Turing Machines"
   ]
  },
  {
   "cell_type": "markdown",
   "metadata": {},
   "source": [
    "---------------------------------------------------------------------------"
   ]
  },
  {
   "cell_type": "markdown",
   "metadata": {},
   "source": [
    "## Task 8: Computational Complexity"
   ]
  },
  {
   "cell_type": "markdown",
   "metadata": {},
   "source": [
    "---------------------------------------------------------------------------"
   ]
  },
  {
   "cell_type": "markdown",
   "metadata": {},
   "source": [
    "## End"
   ]
  }
 ],
 "metadata": {
  "kernelspec": {
   "display_name": "Python 3",
   "language": "python",
   "name": "python3"
  },
  "language_info": {
   "codemirror_mode": {
    "name": "ipython",
    "version": 3
   },
   "file_extension": ".py",
   "mimetype": "text/x-python",
   "name": "python",
   "nbconvert_exporter": "python",
   "pygments_lexer": "ipython3",
   "version": "3.12.1"
  }
 },
 "nbformat": 4,
 "nbformat_minor": 2
}
